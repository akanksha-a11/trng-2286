{
 "cells": [
  {
   "cell_type": "markdown",
   "id": "8bbd763b",
   "metadata": {},
   "source": [
    "# RDD\n",
    "\n",
    "an RDD is the fundamental data structure of Apache Spark. It provised low level data abstraction. It's a fault-tolerant, distributed collection of elements that can be operated on in parallel.\n",
    "\n",
    "**Key Characteristics:**\n",
    "\n",
    "- Immutable\n",
    "- Lazy evaluation\n",
    "- Fault tolerant (via lineage info)\n",
    "- Partitioned across cluster nodes\n",
    "- Can be cached in memory\n",
    "\n",
    "### SparkContext and SparkConf\n",
    "\n",
    "\n",
    "SparkContext is the foundational entry point for any Apache Spark application. It serves as the primary connection to a Spark cluster and is responsible for managing resources and orchestrating distributed computations.\n",
    "\n",
    "**Key Aspects:**\n",
    "\n",
    "- Cluster Connection: It establishes and maintains the connection between your Spark application (the driver program) and the Spark cluster\n",
    "- Resource Management: SparkContext interacts with the cluster manager to acquire and manage the computational resources (executors, memory, CPU cores) needed for your application's tasks.\n",
    "- RDD Creation: SparkContext was the primary way to create Resilient Distributed Datasets (RDDs), which are the fundamental low-level data abstraction in Spark.\n",
    "\n",
    "#### `SparkConf`\n",
    "\n",
    "SparkConf is a configuration class used to set various Spark properties and parameters for a Spark application. It allows you to define settings such as the application name, the master URL (where the Spark cluster is located), memory allocations for executors, number of CPU cores, and other specific configurations that control Spark's behavior. A SparkConf object is typically used to initialize a SparkContext or SparkSession, providing the necessary environment details for the application to run on the cluster.\n",
    "\n",
    "**Common settings:**\n",
    "\n",
    "- setMaster(\"local[*]\") – Use local mode with all cores\n",
    "- setAppName(\"RDDExample\") – Application name\n",
    "\n",
    "### transformations\n",
    "\n",
    "Transformations create a new RDD from an existing one. They are lazy – not executed until an action is triggered. They are characterized by their lazy evaluation, meaning they do not immediately execute when called. Instead, Spark builds a Directed Acyclic Graph (DAG) of the computations, which represents the lineage of transformations. \n",
    "\n",
    "| Transformation  | Description                                          |\n",
    "| --------------- | ---------------------------------------------------- |\n",
    "| `map(func)`     | Returns a new RDD by applying `func` to each element |\n",
    "| `filter(func)`  | Filters elements for which `func` returns true       |\n",
    "| `flatMap(func)` | Like map but flattens the result                     |\n",
    "| `distinct()`    | Removes duplicates                                   |\n",
    "| `union(rdd)`    | Combines two RDDs                                    |\n",
    "| `groupByKey()`  | Groups values with same key                          |\n",
    "| `reduceByKey()` | Aggregates values with same key using a function     |\n",
    "| `sortBy(func)`  | Sorts RDD by computed key                            |\n",
    "\n",
    "\n",
    "### actions\n",
    "\n",
    "Actions trigger the execution of the entire DAG of transformations and return a result to the driver program or write data to an external storage system. They are eagerly evaluated, meaning they execute immediately when called. \n",
    "\n",
    "| Action             | Description                            |\n",
    "| ------------------ | -------------------------------------- |\n",
    "| `collect()`        | Returns all elements to driver         |\n",
    "| `count()`          | Returns number of elements             |\n",
    "| `first()`          | Returns first element                  |\n",
    "| `take(n)`          | Returns first `n` elements             |\n",
    "| `reduce(func)`     | Reduces elements using binary operator |\n",
    "| `saveAsTextFile()` | Writes RDD to text files               |\n",
    "\n",
    "\n",
    "\n",
    "reference - [spark rdd docs](https://spark.apache.org/docs/latest/rdd-programming-guide.html)\n"
   ]
  },
  {
   "cell_type": "code",
   "execution_count": 2,
   "id": "850a9647",
   "metadata": {},
   "outputs": [
    {
     "name": "stdout",
     "output_type": "stream",
     "text": [
      "Requirement already satisfied: pyspark in /usr/local/python/3.12.1/lib/python3.12/site-packages (4.0.0)\n",
      "Requirement already satisfied: py4j==0.10.9.9 in /usr/local/python/3.12.1/lib/python3.12/site-packages (from pyspark) (0.10.9.9)\n",
      "\n",
      "\u001b[1m[\u001b[0m\u001b[34;49mnotice\u001b[0m\u001b[1;39;49m]\u001b[0m\u001b[39;49m A new release of pip is available: \u001b[0m\u001b[31;49m25.1.1\u001b[0m\u001b[39;49m -> \u001b[0m\u001b[32;49m25.2\u001b[0m\n",
      "\u001b[1m[\u001b[0m\u001b[34;49mnotice\u001b[0m\u001b[1;39;49m]\u001b[0m\u001b[39;49m To update, run: \u001b[0m\u001b[32;49mpython3 -m pip install --upgrade pip\u001b[0m\n"
     ]
    }
   ],
   "source": [
    "! pip install pyspark"
   ]
  },
  {
   "cell_type": "code",
   "execution_count": 1,
   "id": "ed56d2ab",
   "metadata": {},
   "outputs": [
    {
     "name": "stderr",
     "output_type": "stream",
     "text": [
      "WARNING: Using incubator modules: jdk.incubator.vector\n",
      "Using Spark's default log4j profile: org/apache/spark/log4j2-defaults.properties\n",
      "25/08/05 04:15:03 WARN Utils: Your hostname, codespaces-c6070e, resolves to a loopback address: 127.0.0.1; using 10.0.1.210 instead (on interface eth0)\n",
      "25/08/05 04:15:03 WARN Utils: Set SPARK_LOCAL_IP if you need to bind to another address\n",
      "Using Spark's default log4j profile: org/apache/spark/log4j2-defaults.properties\n",
      "Setting default log level to \"WARN\".\n",
      "To adjust logging level use sc.setLogLevel(newLevel). For SparkR, use setLogLevel(newLevel).\n",
      "25/08/05 04:15:04 WARN NativeCodeLoader: Unable to load native-hadoop library for your platform... using builtin-java classes where applicable\n"
     ]
    }
   ],
   "source": [
    "from pyspark import SparkConf, SparkContext\n",
    "\n",
    "# standalone cluster mode\n",
    "# conf = SparkConf().setAppName(\"demoApp\").setMaster(\"spark://codespaces-c6070e:7077\")\n",
    "\n",
    "# local\n",
    "conf = SparkConf().setAppName(\"demoApp\").setMaster(\"local[*]\")\n",
    "\n",
    "\n",
    "sc = SparkContext(conf=conf)"
   ]
  },
  {
   "cell_type": "code",
   "execution_count": 2,
   "id": "dae03006",
   "metadata": {},
   "outputs": [
    {
     "data": {
      "text/plain": [
       "2"
      ]
     },
     "execution_count": 2,
     "metadata": {},
     "output_type": "execute_result"
    }
   ],
   "source": [
    "sc.defaultParallelism"
   ]
  },
  {
   "cell_type": "code",
   "execution_count": 3,
   "id": "f588fef2",
   "metadata": {},
   "outputs": [],
   "source": [
    "rdd = sc.parallelize([1,2,3,4])\n",
    "\n",
    "rdd = rdd.map(lambda x: x*x)"
   ]
  },
  {
   "cell_type": "code",
   "execution_count": 4,
   "id": "4c3d1fc1",
   "metadata": {},
   "outputs": [
    {
     "name": "stderr",
     "output_type": "stream",
     "text": [
      "                                                                                \r"
     ]
    },
    {
     "data": {
      "text/plain": [
       "[1, 4, 9, 16]"
      ]
     },
     "execution_count": 4,
     "metadata": {},
     "output_type": "execute_result"
    }
   ],
   "source": [
    "rdd.collect()"
   ]
  },
  {
   "cell_type": "code",
   "execution_count": 5,
   "id": "01efe688",
   "metadata": {},
   "outputs": [
    {
     "data": {
      "text/html": [
       "\n",
       "        <div>\n",
       "            <p><b>SparkContext</b></p>\n",
       "\n",
       "            <p><a href=\"http://55e0340b-b73a-4a58-b525-9edfce3cb78a.internal.cloudapp.net:4040\">Spark UI</a></p>\n",
       "\n",
       "            <dl>\n",
       "              <dt>Version</dt>\n",
       "                <dd><code>v4.0.0</code></dd>\n",
       "              <dt>Master</dt>\n",
       "                <dd><code>local[*]</code></dd>\n",
       "              <dt>AppName</dt>\n",
       "                <dd><code>demoApp</code></dd>\n",
       "            </dl>\n",
       "        </div>\n",
       "        "
      ],
      "text/plain": [
       "<SparkContext master=local[*] appName=demoApp>"
      ]
     },
     "execution_count": 5,
     "metadata": {},
     "output_type": "execute_result"
    }
   ],
   "source": [
    "sc"
   ]
  },
  {
   "cell_type": "code",
   "execution_count": 6,
   "id": "fe434e4a",
   "metadata": {},
   "outputs": [],
   "source": [
    "data = [\n",
    "    \"apple banana orange\",\n",
    "    \"apple mango banana\",\n",
    "    \"grapes pipneapple\"\n",
    "]"
   ]
  },
  {
   "cell_type": "code",
   "execution_count": null,
   "id": "096721bf",
   "metadata": {},
   "outputs": [
    {
     "data": {
      "text/plain": [
       "['apple banana orange', 'apple mango banana', 'grapes pipneapple']"
      ]
     },
     "execution_count": 7,
     "metadata": {},
     "output_type": "execute_result"
    }
   ],
   "source": [
    "lines = sc.parallelize(data)\n",
    "\n",
    "lines.collect()"
   ]
  },
  {
   "cell_type": "code",
   "execution_count": 8,
   "id": "203d0b62",
   "metadata": {},
   "outputs": [
    {
     "data": {
      "text/plain": [
       "[['apple', 'banana', 'orange'],\n",
       " ['apple', 'mango', 'banana'],\n",
       " ['grapes', 'pipneapple']]"
      ]
     },
     "execution_count": 8,
     "metadata": {},
     "output_type": "execute_result"
    }
   ],
   "source": [
    "# map\n",
    "\n",
    "words = lines.map(lambda line: line.split())\n",
    "\n",
    "words.collect()\n",
    "\n",
    "\n",
    "\n"
   ]
  },
  {
   "cell_type": "code",
   "execution_count": 9,
   "id": "c99d8cab",
   "metadata": {},
   "outputs": [
    {
     "data": {
      "text/plain": [
       "['apple',\n",
       " 'banana',\n",
       " 'orange',\n",
       " 'apple',\n",
       " 'mango',\n",
       " 'banana',\n",
       " 'grapes',\n",
       " 'pipneapple']"
      ]
     },
     "execution_count": 9,
     "metadata": {},
     "output_type": "execute_result"
    }
   ],
   "source": [
    "# flatmap\n",
    "\n",
    "words = lines.flatMap(lambda line: line.split())\n",
    "\n",
    "words.collect()"
   ]
  },
  {
   "cell_type": "code",
   "execution_count": 10,
   "id": "de8fa36b",
   "metadata": {},
   "outputs": [
    {
     "data": {
      "text/plain": [
       "[('apple', 1),\n",
       " ('banana', 1),\n",
       " ('orange', 1),\n",
       " ('apple', 1),\n",
       " ('mango', 1),\n",
       " ('banana', 1),\n",
       " ('grapes', 1),\n",
       " ('pipneapple', 1)]"
      ]
     },
     "execution_count": 10,
     "metadata": {},
     "output_type": "execute_result"
    }
   ],
   "source": [
    "# key value pairs using map()\n",
    "\n",
    "word_pairs = words.map(lambda word: (word, 1))\n",
    "\n",
    "word_pairs.collect()"
   ]
  },
  {
   "cell_type": "code",
   "execution_count": 11,
   "id": "d5977f5f",
   "metadata": {},
   "outputs": [
    {
     "name": "stderr",
     "output_type": "stream",
     "text": [
      "                                                                                \r"
     ]
    },
    {
     "data": {
      "text/plain": [
       "[('apple', 2),\n",
       " ('banana', 2),\n",
       " ('pipneapple', 1),\n",
       " ('orange', 1),\n",
       " ('mango', 1),\n",
       " ('grapes', 1)]"
      ]
     },
     "execution_count": 11,
     "metadata": {},
     "output_type": "execute_result"
    }
   ],
   "source": [
    "# count each word using  reduceByKey()\n",
    "\n",
    "word_counts = word_pairs.reduceByKey(lambda a,b:a+b)\n",
    "\n",
    "word_counts.collect()"
   ]
  },
  {
   "cell_type": "code",
   "execution_count": null,
   "id": "eb8ca967",
   "metadata": {},
   "outputs": [
    {
     "name": "stdout",
     "output_type": "stream",
     "text": [
      "[('apple', [1, 1]), ('banana', [1, 1]), ('pipneapple', [1]), ('orange', [1]), ('mango', [1]), ('grapes', [1])]\n"
     ]
    }
   ],
   "source": [
    "grouped = word_pairs.groupByKey()\n",
    "\n",
    "# grouped.collect()\n",
    "# groupBy is more expensive than reduceByKey()\n",
    "\n",
    "print([(k, list(v)) for k,v in grouped.collect()] )\n",
    "\n",
    "\n"
   ]
  },
  {
   "cell_type": "code",
   "execution_count": null,
   "id": "e521a3a6",
   "metadata": {},
   "outputs": [
    {
     "data": {
      "text/plain": [
       "[('apple', 4),\n",
       " ('banana', 4),\n",
       " ('pipneapple', 1),\n",
       " ('orange', 1),\n",
       " ('mango', 1),\n",
       " ('grapes', 1)]"
      ]
     },
     "execution_count": 17,
     "metadata": {},
     "output_type": "execute_result"
    }
   ],
   "source": [
    "# mapValues() -> used to only transform values\n",
    "\n",
    "squared_counts = word_counts.mapValues(lambda x: x*x)\n",
    "\n",
    "squared_counts.collect()"
   ]
  },
  {
   "cell_type": "code",
   "execution_count": null,
   "id": "ba0e823e",
   "metadata": {},
   "outputs": [
    {
     "data": {
      "text/plain": [
       "[('apple', 2),\n",
       " ('banana', 2),\n",
       " ('grapes', 1),\n",
       " ('mango', 1),\n",
       " ('orange', 1),\n",
       " ('pipneapple', 1)]"
      ]
     },
     "execution_count": 18,
     "metadata": {},
     "output_type": "execute_result"
    }
   ],
   "source": [
    "# sortByKey - sort words alphabetically\n",
    "\n",
    "sorted_kv = word_counts.sortByKey()\n",
    "\n",
    "sorted_kv.collect()"
   ]
  },
  {
   "cell_type": "code",
   "execution_count": null,
   "id": "2eeb00a2",
   "metadata": {},
   "outputs": [],
   "source": []
  },
  {
   "cell_type": "markdown",
   "id": "89e1b206",
   "metadata": {},
   "source": [
    "### Shared Variables\n",
    "\n",
    "When you pass a function (like in map or reduce) to Spark, that function runs on different machines in the cluster — not on your local driver.\n",
    "\n",
    "**By default:**\n",
    "\n",
    "- Spark makes separate copies of any variable you use inside those functions.\n",
    "- So, if a task changes a variable on the executor, that change will not reflect back in your driver program.\n",
    "\n",
    "This is done to keep things fast and distributed — but it also means you can not just update normal variables across tasks.\n",
    "\n",
    "**challenges:**\n",
    "\n",
    "You want to count how many rows have Amount > 500 using this code:\n",
    "\n",
    "```py\n",
    "count = 0\n",
    "\n",
    "def increment_count(x):\n",
    "    count += 1 \n",
    "\n",
    "records.filter(lambda x: int(x[2]) > 500).foreach(increment_count)\n",
    "print(count)\n",
    "\n",
    "```\n",
    "\n",
    "This will not work because each machine updates its own copy of count not the original one in the driver.\n",
    "\n",
    "To solve such issues, spark provides two types of shared variables:\n",
    "\n",
    "1. **Broadcast Variables:** a read-only variable that can be cached on each machine (executor). Used to efficiently share large data (like lookup tables) with all tasks without copying it multiple times.\n",
    "2. **Accumulators:** variables used to safely implement counters or sums across mulitple worker nodes. You can only add to them (not read or subtract inside tasks). The final value is only accessible on the driver after an action is executed.\n",
    "\n",
    "Spark shared variables are a mechanism for efficiently distributing read-only data or aggregating results across executors in a Spark application."
   ]
  },
  {
   "cell_type": "markdown",
   "id": "da87d109",
   "metadata": {},
   "source": []
  },
  {
   "cell_type": "markdown",
   "id": "0971c970",
   "metadata": {},
   "source": [
    "# Activity\n",
    "\n",
    "\n",
    "1. Find all product IDs where the amount is greater than 900.\n",
    "2. Find all transactions that belong to the “Furniture” category.\n",
    "3. Count how many transactions belong to the “Electronics” category.\n",
    "4. Find average amount for each category.\n",
    "5. Find the highest amount and the corresponding product ID.\n",
    "6. Find the total number of unique categories.\n",
    "7. For each category, find the product ID with the highest sale.\n",
    "8. Count how many products were sold for less than 300.\n",
    "9. Sort the transactions by amount in descending order.\n",
    "10. Broadcast Variable: Category Discounts\n",
    "```{\"Electronics\": 0.10, \"Furniture\": 0.15, \"Clothing\": 0.05, \"Books\": 0.20}```\n",
    "11. Accumulator: Count Transactions Below 300\n",
    "12. Filter and Save Results"
   ]
  }
 ],
 "metadata": {
  "kernelspec": {
   "display_name": "Python 3",
   "language": "python",
   "name": "python3"
  },
  "language_info": {
   "codemirror_mode": {
    "name": "ipython",
    "version": 3
   },
   "file_extension": ".py",
   "mimetype": "text/x-python",
   "name": "python",
   "nbconvert_exporter": "python",
   "pygments_lexer": "ipython3",
   "version": "3.12.1"
  }
 },
 "nbformat": 4,
 "nbformat_minor": 5
}
