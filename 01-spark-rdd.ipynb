{
 "cells": [
  {
   "cell_type": "markdown",
   "id": "8bbd763b",
   "metadata": {},
   "source": [
    "# RDD\n",
    "\n",
    "an RDD is the fundamental data structure of Apache Spark. It provised low level data abstraction. It's a fault-tolerant, distributed collection of elements that can be operated on in parallel.\n",
    "\n",
    "**Key Characteristics:**\n",
    "\n",
    "- Immutable\n",
    "- Lazy evaluation\n",
    "- Fault tolerant (via lineage info)\n",
    "- Partitioned across cluster nodes\n",
    "- Can be cached in memory\n",
    "\n",
    "### SparkContext and SparkConf\n",
    "\n",
    "\n",
    "SparkContext is the foundational entry point for any Apache Spark application. It serves as the primary connection to a Spark cluster and is responsible for managing resources and orchestrating distributed computations.\n",
    "\n",
    "**Key Aspects:**\n",
    "\n",
    "- Cluster Connection: It establishes and maintains the connection between your Spark application (the driver program) and the Spark cluster\n",
    "- Resource Management: SparkContext interacts with the cluster manager to acquire and manage the computational resources (executors, memory, CPU cores) needed for your application's tasks.\n",
    "- RDD Creation: SparkContext was the primary way to create Resilient Distributed Datasets (RDDs), which are the fundamental low-level data abstraction in Spark.\n",
    "\n",
    "#### `SparkConf`\n",
    "\n",
    "SparkConf is a configuration class used to set various Spark properties and parameters for a Spark application. It allows you to define settings such as the application name, the master URL (where the Spark cluster is located), memory allocations for executors, number of CPU cores, and other specific configurations that control Spark's behavior. A SparkConf object is typically used to initialize a SparkContext or SparkSession, providing the necessary environment details for the application to run on the cluster.\n",
    "\n",
    "**Common settings:**\n",
    "\n",
    "- setMaster(\"local[*]\") – Use local mode with all cores\n",
    "- setAppName(\"RDDExample\") – Application name\n",
    "\n",
    "### transformations\n",
    "\n",
    "Transformations create a new RDD from an existing one. They are lazy – not executed until an action is triggered. They are characterized by their lazy evaluation, meaning they do not immediately execute when called. Instead, Spark builds a Directed Acyclic Graph (DAG) of the computations, which represents the lineage of transformations. \n",
    "\n",
    "| Transformation  | Description                                          |\n",
    "| --------------- | ---------------------------------------------------- |\n",
    "| `map(func)`     | Returns a new RDD by applying `func` to each element |\n",
    "| `filter(func)`  | Filters elements for which `func` returns true       |\n",
    "| `flatMap(func)` | Like map but flattens the result                     |\n",
    "| `distinct()`    | Removes duplicates                                   |\n",
    "| `union(rdd)`    | Combines two RDDs                                    |\n",
    "| `groupByKey()`  | Groups values with same key                          |\n",
    "| `reduceByKey()` | Aggregates values with same key using a function     |\n",
    "| `sortBy(func)`  | Sorts RDD by computed key                            |\n",
    "\n",
    "\n",
    "### actions\n",
    "\n",
    "Actions trigger the execution of the entire DAG of transformations and return a result to the driver program or write data to an external storage system. They are eagerly evaluated, meaning they execute immediately when called. \n",
    "\n",
    "| Action             | Description                            |\n",
    "| ------------------ | -------------------------------------- |\n",
    "| `collect()`        | Returns all elements to driver         |\n",
    "| `count()`          | Returns number of elements             |\n",
    "| `first()`          | Returns first element                  |\n",
    "| `take(n)`          | Returns first `n` elements             |\n",
    "| `reduce(func)`     | Reduces elements using binary operator |\n",
    "| `saveAsTextFile()` | Writes RDD to text files               |\n",
    "\n",
    "\n",
    "\n",
    "reference - [spark rdd docs](https://spark.apache.org/docs/latest/rdd-programming-guide.html)\n"
   ]
  },
  {
   "cell_type": "code",
   "execution_count": 2,
   "id": "850a9647",
   "metadata": {},
   "outputs": [
    {
     "name": "stdout",
     "output_type": "stream",
     "text": [
      "Requirement already satisfied: pyspark in /usr/local/python/3.12.1/lib/python3.12/site-packages (4.0.0)\n",
      "Requirement already satisfied: py4j==0.10.9.9 in /usr/local/python/3.12.1/lib/python3.12/site-packages (from pyspark) (0.10.9.9)\n",
      "\n",
      "\u001b[1m[\u001b[0m\u001b[34;49mnotice\u001b[0m\u001b[1;39;49m]\u001b[0m\u001b[39;49m A new release of pip is available: \u001b[0m\u001b[31;49m25.1.1\u001b[0m\u001b[39;49m -> \u001b[0m\u001b[32;49m25.2\u001b[0m\n",
      "\u001b[1m[\u001b[0m\u001b[34;49mnotice\u001b[0m\u001b[1;39;49m]\u001b[0m\u001b[39;49m To update, run: \u001b[0m\u001b[32;49mpython3 -m pip install --upgrade pip\u001b[0m\n"
     ]
    }
   ],
   "source": [
    "! pip install pyspark"
   ]
  },
  {
   "cell_type": "code",
   "execution_count": 1,
   "id": "ed56d2ab",
   "metadata": {},
   "outputs": [
    {
     "name": "stderr",
     "output_type": "stream",
     "text": [
      "WARNING: Using incubator modules: jdk.incubator.vector\n",
      "Using Spark's default log4j profile: org/apache/spark/log4j2-defaults.properties\n",
      "25/08/05 04:15:03 WARN Utils: Your hostname, codespaces-c6070e, resolves to a loopback address: 127.0.0.1; using 10.0.1.210 instead (on interface eth0)\n",
      "25/08/05 04:15:03 WARN Utils: Set SPARK_LOCAL_IP if you need to bind to another address\n",
      "Using Spark's default log4j profile: org/apache/spark/log4j2-defaults.properties\n",
      "Setting default log level to \"WARN\".\n",
      "To adjust logging level use sc.setLogLevel(newLevel). For SparkR, use setLogLevel(newLevel).\n",
      "25/08/05 04:15:04 WARN NativeCodeLoader: Unable to load native-hadoop library for your platform... using builtin-java classes where applicable\n"
     ]
    }
   ],
   "source": [
    "from pyspark import SparkConf, SparkContext\n",
    "\n",
    "# standalone cluster mode\n",
    "# conf = SparkConf().setAppName(\"demoApp\").setMaster(\"spark://codespaces-c6070e:7077\")\n",
    "\n",
    "# local\n",
    "conf = SparkConf().setAppName(\"demoApp\").setMaster(\"local[*]\")\n",
    "\n",
    "\n",
    "sc = SparkContext(conf=conf)"
   ]
  },
  {
   "cell_type": "code",
   "execution_count": 2,
   "id": "dae03006",
   "metadata": {},
   "outputs": [
    {
     "data": {
      "text/plain": [
       "2"
      ]
     },
     "execution_count": 2,
     "metadata": {},
     "output_type": "execute_result"
    }
   ],
   "source": [
    "sc.defaultParallelism"
   ]
  },
  {
   "cell_type": "code",
   "execution_count": 3,
   "id": "f588fef2",
   "metadata": {},
   "outputs": [],
   "source": [
    "rdd = sc.parallelize([1,2,3,4])\n",
    "\n",
    "rdd = rdd.map(lambda x: x*x)"
   ]
  },
  {
   "cell_type": "code",
   "execution_count": 4,
   "id": "4c3d1fc1",
   "metadata": {},
   "outputs": [
    {
     "name": "stderr",
     "output_type": "stream",
     "text": [
      "                                                                                \r"
     ]
    },
    {
     "data": {
      "text/plain": [
       "[1, 4, 9, 16]"
      ]
     },
     "execution_count": 4,
     "metadata": {},
     "output_type": "execute_result"
    }
   ],
   "source": [
    "rdd.collect()"
   ]
  },
  {
   "cell_type": "code",
   "execution_count": 5,
   "id": "01efe688",
   "metadata": {},
   "outputs": [
    {
     "data": {
      "text/html": [
       "\n",
       "        <div>\n",
       "            <p><b>SparkContext</b></p>\n",
       "\n",
       "            <p><a href=\"http://55e0340b-b73a-4a58-b525-9edfce3cb78a.internal.cloudapp.net:4040\">Spark UI</a></p>\n",
       "\n",
       "            <dl>\n",
       "              <dt>Version</dt>\n",
       "                <dd><code>v4.0.0</code></dd>\n",
       "              <dt>Master</dt>\n",
       "                <dd><code>local[*]</code></dd>\n",
       "              <dt>AppName</dt>\n",
       "                <dd><code>demoApp</code></dd>\n",
       "            </dl>\n",
       "        </div>\n",
       "        "
      ],
      "text/plain": [
       "<SparkContext master=local[*] appName=demoApp>"
      ]
     },
     "execution_count": 5,
     "metadata": {},
     "output_type": "execute_result"
    }
   ],
   "source": [
    "sc"
   ]
  },
  {
   "cell_type": "code",
   "execution_count": 6,
   "id": "fe434e4a",
   "metadata": {},
   "outputs": [],
   "source": [
    "data = [\n",
    "    \"apple banana orange\",\n",
    "    \"apple mango banana\",\n",
    "    \"grapes pipneapple\"\n",
    "]"
   ]
  },
  {
   "cell_type": "code",
   "execution_count": null,
   "id": "096721bf",
   "metadata": {},
   "outputs": [
    {
     "data": {
      "text/plain": [
       "['apple banana orange', 'apple mango banana', 'grapes pipneapple']"
      ]
     },
     "execution_count": 7,
     "metadata": {},
     "output_type": "execute_result"
    }
   ],
   "source": [
    "lines = sc.parallelize(data)\n",
    "\n",
    "lines.collect()"
   ]
  },
  {
   "cell_type": "code",
   "execution_count": 8,
   "id": "203d0b62",
   "metadata": {},
   "outputs": [
    {
     "data": {
      "text/plain": [
       "[['apple', 'banana', 'orange'],\n",
       " ['apple', 'mango', 'banana'],\n",
       " ['grapes', 'pipneapple']]"
      ]
     },
     "execution_count": 8,
     "metadata": {},
     "output_type": "execute_result"
    }
   ],
   "source": [
    "# map\n",
    "\n",
    "words = lines.map(lambda line: line.split())\n",
    "\n",
    "words.collect()\n",
    "\n",
    "\n",
    "\n"
   ]
  },
  {
   "cell_type": "code",
   "execution_count": 9,
   "id": "c99d8cab",
   "metadata": {},
   "outputs": [
    {
     "data": {
      "text/plain": [
       "['apple',\n",
       " 'banana',\n",
       " 'orange',\n",
       " 'apple',\n",
       " 'mango',\n",
       " 'banana',\n",
       " 'grapes',\n",
       " 'pipneapple']"
      ]
     },
     "execution_count": 9,
     "metadata": {},
     "output_type": "execute_result"
    }
   ],
   "source": [
    "# flatmap\n",
    "\n",
    "words = lines.flatMap(lambda line: line.split())\n",
    "\n",
    "words.collect()"
   ]
  },
  {
   "cell_type": "code",
   "execution_count": 10,
   "id": "de8fa36b",
   "metadata": {},
   "outputs": [
    {
     "data": {
      "text/plain": [
       "[('apple', 1),\n",
       " ('banana', 1),\n",
       " ('orange', 1),\n",
       " ('apple', 1),\n",
       " ('mango', 1),\n",
       " ('banana', 1),\n",
       " ('grapes', 1),\n",
       " ('pipneapple', 1)]"
      ]
     },
     "execution_count": 10,
     "metadata": {},
     "output_type": "execute_result"
    }
   ],
   "source": [
    "# key value pairs using map()\n",
    "\n",
    "word_pairs = words.map(lambda word: (word, 1))\n",
    "\n",
    "word_pairs.collect()"
   ]
  },
  {
   "cell_type": "code",
   "execution_count": 11,
   "id": "d5977f5f",
   "metadata": {},
   "outputs": [
    {
     "name": "stderr",
     "output_type": "stream",
     "text": [
      "                                                                                \r"
     ]
    },
    {
     "data": {
      "text/plain": [
       "[('apple', 2),\n",
       " ('banana', 2),\n",
       " ('pipneapple', 1),\n",
       " ('orange', 1),\n",
       " ('mango', 1),\n",
       " ('grapes', 1)]"
      ]
     },
     "execution_count": 11,
     "metadata": {},
     "output_type": "execute_result"
    }
   ],
   "source": [
    "# count each word using  reduceByKey()\n",
    "\n",
    "word_counts = word_pairs.reduceByKey(lambda a,b:a+b)\n",
    "\n",
    "word_counts.collect()"
   ]
  },
  {
   "cell_type": "code",
   "execution_count": null,
   "id": "eb8ca967",
   "metadata": {},
   "outputs": [
    {
     "name": "stdout",
     "output_type": "stream",
     "text": [
      "[('apple', [1, 1]), ('banana', [1, 1]), ('pipneapple', [1]), ('orange', [1]), ('mango', [1]), ('grapes', [1])]\n"
     ]
    }
   ],
   "source": [
    "grouped = word_pairs.groupByKey()\n",
    "\n",
    "# grouped.collect()\n",
    "# groupBy is more expensive than reduceByKey()\n",
    "\n",
    "print([(k, list(v)) for k,v in grouped.collect()] )\n",
    "\n",
    "\n"
   ]
  },
  {
   "cell_type": "code",
   "execution_count": null,
   "id": "e521a3a6",
   "metadata": {},
   "outputs": [
    {
     "data": {
      "text/plain": [
       "[('apple', 4),\n",
       " ('banana', 4),\n",
       " ('pipneapple', 1),\n",
       " ('orange', 1),\n",
       " ('mango', 1),\n",
       " ('grapes', 1)]"
      ]
     },
     "execution_count": 17,
     "metadata": {},
     "output_type": "execute_result"
    }
   ],
   "source": [
    "# mapValues() -> used to only transform values\n",
    "\n",
    "squared_counts = word_counts.mapValues(lambda x: x*x)\n",
    "\n",
    "squared_counts.collect()"
   ]
  },
  {
   "cell_type": "code",
   "execution_count": null,
   "id": "ba0e823e",
   "metadata": {},
   "outputs": [
    {
     "data": {
      "text/plain": [
       "[('apple', 2),\n",
       " ('banana', 2),\n",
       " ('grapes', 1),\n",
       " ('mango', 1),\n",
       " ('orange', 1),\n",
       " ('pipneapple', 1)]"
      ]
     },
     "execution_count": 18,
     "metadata": {},
     "output_type": "execute_result"
    }
   ],
   "source": [
    "# sortByKey - sort words alphabetically\n",
    "\n",
    "sorted_kv = word_counts.sortByKey()\n",
    "\n",
    "sorted_kv.collect()"
   ]
  },
  {
   "cell_type": "markdown",
   "id": "c7d84837",
   "metadata": {},
   "source": [
    "---\n",
    "\n",
    "#### working with sales data\n",
    "\n",
    "relative path: `datasets/region_sales.txt`"
   ]
  },
  {
   "cell_type": "code",
   "execution_count": 32,
   "id": "468e83e5",
   "metadata": {},
   "outputs": [],
   "source": [
    "# lodaing the data from a file\n",
    "\n",
    "sales_raw = sc.textFile(\"file:///workspaces/trng-2286/datasets/region_sales.txt\")"
   ]
  },
  {
   "cell_type": "code",
   "execution_count": 33,
   "id": "8aae2134",
   "metadata": {},
   "outputs": [
    {
     "data": {
      "text/plain": [
       "['2001,South,Electronics,838',\n",
       " '2002,West,Furniture,471',\n",
       " '2003,North,Electronics,803',\n",
       " '2004,West,Furniture,174',\n",
       " '2005,South,Clothing,590',\n",
       " '2006,North,Furniture,937',\n",
       " '2007,North,Electronics,391',\n",
       " '2008,West,Electronics,961',\n",
       " '2009,North,Electronics,305']"
      ]
     },
     "execution_count": 33,
     "metadata": {},
     "output_type": "execute_result"
    }
   ],
   "source": [
    "sales_raw.take(9)"
   ]
  },
  {
   "cell_type": "code",
   "execution_count": 34,
   "id": "e47a5deb",
   "metadata": {},
   "outputs": [
    {
     "data": {
      "text/plain": [
       "[['2001', 'South', 'Electronics', '838'],\n",
       " ['2002', 'West', 'Furniture', '471'],\n",
       " ['2003', 'North', 'Electronics', '803'],\n",
       " ['2004', 'West', 'Furniture', '174']]"
      ]
     },
     "execution_count": 34,
     "metadata": {},
     "output_type": "execute_result"
    }
   ],
   "source": [
    "records = sales_raw.map(lambda x:x.split(\",\"))\n",
    "\n",
    "records.take(4)"
   ]
  },
  {
   "cell_type": "code",
   "execution_count": 35,
   "id": "bee0d11b",
   "metadata": {},
   "outputs": [
    {
     "data": {
      "text/plain": [
       "[(2001, 'South', 'Electronics', 838),\n",
       " (2002, 'West', 'Furniture', 471),\n",
       " (2003, 'North', 'Electronics', 803),\n",
       " (2004, 'West', 'Furniture', 174),\n",
       " (2005, 'South', 'Clothing', 590),\n",
       " (2006, 'North', 'Furniture', 937),\n",
       " (2007, 'North', 'Electronics', 391),\n",
       " (2008, 'West', 'Electronics', 961),\n",
       " (2009, 'North', 'Electronics', 305)]"
      ]
     },
     "execution_count": 35,
     "metadata": {},
     "output_type": "execute_result"
    }
   ],
   "source": [
    "records = records.map(lambda x: (int(x[0]), x[1], x[2], int(x[3])))\n",
    "\n",
    "records.take(9)"
   ]
  },
  {
   "cell_type": "code",
   "execution_count": 36,
   "id": "0ae96d4d",
   "metadata": {},
   "outputs": [
    {
     "data": {
      "text/plain": [
       "[('Electronics', 838),\n",
       " ('Furniture', 471),\n",
       " ('Electronics', 803),\n",
       " ('Furniture', 174)]"
      ]
     },
     "execution_count": 36,
     "metadata": {},
     "output_type": "execute_result"
    }
   ],
   "source": [
    "# total sales by categroy\n",
    "\n",
    "category_sales = records.map(lambda x: (x[2], x[3]))\n",
    "\n",
    "category_sales.take(4)"
   ]
  },
  {
   "cell_type": "code",
   "execution_count": 37,
   "id": "f33e1171",
   "metadata": {},
   "outputs": [
    {
     "data": {
      "text/plain": [
       "[('Furniture', 12832),\n",
       " ('Clothing', 14410),\n",
       " ('Electronics', 15593),\n",
       " ('Books', 10739)]"
      ]
     },
     "execution_count": 37,
     "metadata": {},
     "output_type": "execute_result"
    }
   ],
   "source": [
    "total_sales_by_category = category_sales.reduceByKey(lambda x,y: x+y)\n",
    "\n",
    "total_sales_by_category.collect()"
   ]
  },
  {
   "cell_type": "code",
   "execution_count": null,
   "id": "eb27e1af",
   "metadata": {},
   "outputs": [
    {
     "data": {
      "text/plain": [
       "[('Furniture', 583.2727272727273),\n",
       " ('Clothing', 514.6428571428571),\n",
       " ('Electronics', 556.8928571428571),\n",
       " ('Books', 488.1363636363636)]"
      ]
     },
     "execution_count": 42,
     "metadata": {},
     "output_type": "execute_result"
    }
   ],
   "source": [
    "# average sales per category\n",
    "\n",
    "average_sales_per_category = category_sales.mapValues(lambda x:(x,1)) \\\n",
    "                        .reduceByKey(lambda x,y: (x[0]+y[0], x[1]+y[1] )) \\\n",
    "                        .mapValues(lambda x: x[0]/x[1])\n",
    "\n",
    "\n",
    "average_sales_per_category.collect()"
   ]
  },
  {
   "cell_type": "code",
   "execution_count": 43,
   "id": "8f1df19e",
   "metadata": {},
   "outputs": [
    {
     "data": {
      "text/plain": [
       "('Electronics', 15593)"
      ]
     },
     "execution_count": 43,
     "metadata": {},
     "output_type": "execute_result"
    }
   ],
   "source": [
    "# highest selling  category\n",
    "\n",
    "highest_selling_category = total_sales_by_category.max(key=lambda x: [x[1]])\n",
    "\n",
    "highest_selling_category"
   ]
  },
  {
   "cell_type": "code",
   "execution_count": 44,
   "id": "007e67ce",
   "metadata": {},
   "outputs": [
    {
     "data": {
      "text/plain": [
       "[('Clothing', 14410), ('Electronics', 15593)]"
      ]
     },
     "execution_count": 44,
     "metadata": {},
     "output_type": "execute_result"
    }
   ],
   "source": [
    "# categories with sales above 13000\n",
    "\n",
    "highest_selling_categories_above_13k = total_sales_by_category.filter(lambda x: x[1]>13000)\n",
    "\n",
    "highest_selling_categories_above_13k.collect()\n",
    "\n"
   ]
  },
  {
   "cell_type": "markdown",
   "id": "89e1b206",
   "metadata": {},
   "source": [
    "### Shared Variables\n",
    "\n",
    "When you pass a function (like in map or reduce) to Spark, that function runs on different machines in the cluster — not on your local driver.\n",
    "\n",
    "**By default:**\n",
    "\n",
    "- Spark makes separate copies of any variable you use inside those functions.\n",
    "- So, if a task changes a variable on the executor, that change will not reflect back in your driver program.\n",
    "\n",
    "This is done to keep things fast and distributed — but it also means you can not just update normal variables across tasks.\n",
    "\n",
    "**challenges:**\n",
    "\n",
    "You want to count how many rows have Amount > 500 using this code:\n",
    "\n",
    "```py\n",
    "count = 0\n",
    "\n",
    "def increment_count(x):\n",
    "    count += 1 \n",
    "\n",
    "records.filter(lambda x: int(x[2]) > 500).foreach(increment_count)\n",
    "print(count)\n",
    "\n",
    "```\n",
    "\n",
    "This will not work because each machine updates its own copy of count not the original one in the driver.\n",
    "\n",
    "To solve such issues, spark provides two types of shared variables:\n",
    "\n",
    "1. **Broadcast Variables:** a read-only variable that can be cached on each machine (executor). Used to efficiently share large data (like lookup tables) with all tasks without copying it multiple times.\n",
    "2. **Accumulators:** variables used to safely implement counters or sums across mulitple worker nodes. You can only add to them (not read or subtract inside tasks). The final value is only accessible on the driver after an action is executed.\n",
    "\n",
    "Spark shared variables are a mechanism for efficiently distributing read-only data or aggregating results across executors in a Spark application."
   ]
  },
  {
   "cell_type": "code",
   "execution_count": null,
   "id": "f200a1a8",
   "metadata": {},
   "outputs": [],
   "source": [
    "# this fails\n",
    "\n",
    "count = 0\n",
    "\n",
    "def increment_count(x):\n",
    "    count += 1 \n",
    "\n",
    "records.filter(lambda x: int(x[3]) > 500).foreach(increment_count)\n",
    "print(count)"
   ]
  },
  {
   "cell_type": "code",
   "execution_count": 47,
   "id": "4b50a61d",
   "metadata": {},
   "outputs": [],
   "source": [
    "# broadcast variable\n",
    "\n",
    "regions = {\"North\": \"N\", \"South\": \"S\", \"East\": \"E\", \"West\": \"W\"}\n",
    "region_broadcast = sc.broadcast(regions)\n"
   ]
  },
  {
   "cell_type": "code",
   "execution_count": 48,
   "id": "f297d582",
   "metadata": {},
   "outputs": [],
   "source": [
    "# accumulator \n",
    "\n",
    "high_value_count = sc.accumulator(0)"
   ]
  },
  {
   "cell_type": "code",
   "execution_count": 49,
   "id": "5dbbe613",
   "metadata": {},
   "outputs": [
    {
     "data": {
      "text/plain": [
       "[(2001, 'S', 'Electronics', 838),\n",
       " (2002, 'W', 'Furniture', 471),\n",
       " (2003, 'N', 'Electronics', 803),\n",
       " (2004, 'W', 'Furniture', 174),\n",
       " (2005, 'S', 'Clothing', 590),\n",
       " (2006, 'N', 'Furniture', 937),\n",
       " (2007, 'N', 'Electronics', 391),\n",
       " (2008, 'W', 'Electronics', 961),\n",
       " (2009, 'N', 'Electronics', 305),\n",
       " (2010, 'E', 'Clothing', 213),\n",
       " (2011, 'E', 'Electronics', 615),\n",
       " (2012, 'S', 'Clothing', 573),\n",
       " (2013, 'E', 'Clothing', 352),\n",
       " (2014, 'W', 'Clothing', 768),\n",
       " (2015, 'N', 'Electronics', 231),\n",
       " (2016, 'E', 'Furniture', 217),\n",
       " (2017, 'W', 'Clothing', 346),\n",
       " (2018, 'N', 'Books', 375),\n",
       " (2019, 'S', 'Electronics', 313),\n",
       " (2020, 'W', 'Furniture', 903),\n",
       " (2021, 'W', 'Clothing', 904),\n",
       " (2022, 'N', 'Furniture', 812),\n",
       " (2023, 'W', 'Furniture', 590),\n",
       " (2024, 'N', 'Books', 452),\n",
       " (2025, 'N', 'Books', 697),\n",
       " (2026, 'E', 'Clothing', 959),\n",
       " (2027, 'N', 'Books', 661),\n",
       " (2028, 'S', 'Books', 700),\n",
       " (2029, 'E', 'Clothing', 832),\n",
       " (2030, 'N', 'Furniture', 163),\n",
       " (2031, 'S', 'Books', 413),\n",
       " (2032, 'N', 'Furniture', 952),\n",
       " (2033, 'N', 'Books', 240),\n",
       " (2034, 'E', 'Clothing', 740),\n",
       " (2035, 'S', 'Clothing', 264),\n",
       " (2036, 'W', 'Books', 211),\n",
       " (2037, 'E', 'Clothing', 103),\n",
       " (2038, 'N', 'Electronics', 462),\n",
       " (2039, 'W', 'Electronics', 479),\n",
       " (2040, 'E', 'Electronics', 666),\n",
       " (2041, 'W', 'Clothing', 347),\n",
       " (2042, 'S', 'Electronics', 435),\n",
       " (2043, 'E', 'Clothing', 669),\n",
       " (2044, 'W', 'Electronics', 715),\n",
       " (2045, 'N', 'Electronics', 232),\n",
       " (2046, 'S', 'Electronics', 569),\n",
       " (2047, 'W', 'Books', 989),\n",
       " (2048, 'N', 'Clothing', 507),\n",
       " (2049, 'E', 'Clothing', 429),\n",
       " (2050, 'W', 'Electronics', 679),\n",
       " (2051, 'W', 'Books', 581),\n",
       " (2052, 'W', 'Furniture', 770),\n",
       " (2053, 'S', 'Furniture', 408),\n",
       " (2054, 'E', 'Furniture', 111),\n",
       " (2055, 'S', 'Electronics', 228),\n",
       " (2056, 'N', 'Electronics', 430),\n",
       " (2057, 'S', 'Furniture', 523),\n",
       " (2058, 'S', 'Books', 599),\n",
       " (2059, 'E', 'Clothing', 756),\n",
       " (2060, 'S', 'Electronics', 937),\n",
       " (2061, 'E', 'Electronics', 456),\n",
       " (2062, 'N', 'Books', 238),\n",
       " (2063, 'W', 'Electronics', 210),\n",
       " (2064, 'N', 'Electronics', 922),\n",
       " (2065, 'N', 'Books', 113),\n",
       " (2066, 'N', 'Furniture', 700),\n",
       " (2067, 'S', 'Furniture', 643),\n",
       " (2068, 'S', 'Clothing', 427),\n",
       " (2069, 'W', 'Electronics', 909),\n",
       " (2070, 'W', 'Electronics', 818),\n",
       " (2071, 'N', 'Clothing', 438),\n",
       " (2072, 'E', 'Books', 627),\n",
       " (2073, 'E', 'Furniture', 303),\n",
       " (2074, 'S', 'Clothing', 1000),\n",
       " (2075, 'S', 'Electronics', 453),\n",
       " (2076, 'E', 'Books', 461),\n",
       " (2077, 'S', 'Books', 217),\n",
       " (2078, 'S', 'Clothing', 122),\n",
       " (2079, 'N', 'Clothing', 761),\n",
       " (2080, 'E', 'Books', 783),\n",
       " (2081, 'N', 'Clothing', 135),\n",
       " (2082, 'N', 'Books', 412),\n",
       " (2083, 'W', 'Clothing', 336),\n",
       " (2084, 'W', 'Books', 129),\n",
       " (2085, 'S', 'Clothing', 203),\n",
       " (2086, 'S', 'Furniture', 856),\n",
       " (2087, 'W', 'Books', 507),\n",
       " (2088, 'E', 'Furniture', 681),\n",
       " (2089, 'S', 'Furniture', 887),\n",
       " (2090, 'W', 'Electronics', 295),\n",
       " (2091, 'N', 'Furniture', 777),\n",
       " (2092, 'S', 'Clothing', 913),\n",
       " (2093, 'S', 'Books', 535),\n",
       " (2094, 'N', 'Electronics', 946),\n",
       " (2095, 'W', 'Clothing', 382),\n",
       " (2096, 'N', 'Electronics', 295),\n",
       " (2097, 'W', 'Furniture', 402),\n",
       " (2098, 'S', 'Furniture', 552),\n",
       " (2099, 'S', 'Clothing', 341),\n",
       " (2100, 'W', 'Books', 799)]"
      ]
     },
     "execution_count": 49,
     "metadata": {},
     "output_type": "execute_result"
    }
   ],
   "source": [
    "def enrich_region_and_count(record):\n",
    "    pid, region, category, ammount = record\n",
    "    if ammount > 500:\n",
    "        high_value_count.add(1)\n",
    "    return (pid, region_broadcast.value[region], category, ammount)\n",
    "\n",
    "enriched_records = records.map(enrich_region_and_count)\n",
    "\n",
    "enriched_records.collect()"
   ]
  },
  {
   "cell_type": "code",
   "execution_count": 50,
   "id": "4fa1c631",
   "metadata": {},
   "outputs": [
    {
     "data": {
      "text/plain": [
       "51"
      ]
     },
     "execution_count": 50,
     "metadata": {},
     "output_type": "execute_result"
    }
   ],
   "source": [
    "high_value_count.value"
   ]
  },
  {
   "cell_type": "code",
   "execution_count": 51,
   "id": "b269e24c",
   "metadata": {},
   "outputs": [],
   "source": [
    "# rdd to a new file\n",
    "\n",
    "filtered = enriched_records.filter(lambda x:x[3]> 500)\n",
    "\n",
    "filtered.map(lambda x: \",\".join(map(str,x))).coalesce(1).saveAsTextFile(\"filtered_high_value_sales\")"
   ]
  },
  {
   "cell_type": "code",
   "execution_count": 52,
   "id": "e117bfa7",
   "metadata": {},
   "outputs": [],
   "source": [
    "filtered = enriched_records.filter(lambda x:x[3]> 500)\n",
    "\n",
    "filtered.map(lambda x: \",\".join(map(str,x))).repartition(2).saveAsTextFile(\"filtered_high_value_sales_repartition\")"
   ]
  },
  {
   "cell_type": "markdown",
   "id": "da87d109",
   "metadata": {},
   "source": []
  },
  {
   "cell_type": "markdown",
   "id": "0971c970",
   "metadata": {},
   "source": [
    "# Activity\n",
    "\n",
    "\n",
    "1. Find all product IDs where the amount is greater than 900.\n",
    "2. Find all transactions that belong to the “Furniture” category.\n",
    "3. Count how many transactions belong to the “Electronics” category.\n",
    "4. Find average amount for each category.\n",
    "5. Find the highest amount and the corresponding product ID.\n",
    "6. Find the total number of unique categories.\n",
    "7. For each category, find the product ID with the highest sale.\n",
    "8. Count how many products were sold for less than 300.\n",
    "9. Sort the transactions by amount in descending order.\n",
    "10. Broadcast Variable: Category Discounts\n",
    "```{\"Electronics\": 0.10, \"Furniture\": 0.15, \"Clothing\": 0.05, \"Books\": 0.20}```\n",
    "11. Accumulator: Count Transactions Below 300\n",
    "12. Filter and Save Results"
   ]
  }
 ],
 "metadata": {
  "kernelspec": {
   "display_name": "Python 3",
   "language": "python",
   "name": "python3"
  },
  "language_info": {
   "codemirror_mode": {
    "name": "ipython",
    "version": 3
   },
   "file_extension": ".py",
   "mimetype": "text/x-python",
   "name": "python",
   "nbconvert_exporter": "python",
   "pygments_lexer": "ipython3",
   "version": "3.12.1"
  }
 },
 "nbformat": 4,
 "nbformat_minor": 5
}
