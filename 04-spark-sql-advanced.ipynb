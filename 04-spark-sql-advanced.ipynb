{
 "cells": [
  {
   "cell_type": "markdown",
   "id": "96a93729",
   "metadata": {},
   "source": [
    "### Spark SQL\n",
    "\n",
    "\n",
    "#### Window Functions\n",
    "\n",
    "Window functions let you perform calculations across a group of rows (a window) related to the current row without collapsing the DataFrame (unlike groupBy-aggregates).\n",
    "\n",
    "They are useful for:\n",
    "\n",
    "- Ranking\n",
    "- Running totals\n",
    "- Accessing previous/next values\n",
    "- Moving averages\n",
    "- Cumulative calculations\n",
    "\n",
    "\n",
    "| Function       | Description                |\n",
    "| -------------- | -------------------------- |\n",
    "| `row_number()` | Unique row number          |\n",
    "| `rank()`       | Rank with gaps             |\n",
    "| `dense_rank()` | Rank without gaps          |\n",
    "| `lag()`        | Previous row’s value       |\n",
    "| `lead()`       | Next row’s value           |\n",
    "| `sum()`        | Cumulative or moving total |\n",
    "| `avg()`        | Moving average             |\n",
    "| `ntile(n)`     | Divide rows into buckets   |\n"
   ]
  },
  {
   "cell_type": "code",
   "execution_count": 1,
   "id": "41266a96",
   "metadata": {},
   "outputs": [
    {
     "name": "stderr",
     "output_type": "stream",
     "text": [
      "WARNING: Using incubator modules: jdk.incubator.vector\n",
      "Using Spark's default log4j profile: org/apache/spark/log4j2-defaults.properties\n",
      "25/08/07 04:46:52 WARN Utils: Your hostname, codespaces-c6070e, resolves to a loopback address: 127.0.0.1; using 10.0.0.91 instead (on interface eth0)\n",
      "25/08/07 04:46:52 WARN Utils: Set SPARK_LOCAL_IP if you need to bind to another address\n",
      "Using Spark's default log4j profile: org/apache/spark/log4j2-defaults.properties\n",
      "Setting default log level to \"WARN\".\n",
      "To adjust logging level use sc.setLogLevel(newLevel). For SparkR, use setLogLevel(newLevel).\n",
      "25/08/07 04:46:53 WARN NativeCodeLoader: Unable to load native-hadoop library for your platform... using builtin-java classes where applicable\n",
      "25/08/07 04:46:55 WARN Utils: Service 'SparkUI' could not bind on port 4040. Attempting port 4041.\n"
     ]
    }
   ],
   "source": [
    "from pyspark.sql import SparkSession\n",
    "\n",
    "spark = SparkSession.builder.appName(\"windowFuncDemo\").getOrCreate()"
   ]
  },
  {
   "cell_type": "code",
   "execution_count": 9,
   "id": "6f52f932",
   "metadata": {},
   "outputs": [
    {
     "name": "stdout",
     "output_type": "stream",
     "text": [
      "+---------+----------+-----+\n",
      "|user_name|      date|sales|\n",
      "+---------+----------+-----+\n",
      "|    Alice|2025-08-01|  300|\n",
      "|    Alice|2025-08-02|  500|\n",
      "|    Alice|2025-08-03|  250|\n",
      "|    Alice|2025-08-03|  250|\n",
      "|    Alice|2025-08-03|  100|\n",
      "|      Bob|2025-08-01|  100|\n",
      "|      Bob|2025-08-02|  200|\n",
      "|      Bob|2025-08-03|  400|\n",
      "+---------+----------+-----+\n",
      "\n"
     ]
    }
   ],
   "source": [
    "data = [\n",
    "    (\"Alice\", \"2025-08-01\", 300),\n",
    "    (\"Alice\", \"2025-08-02\", 500),\n",
    "    (\"Alice\", \"2025-08-03\", 250),\n",
    "    (\"Alice\", \"2025-08-03\", 250),\n",
    "    (\"Alice\", \"2025-08-03\", 100),\n",
    "    (\"Bob\", \"2025-08-01\", 100),\n",
    "    (\"Bob\", \"2025-08-02\", 200),\n",
    "    (\"Bob\", \"2025-08-03\", 400),\n",
    "]\n",
    "\n",
    "df_users = spark.createDataFrame(data, [\"user_name\", \"date\", \"sales\"])\n",
    "\n",
    "df_users.show()"
   ]
  },
  {
   "cell_type": "markdown",
   "id": "adf1e350",
   "metadata": {},
   "source": [
    "WindowSpec stands for Window Specification.\n",
    "\n",
    "It defines:\n",
    "\n",
    "- How rows are grouped - using partitionBy(...)\n",
    "- How rows are ordered - using orderBy(...)\n",
    "- Which frame to use - optional, using .rowsBetween(...) or .rangeBetween(...) \n",
    "    - By default, Spark uses a sensible frame (like ROWS BETWEEN UNBOUNDED PRECEDING AND CURRENT ROW for sum, etc.), but you can control it explicitly:\n",
    "\n",
    "This specification is passed to window functions (like row_number(), rank(), sum(), etc.) to tell them how to compute their result across rows."
   ]
  },
  {
   "cell_type": "code",
   "execution_count": 10,
   "id": "18beb90b",
   "metadata": {},
   "outputs": [],
   "source": [
    "# define WindowSpec\n",
    "\n",
    "from pyspark.sql.window import Window\n",
    "\n",
    "window_spec = Window.partitionBy(\"user_name\").orderBy(\"date\")"
   ]
  },
  {
   "cell_type": "markdown",
   "id": "fcbf5a68",
   "metadata": {},
   "source": [
    "#### Ranking Functions"
   ]
  },
  {
   "cell_type": "code",
   "execution_count": 12,
   "id": "7411e34c",
   "metadata": {},
   "outputs": [
    {
     "name": "stdout",
     "output_type": "stream",
     "text": [
      "+---------+----------+-----+----+\n",
      "|user_name|      date|sales|rank|\n",
      "+---------+----------+-----+----+\n",
      "|    Alice|2025-08-02|  500|   1|\n",
      "|    Alice|2025-08-01|  300|   2|\n",
      "|    Alice|2025-08-03|  250|   3|\n",
      "|    Alice|2025-08-03|  250|   3|\n",
      "|    Alice|2025-08-03|  100|   5|\n",
      "|      Bob|2025-08-03|  400|   1|\n",
      "|      Bob|2025-08-02|  200|   2|\n",
      "|      Bob|2025-08-01|  100|   3|\n",
      "+---------+----------+-----+----+\n",
      "\n"
     ]
    }
   ],
   "source": [
    "# RANK() - Assigns a rank to each row within a partition, with gpas in ranking for ties\n",
    "\n",
    "from pyspark.sql.functions import rank\n",
    "\n",
    "rank_window = Window.partitionBy(\"user_name\").orderBy(df_users[\"sales\"].desc())\n",
    "\n",
    "df_users.withColumn(\"rank\", rank().over(rank_window)).show()"
   ]
  },
  {
   "cell_type": "code",
   "execution_count": 13,
   "id": "5c1ef7df",
   "metadata": {},
   "outputs": [
    {
     "name": "stdout",
     "output_type": "stream",
     "text": [
      "+---------+----------+-----+----------+\n",
      "|user_name|      date|sales|dense_rank|\n",
      "+---------+----------+-----+----------+\n",
      "|    Alice|2025-08-02|  500|         1|\n",
      "|    Alice|2025-08-01|  300|         2|\n",
      "|    Alice|2025-08-03|  250|         3|\n",
      "|    Alice|2025-08-03|  250|         3|\n",
      "|    Alice|2025-08-03|  100|         4|\n",
      "|      Bob|2025-08-03|  400|         1|\n",
      "|      Bob|2025-08-02|  200|         2|\n",
      "|      Bob|2025-08-01|  100|         3|\n",
      "+---------+----------+-----+----------+\n",
      "\n"
     ]
    }
   ],
   "source": [
    "# DENSE_RANK() - similar to RANK(), but without gaps in ranking ties\n",
    "\n",
    "from pyspark.sql.functions import dense_rank\n",
    "\n",
    "df_users.withColumn(\"dense_rank\", dense_rank().over(rank_window)).show()"
   ]
  },
  {
   "cell_type": "code",
   "execution_count": null,
   "id": "e5e18224",
   "metadata": {},
   "outputs": [
    {
     "name": "stdout",
     "output_type": "stream",
     "text": [
      "+---------+----------+-----+-------+\n",
      "|user_name|      date|sales|qurtile|\n",
      "+---------+----------+-----+-------+\n",
      "|    Alice|2025-08-02|  500|      1|\n",
      "|    Alice|2025-08-01|  300|      1|\n",
      "|    Alice|2025-08-03|  250|      2|\n",
      "|    Alice|2025-08-03|  250|      3|\n",
      "|    Alice|2025-08-03|  100|      4|\n",
      "|      Bob|2025-08-03|  400|      1|\n",
      "|      Bob|2025-08-02|  200|      2|\n",
      "|      Bob|2025-08-01|  100|      3|\n",
      "+---------+----------+-----+-------+\n",
      "\n"
     ]
    }
   ],
   "source": [
    "# NTILE() - Returns the N-th valye in a partition\n",
    "# NTILE(n) is a window function that divides the rows in a window into n approximately equal groups (or buckets) and assigns a bucket number to each row starting from 1.\n",
    "\n",
    "\n",
    "from pyspark.sql.functions import ntile\n",
    "\n",
    "df_users.withColumn(\"qurtile\", ntile(4).over(rank_window)).show()"
   ]
  },
  {
   "cell_type": "markdown",
   "id": "879aa28f",
   "metadata": {},
   "source": [
    "#### Analytic Functions"
   ]
  },
  {
   "cell_type": "code",
   "execution_count": 15,
   "id": "93046820",
   "metadata": {},
   "outputs": [
    {
     "name": "stdout",
     "output_type": "stream",
     "text": [
      "+---------+----------+-----+-----------------+\n",
      "|user_name|      date|sales|revious_day_sales|\n",
      "+---------+----------+-----+-----------------+\n",
      "|    Alice|2025-08-01|  300|             NULL|\n",
      "|    Alice|2025-08-02|  500|              300|\n",
      "|    Alice|2025-08-03|  250|              500|\n",
      "|    Alice|2025-08-03|  250|              250|\n",
      "|    Alice|2025-08-03|  100|              250|\n",
      "|      Bob|2025-08-01|  100|             NULL|\n",
      "|      Bob|2025-08-02|  200|              100|\n",
      "|      Bob|2025-08-03|  400|              200|\n",
      "+---------+----------+-----+-----------------+\n",
      "\n"
     ]
    }
   ],
   "source": [
    "# LAG() - Access data from a previous row in the same partition\n",
    "\n",
    "from pyspark.sql.functions import lag\n",
    "df_users.withColumn(\"revious_day_sales\", lag(\"sales\", 1).over(window_spec)).show()"
   ]
  },
  {
   "cell_type": "code",
   "execution_count": 16,
   "id": "89c28dbe",
   "metadata": {},
   "outputs": [
    {
     "name": "stdout",
     "output_type": "stream",
     "text": [
      "+---------+----------+-----+--------------+\n",
      "|user_name|      date|sales|next_day_sales|\n",
      "+---------+----------+-----+--------------+\n",
      "|    Alice|2025-08-01|  300|           500|\n",
      "|    Alice|2025-08-02|  500|           250|\n",
      "|    Alice|2025-08-03|  250|           250|\n",
      "|    Alice|2025-08-03|  250|           100|\n",
      "|    Alice|2025-08-03|  100|          NULL|\n",
      "|      Bob|2025-08-01|  100|           200|\n",
      "|      Bob|2025-08-02|  200|           400|\n",
      "|      Bob|2025-08-03|  400|          NULL|\n",
      "+---------+----------+-----+--------------+\n",
      "\n"
     ]
    }
   ],
   "source": [
    "# LEAD() - Access data from a subsequent row in the same partition\n",
    "from pyspark.sql.functions import lead\n",
    "df_users.withColumn(\"next_day_sales\", lead(\"sales\", 1).over(window_spec)).show()"
   ]
  },
  {
   "cell_type": "markdown",
   "id": "67180846",
   "metadata": {},
   "source": [
    "#### Aggregate Functions"
   ]
  },
  {
   "cell_type": "code",
   "execution_count": 20,
   "id": "1f982cc7",
   "metadata": {},
   "outputs": [
    {
     "name": "stdout",
     "output_type": "stream",
     "text": [
      "+---------+----------+-----+----------------+\n",
      "|user_name|      date|sales|cumulative_sales|\n",
      "+---------+----------+-----+----------------+\n",
      "|    Alice|2025-08-01|  300|             300|\n",
      "|    Alice|2025-08-02|  500|             800|\n",
      "|    Alice|2025-08-03|  250|            1050|\n",
      "|    Alice|2025-08-03|  250|            1300|\n",
      "|    Alice|2025-08-03|  100|            1400|\n",
      "|      Bob|2025-08-01|  100|             100|\n",
      "|      Bob|2025-08-02|  200|             300|\n",
      "|      Bob|2025-08-03|  400|             700|\n",
      "+---------+----------+-----+----------------+\n",
      "\n"
     ]
    }
   ],
   "source": [
    "# SUM(), AVG(), MAX() with window Frame - cummulative or moving average\n",
    "\n",
    "from pyspark.sql.functions import max, avg, sum\n",
    "\n",
    "agg_window= window_spec.rowsBetween(Window.unboundedPreceding, Window.currentRow)\n",
    "\n",
    "df_users.withColumn(\"cumulative_sales\", sum(\"sales\").over(agg_window)).show()"
   ]
  },
  {
   "cell_type": "code",
   "execution_count": 27,
   "id": "ce525387",
   "metadata": {},
   "outputs": [
    {
     "name": "stdout",
     "output_type": "stream",
     "text": [
      "root\n",
      " |-- user_name: string (nullable = true)\n",
      " |-- date: string (nullable = true)\n",
      " |-- sales: long (nullable = true)\n",
      "\n"
     ]
    }
   ],
   "source": [
    "df_users.printSchema()"
   ]
  },
  {
   "cell_type": "code",
   "execution_count": null,
   "id": "107d70e9",
   "metadata": {},
   "outputs": [
    {
     "name": "stderr",
     "output_type": "stream",
     "text": [
      "25/08/07 05:19:10 WARN WindowExec: No Partition Defined for Window operation! Moving all data to a single partition, this can cause serious performance degradation.\n",
      "25/08/07 05:19:10 WARN WindowExec: No Partition Defined for Window operation! Moving all data to a single partition, this can cause serious performance degradation.\n",
      "25/08/07 05:19:10 WARN WindowExec: No Partition Defined for Window operation! Moving all data to a single partition, this can cause serious performance degradation.\n"
     ]
    },
    {
     "name": "stdout",
     "output_type": "stream",
     "text": [
      "+---------+----------+-----+----------+---------+\n",
      "|user_name|      date|sales|   date_ts|avg_sales|\n",
      "+---------+----------+-----+----------+---------+\n",
      "|    Alice|2025-08-01|  300|1754006400|    200.0|\n",
      "|      Bob|2025-08-01|  100|1754006400|    200.0|\n",
      "|    Alice|2025-08-02|  500|1754092800|    275.0|\n",
      "|      Bob|2025-08-02|  200|1754092800|    275.0|\n",
      "|    Alice|2025-08-03|  250|1754179200|    262.5|\n",
      "|    Alice|2025-08-03|  250|1754179200|    262.5|\n",
      "|    Alice|2025-08-03|  100|1754179200|    262.5|\n",
      "|      Bob|2025-08-03|  400|1754179200|    262.5|\n",
      "+---------+----------+-----+----------+---------+\n",
      "\n"
     ]
    },
    {
     "name": "stderr",
     "output_type": "stream",
     "text": [
      "25/08/07 05:19:10 WARN WindowExec: No Partition Defined for Window operation! Moving all data to a single partition, this can cause serious performance degradation.\n",
      "25/08/07 05:19:10 WARN WindowExec: No Partition Defined for Window operation! Moving all data to a single partition, this can cause serious performance degradation.\n"
     ]
    }
   ],
   "source": [
    "# moving average for last 2 days\n",
    "\n",
    "from pyspark.sql.functions import col, unix_timestamp\n",
    "\n",
    "df = df_users.withColumn(\"date_ts\", unix_timestamp(col(\"date\").cast(\"timestamp\")))\n",
    "\n",
    "window_spec = Window.orderBy(\"date_ts\").rangeBetween(-172800, 0)\n",
    "\n",
    "df.withColumn(\"avg_sales\", avg(\"sales\").over(window_spec)).show()"
   ]
  },
  {
   "cell_type": "code",
   "execution_count": null,
   "id": "8f9993a9",
   "metadata": {},
   "outputs": [],
   "source": []
  }
 ],
 "metadata": {
  "kernelspec": {
   "display_name": "Python 3",
   "language": "python",
   "name": "python3"
  },
  "language_info": {
   "codemirror_mode": {
    "name": "ipython",
    "version": 3
   },
   "file_extension": ".py",
   "mimetype": "text/x-python",
   "name": "python",
   "nbconvert_exporter": "python",
   "pygments_lexer": "ipython3",
   "version": "3.12.1"
  }
 },
 "nbformat": 4,
 "nbformat_minor": 5
}
