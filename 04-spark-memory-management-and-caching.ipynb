{
 "cells": [
  {
   "cell_type": "markdown",
   "id": "73c26a2a",
   "metadata": {},
   "source": [
    "#### Spark Memory Management\n",
    "\n",
    "\n",
    "![spark-memory](./images/spark-execution-memory.png)\n",
    "\n",
    "\n",
    "In Apache Spark, understanding memory management is essential to optimizing performance. Spark has a unified memory management model (since Spark 1.6+), which governs how memory is divided and used by different components. Here's a breakdown of the key memory types:\n",
    "\n",
    "\n",
    "###  1. **Reserved Memory**\n",
    "\n",
    "* A small portion of JVM heap reserved and not usable by Spark.\n",
    "* **Default size:** 300MB (configurable via `spark.memory.storage.reserved` but not usually changed).\n",
    "* Reserved for internal metadata, JVM tasks, and to prevent OOM errors.\n",
    "\n",
    "\n",
    "\n",
    "###  2. **On-Heap Memory**\n",
    "\n",
    "*  Memory within the JVM heap, used by Spark when `spark.memory.offHeap.enabled = false`.\n",
    "* **Total size:** Determined by `spark.executor.memory`.\n",
    "* **Used for:**\n",
    "\n",
    "  * Execution (shuffle, joins, aggregations, sorts)\n",
    "  * Storage (caching/persisted RDDs or DataFrames)\n",
    "  * User memory (custom objects, UDFs, broadcast vars)\n",
    "\n",
    "\n",
    "### 3. **Off-Heap Memory**\n",
    "\n",
    "*  Memory outside JVM heap, accessed using unsafe APIs.\n",
    "* **Enabled via:** `spark.memory.offHeap.enabled = true`\n",
    "* **Size set by:** `spark.memory.offHeap.size`\n",
    "* **Use cases:**\n",
    "\n",
    "  * Tungsten’s binary data storage\n",
    "  * External shuffle\n",
    "  * More efficient, less GC pressure\n",
    "\n",
    "\n",
    "### 4. **Unified Memory (Spark 1.6+)**\n",
    "\n",
    "Spark divides usable memory (excluding reserved) into:\n",
    "\n",
    "```\n",
    "spark.executor.memory - reservedMemory\n",
    "  └──→ unifiedMemory = execution + storage\n",
    "```\n",
    "\n",
    "#### a. **Execution Memory**\n",
    "\n",
    "* For tasks like joins, aggregations, sorts, and shuffles.\n",
    "* **Dynamic:** Can borrow from storage if needed and available.\n",
    "* **Evicts:** Cached blocks only when absolutely necessary.\n",
    "\n",
    "####  b. **Storage Memory**\n",
    "\n",
    "* To store cached or persisted RDD/DataFrame blocks and broadcast variables.\n",
    "* **Eviction policy:** Least recently used (LRU).\n",
    "* **Dynamic:** Can borrow from execution memory, but only if execution is not actively using it.\n",
    "\n",
    "##### Storage & Execution share memory — dynamic allocation helps better memory utilization.\n",
    "\n",
    "\n",
    "###  5. **User Memory**\n",
    "\n",
    "*  \\~25% of `spark.executor.memory`, not governed by unified memory manager.\n",
    "* **Used for:**\n",
    "\n",
    "  * Custom data structures\n",
    "  * UDF intermediate states\n",
    "  * Broadcast variables (partial)\n",
    "  * Spark internal bookkeeping\n",
    "* **Not tunable directly**, but indirectly via reducing UDF usage or tuning executor memory.\n",
    "\n",
    "\n",
    "### 6. **Overhead Memory**\n",
    "\n",
    "*  Memory for non-JVM needs like YARN/Mesos container overhead, native libraries, Python/R processes (if using PySpark or SparkR).\n",
    "* **Configurable via:**\n",
    "\n",
    "  * `spark.yarn.executor.memoryOverhead`\n",
    "  * `spark.executor.memoryOverhead`\n",
    "* **Default:** max(384MB, 0.10 \\* spark.executor.memory)\n",
    "\n",
    "\n",
    "### Summary Table\n",
    "\n",
    "| Memory Type | Purpose                               | Where?         | Configurable?         |\n",
    "| ----------- | ------------------------------------- | -------------- | --------------------- |\n",
    "| Reserved    | JVM internals                         | On-heap        | No (hardcoded default) |\n",
    "| Execution   | Shuffles, joins, aggregations         | Unified memory | Yes                     |\n",
    "| Storage     | Cached/persisted RDDs, broadcast vars | Unified memory | Yes                    |\n",
    "| User        | UDFs, custom objects                  | On-heap        | No (implicit)          |\n",
    "| Off-heap    | External shuffle, Tungsten binary     | Off-heap       | Yes                    |\n",
    "| Overhead    | Native code, containers, Python procs | Off-heap       | Yes                    |\n",
    "\n",
    "\n",
    "\n",
    "---\n",
    "\n",
    "### Caching data\n",
    "\n",
    "- Caching is the process of storing intermediate results (DataFrames/RDDs) in memory to avoid recomputation in future actions.\n",
    "- Spark evaluates lazily, so without caching, each action triggers full recomputation of the DAG.\n",
    "\n",
    "##### Where Is Data Stored When Cached?\n",
    "\n",
    "- Primary location: In Storage Memory (part of Unified Memory).\n",
    "- Fallback: If not enough memory, data is spilled to disk (depends on storage level).\n",
    "- Optional: Can store off-heap, serialized, or disk-only via persist().\n",
    "\n",
    "\n",
    "\n",
    "**`.cache()`**\n",
    "\n",
    "```py\n",
    "df.cache()\n",
    "```\n",
    "\n",
    "- Shortcut for: `.persist(StorageLevel.MEMORY_AND_DISK)`\n",
    "- Caches data in memory, spills to disk if memory is full.\n",
    "- Common and safe default for general use.\n",
    "\n",
    "**`.persist(storageLevel)`**\n",
    "\n",
    "```\n",
    "from pyspark import StorageLevel\n",
    "df.persist(StorageLevel.MEMORY_ONLY)\n",
    "```\n",
    "\n",
    "- Gives control over how and where data is stored.\n",
    "\n",
    "##### StorageLevel Option\n",
    "\n",
    "(As of Spark 3.4)\n",
    "\n",
    "- DISK_ONLY: CPU efficient, memory efficient, slow to access, data is serialized when stored on disk\n",
    "- DISK_ONLY_2: disk only, replicated 2x\n",
    "- DISK_ONLY_3: disk only, replicated 3x\n",
    "- MEMORY_AND_DISK: spills to disk if there's no space in memory\n",
    "- MEMORY_AND_DISK_2: memory and disk, replicated 2x\n",
    "- MEMORY_AND_DISK_DESER(default): same as MEMORY_AND_DISK, deserialized in both for fast access\n",
    "- MEMORY_ONLY: CPU efficient, memory intensive\n",
    "- MEMORY_ONLY_2: memory only, replicated 2x - for resilience, if one executor fails\n",
    "\n",
    "\n",
    "\n",
    "- SER is CPU intensive, memory saving as data is compact while DESER is CPU efficient, memory intensive\n",
    "- Size of data on disk is lesser as data is in serialized format, while deserialized in memory as JVM objects for faster access\n",
    "\n",
    "**When to use what?**\n",
    "\n",
    "| Storage Level          | Space Used | CPU Time | In Memory | On Disk | Serialized |\n",
    "| ---------------------- | ---------- | -------- | --------- | ------- | ---------- |\n",
    "| MEMORY\\_ONLY           | High       | Low      | Yes       | No      | No         |\n",
    "| MEMORY\\_ONLY\\_SER      | Low        | High     | Yes       | No      | Yes        |\n",
    "| MEMORY\\_AND\\_DISK      | High       | Medium   | Some      | Some    | Some       |\n",
    "| MEMORY\\_AND\\_DISK\\_SER | Low        | High     | Some      | Some    | Yes        |\n",
    "| DISK\\_ONLY             | Low        | High     | No        | Yes     | Yes        |  \n"
   ]
  },
  {
   "cell_type": "code",
   "execution_count": 2,
   "id": "880361bc",
   "metadata": {},
   "outputs": [
    {
     "name": "stderr",
     "output_type": "stream",
     "text": [
      "WARNING: Using incubator modules: jdk.incubator.vector\n",
      "Using Spark's default log4j profile: org/apache/spark/log4j2-defaults.properties\n",
      "25/08/07 05:39:59 WARN Utils: Your hostname, codespaces-c6070e, resolves to a loopback address: 127.0.0.1; using 10.0.0.91 instead (on interface eth0)\n",
      "25/08/07 05:39:59 WARN Utils: Set SPARK_LOCAL_IP if you need to bind to another address\n",
      "Using Spark's default log4j profile: org/apache/spark/log4j2-defaults.properties\n",
      "Setting default log level to \"WARN\".\n",
      "To adjust logging level use sc.setLogLevel(newLevel). For SparkR, use setLogLevel(newLevel).\n",
      "25/08/07 05:40:01 WARN NativeCodeLoader: Unable to load native-hadoop library for your platform... using builtin-java classes where applicable\n",
      "25/08/07 05:40:03 WARN Utils: Service 'SparkUI' could not bind on port 4040. Attempting port 4041.\n",
      "25/08/07 05:40:03 WARN Utils: Service 'SparkUI' could not bind on port 4041. Attempting port 4042.\n"
     ]
    }
   ],
   "source": [
    "from pyspark.sql import SparkSession\n",
    "\n",
    "spark = SparkSession.builder.appName(\"cachingDemo\").getOrCreate()"
   ]
  },
  {
   "cell_type": "markdown",
   "id": "1f644df1",
   "metadata": {},
   "source": []
  },
  {
   "cell_type": "code",
   "execution_count": 3,
   "id": "5b47771c",
   "metadata": {},
   "outputs": [
    {
     "name": "stderr",
     "output_type": "stream",
     "text": [
      "                                                                                \r"
     ]
    },
    {
     "name": "stdout",
     "output_type": "stream",
     "text": [
      "+--------------------+--------------------+----+-------+--------------------+-----------+-------------------+---------+-----------+---------+---------------+------------------+-------------+----------+---------+\n",
      "|         customer_id|               email| age| gender|             country|signup_date|         last_login|is_active|total_spent|age_group|pref_newsletter|pref_notifications|pref_language|first_name|last_name|\n",
      "+--------------------+--------------------+----+-------+--------------------+-----------+-------------------+---------+-----------+---------+---------------+------------------+-------------+----------+---------+\n",
      "|0e99a07c-c7a5-43d...|robinjackson@wrig...|50.0| Female|              France| 2023-03-01|2025-05-29 22:36:25|     true|     1438.4|    Adult|           true|              push|           en|    Thomas|     Lamb|\n",
      "|3a69ac3e-6726-431...|susan51@johnson-g...|20.0|   Male|       Guinea-Bissau| 2020-12-14|2025-03-21 23:52:55|     true|    2364.98|    Young|           true|              push|           fr|  Kimberly|    Blake|\n",
      "|c63cab5f-dc06-484...|leahwilliams@gmai...|50.0| Female|               Kenya| 2023-11-16|2024-09-05 04:59:24|    false|    5913.19|    Adult|           true|             email|           de|   William|   Taylor|\n",
      "|50b165d0-6486-4d5...|   brian56@gmail.com|27.0|  Other|              Mexico| 2021-09-03|2025-02-06 07:51:31|     true|     972.82|    Young|           true|               sms|           es|    Amanda|   Wright|\n",
      "|4657a2b1-abae-49a...|danieldiaz@hendri...|69.0|Unknown|              Taiwan| 2022-11-05|2025-06-14 04:15:42|     true|     9732.5|   Senior|          false|             email|           es|     Molly|   Watson|\n",
      "|0ffe272a-f261-450...|    lisa87@gmail.com|50.0| Female|Bouvet Island (Bo...| 2023-07-14|2025-03-05 14:30:02|     true|     505.95|    Adult|           true|               sms|           en|     Kelly|     Boyd|\n",
      "|ca9191a8-f736-46c...|    jperry@gmail.com|50.0|  Other|Saint Pierre and ...| 2023-09-02|2024-10-01 20:41:01|    false|    6375.06|    Adult|          false|             email|           es|    Jeremy|     Rios|\n",
      "|808301e6-260a-47a...|megansaunders@lee...|50.0|   Male|          Guadeloupe| 2022-01-27|2025-04-01 11:16:10|     true|    5364.69|    Adult|           true|             email|           de|     Jason|    Hicks|\n",
      "|997d2ea4-5957-43d...|allenrachel@hotma...|58.0|  Other|           Sri Lanka| 2024-10-20|2025-02-10 23:58:09|     true|    2329.03|    Adult|           true|               sms|           de|    Rickey|   Snyder|\n",
      "|f1d943c5-9fba-4c9...|   james40@gmail.com|50.0| Female|               Congo| 2024-06-18|2025-01-14 12:13:09|    false|    3986.54|    Adult|          false|             email|           es|  Stefanie|    Moore|\n",
      "|438f6971-c3b4-4fe...|coxkristen@torres...|50.0|Unknown|    Papua New Guinea| 2020-07-24|2025-04-12 03:00:13|    false|    3651.86|    Adult|           true|              push|           de|     David|   Wilson|\n",
      "|3457b0f6-1777-449...|   mark17@smith.info|50.0|  Other|Saint Vincent and...| 2022-03-04|2024-09-28 20:31:11|     true|    6818.82|    Adult|           true|              push|           es|   Kristin|   Barker|\n",
      "|adbc75ff-9d33-446...|vanceamanda@yahoo...|39.0|  Other|           Guatemala| 2023-09-16|2025-03-04 14:43:28|    false|    1623.67|    Adult|           true|              push|           es|   Anthony|     Hart|\n",
      "|a97da932-82a3-4ec...|youngjacob@yahoo.com|66.0|   Male|           Mauritius| 2025-06-24|2024-08-02 21:59:11|    false|    8424.61|   Senior|           true|             email|           es|    Carrie|   Hughes|\n",
      "|a5767eda-bd1d-482...|goodmanlaura@hotm...|52.0|  Other|                Guam| 2023-12-26|2024-12-25 13:57:45|    false|     243.79|    Adult|          false|               sms|           fr|   Shelley|   Morrow|\n",
      "|cc7f129e-fb05-49d...| tranroy@hotmail.com|50.0|Unknown|             Tokelau| 2021-08-24|2025-01-13 13:17:33|     true|    9292.69|    Adult|           true|              push|           es|    Andrew|  Stanley|\n",
      "|9977d5e4-6b2d-418...|rosalesgeorge@mar...|50.0|Unknown|      United Kingdom| 2022-07-20|2024-08-21 03:30:28|    false|    1253.99|    Adult|           true|             email|           es|     Tyler| Crawford|\n",
      "|9b330788-2219-400...|     sgay@barnes.com|39.0| Female|Saint Vincent and...| 2023-01-15|2024-09-12 18:29:24|    false|    6706.33|    Adult|           true|              push|           fr|      Ryan|   Gibson|\n",
      "|c0d08fef-2f97-410...|christine76@gmail...|50.0| Female|          Bangladesh| 2024-09-27|2025-06-25 09:07:54|    false|     8084.6|    Adult|           true|             email|           en|     Jacob|   Dodson|\n",
      "|1c462dc3-44aa-413...|zacharysilva@jord...|50.0|Unknown|    French Polynesia| 2021-02-09|2025-04-26 10:00:34|    false|    8645.18|    Adult|           true|              push|           en|      Lisa|   Pierce|\n",
      "+--------------------+--------------------+----+-------+--------------------+-----------+-------------------+---------+-----------+---------+---------------+------------------+-------------+----------+---------+\n",
      "only showing top 20 rows\n"
     ]
    },
    {
     "name": "stderr",
     "output_type": "stream",
     "text": [
      "                                                                                \r"
     ]
    }
   ],
   "source": [
    "from pyspark.sql.functions import *\n",
    "\n",
    "df_customers = spark.read.parquet(\"file:///workspaces/trng-2286/datasets/final_customer_data.parquet\")\n",
    "\n",
    "df_customers.show()"
   ]
  },
  {
   "cell_type": "code",
   "execution_count": null,
   "id": "06ec0e11",
   "metadata": {},
   "outputs": [
    {
     "name": "stdout",
     "output_type": "stream",
     "text": [
      "+--------------------+--------------------+----+-------+--------------------+-----------+-------------------+---------+-----------+---------+---------------+------------------+-------------+----------+---------+-------------+\n",
      "|         customer_id|               email| age| gender|             country|signup_date|         last_login|is_active|total_spent|age_group|pref_newsletter|pref_notifications|pref_language|first_name|last_name|loyality_tier|\n",
      "+--------------------+--------------------+----+-------+--------------------+-----------+-------------------+---------+-----------+---------+---------------+------------------+-------------+----------+---------+-------------+\n",
      "|0e99a07c-c7a5-43d...|robinjackson@wrig...|50.0| Female|              France| 2023-03-01|2025-05-29 22:36:25|     true|     1438.4|    Adult|           true|              push|           en|    Thomas|     Lamb|         Gold|\n",
      "|3a69ac3e-6726-431...|susan51@johnson-g...|20.0|   Male|       Guinea-Bissau| 2020-12-14|2025-03-21 23:52:55|     true|    2364.98|    Young|           true|              push|           fr|  Kimberly|    Blake|         Gold|\n",
      "|c63cab5f-dc06-484...|leahwilliams@gmai...|50.0| Female|               Kenya| 2023-11-16|2024-09-05 04:59:24|    false|    5913.19|    Adult|           true|             email|           de|   William|   Taylor|         Gold|\n",
      "|50b165d0-6486-4d5...|   brian56@gmail.com|27.0|  Other|              Mexico| 2021-09-03|2025-02-06 07:51:31|     true|     972.82|    Young|           true|               sms|           es|    Amanda|   Wright|       Silver|\n",
      "|4657a2b1-abae-49a...|danieldiaz@hendri...|69.0|Unknown|              Taiwan| 2022-11-05|2025-06-14 04:15:42|     true|     9732.5|   Senior|          false|             email|           es|     Molly|   Watson|         Gold|\n",
      "|0ffe272a-f261-450...|    lisa87@gmail.com|50.0| Female|Bouvet Island (Bo...| 2023-07-14|2025-03-05 14:30:02|     true|     505.95|    Adult|           true|               sms|           en|     Kelly|     Boyd|       Silver|\n",
      "|ca9191a8-f736-46c...|    jperry@gmail.com|50.0|  Other|Saint Pierre and ...| 2023-09-02|2024-10-01 20:41:01|    false|    6375.06|    Adult|          false|             email|           es|    Jeremy|     Rios|         Gold|\n",
      "|808301e6-260a-47a...|megansaunders@lee...|50.0|   Male|          Guadeloupe| 2022-01-27|2025-04-01 11:16:10|     true|    5364.69|    Adult|           true|             email|           de|     Jason|    Hicks|         Gold|\n",
      "|997d2ea4-5957-43d...|allenrachel@hotma...|58.0|  Other|           Sri Lanka| 2024-10-20|2025-02-10 23:58:09|     true|    2329.03|    Adult|           true|               sms|           de|    Rickey|   Snyder|         Gold|\n",
      "|f1d943c5-9fba-4c9...|   james40@gmail.com|50.0| Female|               Congo| 2024-06-18|2025-01-14 12:13:09|    false|    3986.54|    Adult|          false|             email|           es|  Stefanie|    Moore|         Gold|\n",
      "|438f6971-c3b4-4fe...|coxkristen@torres...|50.0|Unknown|    Papua New Guinea| 2020-07-24|2025-04-12 03:00:13|    false|    3651.86|    Adult|           true|              push|           de|     David|   Wilson|         Gold|\n",
      "|3457b0f6-1777-449...|   mark17@smith.info|50.0|  Other|Saint Vincent and...| 2022-03-04|2024-09-28 20:31:11|     true|    6818.82|    Adult|           true|              push|           es|   Kristin|   Barker|         Gold|\n",
      "|adbc75ff-9d33-446...|vanceamanda@yahoo...|39.0|  Other|           Guatemala| 2023-09-16|2025-03-04 14:43:28|    false|    1623.67|    Adult|           true|              push|           es|   Anthony|     Hart|         Gold|\n",
      "|a97da932-82a3-4ec...|youngjacob@yahoo.com|66.0|   Male|           Mauritius| 2025-06-24|2024-08-02 21:59:11|    false|    8424.61|   Senior|           true|             email|           es|    Carrie|   Hughes|         Gold|\n",
      "|a5767eda-bd1d-482...|goodmanlaura@hotm...|52.0|  Other|                Guam| 2023-12-26|2024-12-25 13:57:45|    false|     243.79|    Adult|          false|               sms|           fr|   Shelley|   Morrow|       Bronze|\n",
      "|cc7f129e-fb05-49d...| tranroy@hotmail.com|50.0|Unknown|             Tokelau| 2021-08-24|2025-01-13 13:17:33|     true|    9292.69|    Adult|           true|              push|           es|    Andrew|  Stanley|         Gold|\n",
      "|9977d5e4-6b2d-418...|rosalesgeorge@mar...|50.0|Unknown|      United Kingdom| 2022-07-20|2024-08-21 03:30:28|    false|    1253.99|    Adult|           true|             email|           es|     Tyler| Crawford|         Gold|\n",
      "|9b330788-2219-400...|     sgay@barnes.com|39.0| Female|Saint Vincent and...| 2023-01-15|2024-09-12 18:29:24|    false|    6706.33|    Adult|           true|              push|           fr|      Ryan|   Gibson|         Gold|\n",
      "|c0d08fef-2f97-410...|christine76@gmail...|50.0| Female|          Bangladesh| 2024-09-27|2025-06-25 09:07:54|    false|     8084.6|    Adult|           true|             email|           en|     Jacob|   Dodson|         Gold|\n",
      "|1c462dc3-44aa-413...|zacharysilva@jord...|50.0|Unknown|    French Polynesia| 2021-02-09|2025-04-26 10:00:34|    false|    8645.18|    Adult|           true|              push|           en|      Lisa|   Pierce|         Gold|\n",
      "+--------------------+--------------------+----+-------+--------------------+-----------+-------------------+---------+-----------+---------+---------------+------------------+-------------+----------+---------+-------------+\n",
      "only showing top 20 rows\n"
     ]
    }
   ],
   "source": [
    "df_customers_with_loyality = df_customers.withColumn(\"loyality_tier\", when(col(\"total_spent\")>=1000, \"Gold\")\n",
    "                                                     .when(col(\"total_spent\")>=500, \"Silver\")\n",
    "                                                     .when(col(\"total_spent\")>=100, \"Bronze\")\n",
    "                                                     .otherwise(\"Blue\")\n",
    "                                                     )\n",
    "\n"
   ]
  },
  {
   "cell_type": "code",
   "execution_count": 10,
   "id": "7410ef16",
   "metadata": {},
   "outputs": [
    {
     "name": "stderr",
     "output_type": "stream",
     "text": [
      "25/08/07 05:47:40 WARN CacheManager: Asked to cache already cached data.\n"
     ]
    },
    {
     "name": "stdout",
     "output_type": "stream",
     "text": [
      "+--------------------+--------------------+----+-------+--------------------+-----------+-------------------+---------+-----------+---------+---------------+------------------+-------------+----------+---------+-------------+\n",
      "|         customer_id|               email| age| gender|             country|signup_date|         last_login|is_active|total_spent|age_group|pref_newsletter|pref_notifications|pref_language|first_name|last_name|loyality_tier|\n",
      "+--------------------+--------------------+----+-------+--------------------+-----------+-------------------+---------+-----------+---------+---------------+------------------+-------------+----------+---------+-------------+\n",
      "|0e99a07c-c7a5-43d...|robinjackson@wrig...|50.0| Female|              France| 2023-03-01|2025-05-29 22:36:25|     true|     1438.4|    Adult|           true|              push|           en|    Thomas|     Lamb|         Gold|\n",
      "|3a69ac3e-6726-431...|susan51@johnson-g...|20.0|   Male|       Guinea-Bissau| 2020-12-14|2025-03-21 23:52:55|     true|    2364.98|    Young|           true|              push|           fr|  Kimberly|    Blake|         Gold|\n",
      "|c63cab5f-dc06-484...|leahwilliams@gmai...|50.0| Female|               Kenya| 2023-11-16|2024-09-05 04:59:24|    false|    5913.19|    Adult|           true|             email|           de|   William|   Taylor|         Gold|\n",
      "|50b165d0-6486-4d5...|   brian56@gmail.com|27.0|  Other|              Mexico| 2021-09-03|2025-02-06 07:51:31|     true|     972.82|    Young|           true|               sms|           es|    Amanda|   Wright|       Silver|\n",
      "|4657a2b1-abae-49a...|danieldiaz@hendri...|69.0|Unknown|              Taiwan| 2022-11-05|2025-06-14 04:15:42|     true|     9732.5|   Senior|          false|             email|           es|     Molly|   Watson|         Gold|\n",
      "|0ffe272a-f261-450...|    lisa87@gmail.com|50.0| Female|Bouvet Island (Bo...| 2023-07-14|2025-03-05 14:30:02|     true|     505.95|    Adult|           true|               sms|           en|     Kelly|     Boyd|       Silver|\n",
      "|ca9191a8-f736-46c...|    jperry@gmail.com|50.0|  Other|Saint Pierre and ...| 2023-09-02|2024-10-01 20:41:01|    false|    6375.06|    Adult|          false|             email|           es|    Jeremy|     Rios|         Gold|\n",
      "|808301e6-260a-47a...|megansaunders@lee...|50.0|   Male|          Guadeloupe| 2022-01-27|2025-04-01 11:16:10|     true|    5364.69|    Adult|           true|             email|           de|     Jason|    Hicks|         Gold|\n",
      "|997d2ea4-5957-43d...|allenrachel@hotma...|58.0|  Other|           Sri Lanka| 2024-10-20|2025-02-10 23:58:09|     true|    2329.03|    Adult|           true|               sms|           de|    Rickey|   Snyder|         Gold|\n",
      "|f1d943c5-9fba-4c9...|   james40@gmail.com|50.0| Female|               Congo| 2024-06-18|2025-01-14 12:13:09|    false|    3986.54|    Adult|          false|             email|           es|  Stefanie|    Moore|         Gold|\n",
      "|438f6971-c3b4-4fe...|coxkristen@torres...|50.0|Unknown|    Papua New Guinea| 2020-07-24|2025-04-12 03:00:13|    false|    3651.86|    Adult|           true|              push|           de|     David|   Wilson|         Gold|\n",
      "|3457b0f6-1777-449...|   mark17@smith.info|50.0|  Other|Saint Vincent and...| 2022-03-04|2024-09-28 20:31:11|     true|    6818.82|    Adult|           true|              push|           es|   Kristin|   Barker|         Gold|\n",
      "|adbc75ff-9d33-446...|vanceamanda@yahoo...|39.0|  Other|           Guatemala| 2023-09-16|2025-03-04 14:43:28|    false|    1623.67|    Adult|           true|              push|           es|   Anthony|     Hart|         Gold|\n",
      "|a97da932-82a3-4ec...|youngjacob@yahoo.com|66.0|   Male|           Mauritius| 2025-06-24|2024-08-02 21:59:11|    false|    8424.61|   Senior|           true|             email|           es|    Carrie|   Hughes|         Gold|\n",
      "|a5767eda-bd1d-482...|goodmanlaura@hotm...|52.0|  Other|                Guam| 2023-12-26|2024-12-25 13:57:45|    false|     243.79|    Adult|          false|               sms|           fr|   Shelley|   Morrow|       Bronze|\n",
      "|cc7f129e-fb05-49d...| tranroy@hotmail.com|50.0|Unknown|             Tokelau| 2021-08-24|2025-01-13 13:17:33|     true|    9292.69|    Adult|           true|              push|           es|    Andrew|  Stanley|         Gold|\n",
      "|9977d5e4-6b2d-418...|rosalesgeorge@mar...|50.0|Unknown|      United Kingdom| 2022-07-20|2024-08-21 03:30:28|    false|    1253.99|    Adult|           true|             email|           es|     Tyler| Crawford|         Gold|\n",
      "|9b330788-2219-400...|     sgay@barnes.com|39.0| Female|Saint Vincent and...| 2023-01-15|2024-09-12 18:29:24|    false|    6706.33|    Adult|           true|              push|           fr|      Ryan|   Gibson|         Gold|\n",
      "|c0d08fef-2f97-410...|christine76@gmail...|50.0| Female|          Bangladesh| 2024-09-27|2025-06-25 09:07:54|    false|     8084.6|    Adult|           true|             email|           en|     Jacob|   Dodson|         Gold|\n",
      "|1c462dc3-44aa-413...|zacharysilva@jord...|50.0|Unknown|    French Polynesia| 2021-02-09|2025-04-26 10:00:34|    false|    8645.18|    Adult|           true|              push|           en|      Lisa|   Pierce|         Gold|\n",
      "+--------------------+--------------------+----+-------+--------------------+-----------+-------------------+---------+-----------+---------+---------------+------------------+-------------+----------+---------+-------------+\n",
      "only showing top 20 rows\n"
     ]
    }
   ],
   "source": [
    "df_customers_with_loyality.cache()\n",
    "df_customers_with_loyality.show()"
   ]
  },
  {
   "cell_type": "code",
   "execution_count": 15,
   "id": "5449da1e",
   "metadata": {},
   "outputs": [
    {
     "name": "stderr",
     "output_type": "stream",
     "text": [
      "25/08/07 05:53:58 WARN CacheManager: Asked to cache already cached data.\n",
      "25/08/07 05:53:59 WARN RandomBlockReplicationPolicy: Expecting 1 replicas with only 0 peer/s.\n",
      "25/08/07 05:53:59 WARN BlockManager: Block rdd_29_0 replicated to only 0 peer(s) instead of 1 peers\n"
     ]
    },
    {
     "name": "stdout",
     "output_type": "stream",
     "text": [
      "+--------------------+--------------------+----+-------+--------------------+-----------+-------------------+---------+-----------+---------+---------------+------------------+-------------+----------+---------+-------------+\n",
      "|         customer_id|               email| age| gender|             country|signup_date|         last_login|is_active|total_spent|age_group|pref_newsletter|pref_notifications|pref_language|first_name|last_name|loyality_tier|\n",
      "+--------------------+--------------------+----+-------+--------------------+-----------+-------------------+---------+-----------+---------+---------------+------------------+-------------+----------+---------+-------------+\n",
      "|0e99a07c-c7a5-43d...|robinjackson@wrig...|50.0| Female|              France| 2023-03-01|2025-05-29 22:36:25|     true|     1438.4|    Adult|           true|              push|           en|    Thomas|     Lamb|         Gold|\n",
      "|3a69ac3e-6726-431...|susan51@johnson-g...|20.0|   Male|       Guinea-Bissau| 2020-12-14|2025-03-21 23:52:55|     true|    2364.98|    Young|           true|              push|           fr|  Kimberly|    Blake|         Gold|\n",
      "|c63cab5f-dc06-484...|leahwilliams@gmai...|50.0| Female|               Kenya| 2023-11-16|2024-09-05 04:59:24|    false|    5913.19|    Adult|           true|             email|           de|   William|   Taylor|         Gold|\n",
      "|50b165d0-6486-4d5...|   brian56@gmail.com|27.0|  Other|              Mexico| 2021-09-03|2025-02-06 07:51:31|     true|     972.82|    Young|           true|               sms|           es|    Amanda|   Wright|       Silver|\n",
      "|4657a2b1-abae-49a...|danieldiaz@hendri...|69.0|Unknown|              Taiwan| 2022-11-05|2025-06-14 04:15:42|     true|     9732.5|   Senior|          false|             email|           es|     Molly|   Watson|         Gold|\n",
      "|0ffe272a-f261-450...|    lisa87@gmail.com|50.0| Female|Bouvet Island (Bo...| 2023-07-14|2025-03-05 14:30:02|     true|     505.95|    Adult|           true|               sms|           en|     Kelly|     Boyd|       Silver|\n",
      "|ca9191a8-f736-46c...|    jperry@gmail.com|50.0|  Other|Saint Pierre and ...| 2023-09-02|2024-10-01 20:41:01|    false|    6375.06|    Adult|          false|             email|           es|    Jeremy|     Rios|         Gold|\n",
      "|808301e6-260a-47a...|megansaunders@lee...|50.0|   Male|          Guadeloupe| 2022-01-27|2025-04-01 11:16:10|     true|    5364.69|    Adult|           true|             email|           de|     Jason|    Hicks|         Gold|\n",
      "|997d2ea4-5957-43d...|allenrachel@hotma...|58.0|  Other|           Sri Lanka| 2024-10-20|2025-02-10 23:58:09|     true|    2329.03|    Adult|           true|               sms|           de|    Rickey|   Snyder|         Gold|\n",
      "|f1d943c5-9fba-4c9...|   james40@gmail.com|50.0| Female|               Congo| 2024-06-18|2025-01-14 12:13:09|    false|    3986.54|    Adult|          false|             email|           es|  Stefanie|    Moore|         Gold|\n",
      "|438f6971-c3b4-4fe...|coxkristen@torres...|50.0|Unknown|    Papua New Guinea| 2020-07-24|2025-04-12 03:00:13|    false|    3651.86|    Adult|           true|              push|           de|     David|   Wilson|         Gold|\n",
      "|3457b0f6-1777-449...|   mark17@smith.info|50.0|  Other|Saint Vincent and...| 2022-03-04|2024-09-28 20:31:11|     true|    6818.82|    Adult|           true|              push|           es|   Kristin|   Barker|         Gold|\n",
      "|adbc75ff-9d33-446...|vanceamanda@yahoo...|39.0|  Other|           Guatemala| 2023-09-16|2025-03-04 14:43:28|    false|    1623.67|    Adult|           true|              push|           es|   Anthony|     Hart|         Gold|\n",
      "|a97da932-82a3-4ec...|youngjacob@yahoo.com|66.0|   Male|           Mauritius| 2025-06-24|2024-08-02 21:59:11|    false|    8424.61|   Senior|           true|             email|           es|    Carrie|   Hughes|         Gold|\n",
      "|a5767eda-bd1d-482...|goodmanlaura@hotm...|52.0|  Other|                Guam| 2023-12-26|2024-12-25 13:57:45|    false|     243.79|    Adult|          false|               sms|           fr|   Shelley|   Morrow|       Bronze|\n",
      "|cc7f129e-fb05-49d...| tranroy@hotmail.com|50.0|Unknown|             Tokelau| 2021-08-24|2025-01-13 13:17:33|     true|    9292.69|    Adult|           true|              push|           es|    Andrew|  Stanley|         Gold|\n",
      "|9977d5e4-6b2d-418...|rosalesgeorge@mar...|50.0|Unknown|      United Kingdom| 2022-07-20|2024-08-21 03:30:28|    false|    1253.99|    Adult|           true|             email|           es|     Tyler| Crawford|         Gold|\n",
      "|9b330788-2219-400...|     sgay@barnes.com|39.0| Female|Saint Vincent and...| 2023-01-15|2024-09-12 18:29:24|    false|    6706.33|    Adult|           true|              push|           fr|      Ryan|   Gibson|         Gold|\n",
      "|c0d08fef-2f97-410...|christine76@gmail...|50.0| Female|          Bangladesh| 2024-09-27|2025-06-25 09:07:54|    false|     8084.6|    Adult|           true|             email|           en|     Jacob|   Dodson|         Gold|\n",
      "|1c462dc3-44aa-413...|zacharysilva@jord...|50.0|Unknown|    French Polynesia| 2021-02-09|2025-04-26 10:00:34|    false|    8645.18|    Adult|           true|              push|           en|      Lisa|   Pierce|         Gold|\n",
      "+--------------------+--------------------+----+-------+--------------------+-----------+-------------------+---------+-----------+---------+---------------+------------------+-------------+----------+---------+-------------+\n",
      "only showing top 20 rows\n"
     ]
    }
   ],
   "source": [
    "from pyspark import StorageLevel\n",
    "\n",
    "df_customers_with_loyality.persist(StorageLevel.MEMORY_AND_DISK_2)\n",
    "\n",
    "df_customers_with_loyality.show()"
   ]
  },
  {
   "cell_type": "code",
   "execution_count": 12,
   "id": "383aa77f",
   "metadata": {},
   "outputs": [
    {
     "name": "stdout",
     "output_type": "stream",
     "text": [
      "== Parsed Logical Plan ==\n",
      "'Aggregate ['country], ['country, 'count(1) AS count#1230]\n",
      "+- Filter (is_active#7 = true)\n",
      "   +- Project [customer_id#0, email#1, age#2, gender#3, country#4, signup_date#5, last_login#6, is_active#7, total_spent#8, age_group#9, pref_newsletter#10, pref_notifications#11, pref_language#12, first_name#13, last_name#14, CASE WHEN (total_spent#8 >= cast(1000 as double)) THEN Gold WHEN (total_spent#8 >= cast(500 as double)) THEN Silver WHEN (total_spent#8 >= cast(100 as double)) THEN Bronze ELSE Blue END AS loyality_tier#62]\n",
      "      +- Relation [customer_id#0,email#1,age#2,gender#3,country#4,signup_date#5,last_login#6,is_active#7,total_spent#8,age_group#9,pref_newsletter#10,pref_notifications#11,pref_language#12,first_name#13,last_name#14] parquet\n",
      "\n",
      "== Analyzed Logical Plan ==\n",
      "country: string, count: bigint\n",
      "Aggregate [country#4], [country#4, count(1) AS count#1230L]\n",
      "+- Filter (is_active#7 = true)\n",
      "   +- Project [customer_id#0, email#1, age#2, gender#3, country#4, signup_date#5, last_login#6, is_active#7, total_spent#8, age_group#9, pref_newsletter#10, pref_notifications#11, pref_language#12, first_name#13, last_name#14, CASE WHEN (total_spent#8 >= cast(1000 as double)) THEN Gold WHEN (total_spent#8 >= cast(500 as double)) THEN Silver WHEN (total_spent#8 >= cast(100 as double)) THEN Bronze ELSE Blue END AS loyality_tier#62]\n",
      "      +- Relation [customer_id#0,email#1,age#2,gender#3,country#4,signup_date#5,last_login#6,is_active#7,total_spent#8,age_group#9,pref_newsletter#10,pref_notifications#11,pref_language#12,first_name#13,last_name#14] parquet\n",
      "\n",
      "== Optimized Logical Plan ==\n",
      "Aggregate [country#4], [country#4, count(1) AS count#1230L]\n",
      "+- Project [country#4]\n",
      "   +- Filter (isnotnull(is_active#7) AND is_active#7)\n",
      "      +- InMemoryRelation [customer_id#0, email#1, age#2, gender#3, country#4, signup_date#5, last_login#6, is_active#7, total_spent#8, age_group#9, pref_newsletter#10, pref_notifications#11, pref_language#12, first_name#13, last_name#14, loyality_tier#62], StorageLevel(disk, memory, deserialized, 1 replicas)\n",
      "            +- *(1) Project [customer_id#0, email#1, age#2, gender#3, country#4, signup_date#5, last_login#6, is_active#7, total_spent#8, age_group#9, pref_newsletter#10, pref_notifications#11, pref_language#12, first_name#13, last_name#14, CASE WHEN (total_spent#8 >= 1000.0) THEN Gold WHEN (total_spent#8 >= 500.0) THEN Silver WHEN (total_spent#8 >= 100.0) THEN Bronze ELSE Blue END AS loyality_tier#62]\n",
      "               +- *(1) ColumnarToRow\n",
      "                  +- FileScan parquet [customer_id#0,email#1,age#2,gender#3,country#4,signup_date#5,last_login#6,is_active#7,total_spent#8,age_group#9,pref_newsletter#10,pref_notifications#11,pref_language#12,first_name#13,last_name#14] Batched: true, DataFilters: [], Format: Parquet, Location: InMemoryFileIndex(1 paths)[file:/workspaces/trng-2286/datasets/final_customer_data.parquet], PartitionFilters: [], PushedFilters: [], ReadSchema: struct<customer_id:string,email:string,age:double,gender:string,country:string,signup_date:date,l...\n",
      "\n",
      "== Physical Plan ==\n",
      "AdaptiveSparkPlan isFinalPlan=false\n",
      "+- HashAggregate(keys=[country#4], functions=[count(1)], output=[country#4, count#1230L])\n",
      "   +- Exchange hashpartitioning(country#4, 200), ENSURE_REQUIREMENTS, [plan_id=133]\n",
      "      +- HashAggregate(keys=[country#4], functions=[partial_count(1)], output=[country#4, count#1489L])\n",
      "         +- Project [country#4]\n",
      "            +- Filter (isnotnull(is_active#7) AND is_active#7)\n",
      "               +- InMemoryTableScan [country#4, is_active#7], [isnotnull(is_active#7), is_active#7]\n",
      "                     +- InMemoryRelation [customer_id#0, email#1, age#2, gender#3, country#4, signup_date#5, last_login#6, is_active#7, total_spent#8, age_group#9, pref_newsletter#10, pref_notifications#11, pref_language#12, first_name#13, last_name#14, loyality_tier#62], StorageLevel(disk, memory, deserialized, 1 replicas)\n",
      "                           +- *(1) Project [customer_id#0, email#1, age#2, gender#3, country#4, signup_date#5, last_login#6, is_active#7, total_spent#8, age_group#9, pref_newsletter#10, pref_notifications#11, pref_language#12, first_name#13, last_name#14, CASE WHEN (total_spent#8 >= 1000.0) THEN Gold WHEN (total_spent#8 >= 500.0) THEN Silver WHEN (total_spent#8 >= 100.0) THEN Bronze ELSE Blue END AS loyality_tier#62]\n",
      "                              +- *(1) ColumnarToRow\n",
      "                                 +- FileScan parquet [customer_id#0,email#1,age#2,gender#3,country#4,signup_date#5,last_login#6,is_active#7,total_spent#8,age_group#9,pref_newsletter#10,pref_notifications#11,pref_language#12,first_name#13,last_name#14] Batched: true, DataFilters: [], Format: Parquet, Location: InMemoryFileIndex(1 paths)[file:/workspaces/trng-2286/datasets/final_customer_data.parquet], PartitionFilters: [], PushedFilters: [], ReadSchema: struct<customer_id:string,email:string,age:double,gender:string,country:string,signup_date:date,l...\n",
      "\n"
     ]
    }
   ],
   "source": [
    "active_users = df_customers_with_loyality.filter(col(\"is_active\")==True).groupBy(\"country\").count()\n",
    "\n",
    "active_users.explain(True)"
   ]
  },
  {
   "cell_type": "code",
   "execution_count": 7,
   "id": "2b46ef19",
   "metadata": {},
   "outputs": [
    {
     "data": {
      "text/html": [
       "\n",
       "            <div>\n",
       "                <p><b>SparkSession - in-memory</b></p>\n",
       "                \n",
       "        <div>\n",
       "            <p><b>SparkContext</b></p>\n",
       "\n",
       "            <p><a href=\"http://45b3fbcc-f142-42c1-9955-c760a6b1a373.internal.cloudapp.net:4042\">Spark UI</a></p>\n",
       "\n",
       "            <dl>\n",
       "              <dt>Version</dt>\n",
       "                <dd><code>v4.0.0</code></dd>\n",
       "              <dt>Master</dt>\n",
       "                <dd><code>local[*]</code></dd>\n",
       "              <dt>AppName</dt>\n",
       "                <dd><code>cachingDemo</code></dd>\n",
       "            </dl>\n",
       "        </div>\n",
       "        \n",
       "            </div>\n",
       "        "
      ],
      "text/plain": [
       "<pyspark.sql.session.SparkSession at 0x784f7c70de20>"
      ]
     },
     "execution_count": 7,
     "metadata": {},
     "output_type": "execute_result"
    }
   ],
   "source": [
    "spark"
   ]
  },
  {
   "cell_type": "code",
   "execution_count": 13,
   "id": "b6f6aca9",
   "metadata": {},
   "outputs": [
    {
     "data": {
      "text/plain": [
       "DataFrame[customer_id: string, email: string, age: double, gender: string, country: string, signup_date: date, last_login: timestamp, is_active: boolean, total_spent: double, age_group: string, pref_newsletter: boolean, pref_notifications: string, pref_language: string, first_name: string, last_name: string, loyality_tier: string]"
      ]
     },
     "execution_count": 13,
     "metadata": {},
     "output_type": "execute_result"
    }
   ],
   "source": [
    "df_customers_with_loyality.unpersist()"
   ]
  },
  {
   "cell_type": "code",
   "execution_count": null,
   "id": "52f86176",
   "metadata": {},
   "outputs": [],
   "source": []
  }
 ],
 "metadata": {
  "kernelspec": {
   "display_name": "Python 3",
   "language": "python",
   "name": "python3"
  },
  "language_info": {
   "codemirror_mode": {
    "name": "ipython",
    "version": 3
   },
   "file_extension": ".py",
   "mimetype": "text/x-python",
   "name": "python",
   "nbconvert_exporter": "python",
   "pygments_lexer": "ipython3",
   "version": "3.12.1"
  }
 },
 "nbformat": 4,
 "nbformat_minor": 5
}
