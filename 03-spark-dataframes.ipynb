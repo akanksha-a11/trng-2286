{
 "cells": [
  {
   "cell_type": "markdown",
   "id": "c57eff29",
   "metadata": {},
   "source": [
    "# Spark DataFrames API\n",
    "\n",
    "\n",
    "### Dataframe\n",
    "\n",
    "- DataFrames are ditributed collections of records, all with pre-defined structure(schema - structure and data types of all columns)\n",
    "-  DataFrames are built on Spark's core concepts but with structure, optimization and SQL-like operations for data manipulation.\n",
    "- DataFrames track their schema and provide native support for many common SQL functions and relational operators\n",
    "- DataFrames are evaluated as DAGs, using lazy evaluation and providing lineage and fault tolerance.\n",
    "- DataFrames are immutable\n",
    "\n",
    "### SparkContext vs SparkSession\n",
    "\n",
    "- SparkSession is Spark application entry point. \n",
    "- Introduced in spark 2.0 as a unified entry point for all contexts (formerly instantiated individually as SparkContext, SQLContext, HiveContext, StreamingContext)\n",
    "\n",
    "<i>Note: In databricks it is automatically created for you as spark</i>\n",
    "\n",
    "### DataFrame API Optimizations\n",
    "\n",
    "- **Adaptive Query Execution:** Dynamic plan adjustments during runtime based on actual data characteristics and execution patterns.\n",
    "- **In-Memory Columnar Storage(Tungsten):** In-Memory coloumnar format for all the DataFrames enabling efficient analytical query performance and reduced memory footprint.\n",
    "- **Built-in Statistics** - Automatic statistics collection when saving to optimized formats (Parqurt, Delta in databricks) enables smarter query planning and execution.\n",
    "- **Catalyst Optimizer:** Query optimization engine that coverts DataFrame operations into an optimized execution plan\n",
    "\n",
    "\n",
    "<i>**Note** Databricks comes with a native vectorized query engine that accelerates query execution using photon engine</i>\n",
    "\n",
    "**DataFrame Query Planning:** \n",
    "\n",
    "- When a DataFrame is evaluated, the driver creates an optimized execution plan through a series of transformations \n",
    "- Converts the logical plan into phycal execution that minimizes resource usage and execution time. (Unresolved LP -> analysed LP -> optimized LP -> Physical Plan)\n",
    "\n",
    "\n",
    "\n",
    "reference: [spark df and sql docs](https://spark.apache.org/docs/latest/sql-programming-guide.html)\n",
    "\n"
   ]
  },
  {
   "cell_type": "code",
   "execution_count": 1,
   "id": "1cf09c99",
   "metadata": {},
   "outputs": [
    {
     "name": "stdout",
     "output_type": "stream",
     "text": [
      "Requirement already satisfied: pyspark in /usr/local/python/3.12.1/lib/python3.12/site-packages (4.0.0)\n",
      "Requirement already satisfied: py4j==0.10.9.9 in /usr/local/python/3.12.1/lib/python3.12/site-packages (from pyspark) (0.10.9.9)\n",
      "\n",
      "\u001b[1m[\u001b[0m\u001b[34;49mnotice\u001b[0m\u001b[1;39;49m]\u001b[0m\u001b[39;49m A new release of pip is available: \u001b[0m\u001b[31;49m25.1.1\u001b[0m\u001b[39;49m -> \u001b[0m\u001b[32;49m25.2\u001b[0m\n",
      "\u001b[1m[\u001b[0m\u001b[34;49mnotice\u001b[0m\u001b[1;39;49m]\u001b[0m\u001b[39;49m To update, run: \u001b[0m\u001b[32;49mpython3 -m pip install --upgrade pip\u001b[0m\n"
     ]
    }
   ],
   "source": [
    "! pip install pyspark"
   ]
  },
  {
   "cell_type": "code",
   "execution_count": 2,
   "id": "a69919be",
   "metadata": {},
   "outputs": [
    {
     "name": "stderr",
     "output_type": "stream",
     "text": [
      "WARNING: Using incubator modules: jdk.incubator.vector\n",
      "Using Spark's default log4j profile: org/apache/spark/log4j2-defaults.properties\n",
      "25/08/06 03:47:24 WARN Utils: Your hostname, codespaces-c6070e, resolves to a loopback address: 127.0.0.1; using 10.0.1.244 instead (on interface eth0)\n",
      "25/08/06 03:47:24 WARN Utils: Set SPARK_LOCAL_IP if you need to bind to another address\n",
      "Using Spark's default log4j profile: org/apache/spark/log4j2-defaults.properties\n",
      "Setting default log level to \"WARN\".\n",
      "To adjust logging level use sc.setLogLevel(newLevel). For SparkR, use setLogLevel(newLevel).\n",
      "25/08/06 03:47:27 WARN NativeCodeLoader: Unable to load native-hadoop library for your platform... using builtin-java classes where applicable\n"
     ]
    }
   ],
   "source": [
    "from pyspark.sql import SparkSession\n",
    "\n",
    "spark = SparkSession.builder.appName(\"demoDFCustomers\").getOrCreate()"
   ]
  },
  {
   "cell_type": "code",
   "execution_count": 3,
   "id": "6c785ba6",
   "metadata": {},
   "outputs": [
    {
     "data": {
      "text/html": [
       "\n",
       "            <div>\n",
       "                <p><b>SparkSession - in-memory</b></p>\n",
       "                \n",
       "        <div>\n",
       "            <p><b>SparkContext</b></p>\n",
       "\n",
       "            <p><a href=\"http://cf21f761-270f-4539-bcb3-da5587af4f6c.internal.cloudapp.net:4040\">Spark UI</a></p>\n",
       "\n",
       "            <dl>\n",
       "              <dt>Version</dt>\n",
       "                <dd><code>v4.0.0</code></dd>\n",
       "              <dt>Master</dt>\n",
       "                <dd><code>local[*]</code></dd>\n",
       "              <dt>AppName</dt>\n",
       "                <dd><code>demoDFCustomers</code></dd>\n",
       "            </dl>\n",
       "        </div>\n",
       "        \n",
       "            </div>\n",
       "        "
      ],
      "text/plain": [
       "<pyspark.sql.session.SparkSession at 0x76933a5346b0>"
      ]
     },
     "execution_count": 3,
     "metadata": {},
     "output_type": "execute_result"
    }
   ],
   "source": [
    "spark"
   ]
  },
  {
   "cell_type": "code",
   "execution_count": 5,
   "id": "fb7193c0",
   "metadata": {},
   "outputs": [],
   "source": [
    "# Creating DataFrames - DataFrameReader\n",
    "# supports multiple formats such as CSV, JSON, Parquet, Text or Binary and even RDDs (existing)\n",
    "\n",
    "df_customers = spark.read.csv(\"file:///workspaces/trng-2286/datasets/raw_customer_data.csv\", header= True, inferSchema=True, escape='\"')"
   ]
  },
  {
   "cell_type": "code",
   "execution_count": 7,
   "id": "1e6fa11f",
   "metadata": {},
   "outputs": [
    {
     "name": "stdout",
     "output_type": "stream",
     "text": [
      "+------------------------------------+--------------+---------------------------+----+------+-------------+-----------+-------------------+---------+-----------+----------------------------------------------------------------+\n",
      "|customer_id                         |name          |email                      |age |gender|country      |signup_date|last_login         |is_active|total_spent|preferences                                                     |\n",
      "+------------------------------------+--------------+---------------------------+----+------+-------------+-----------+-------------------+---------+-----------+----------------------------------------------------------------+\n",
      "|0e99a07c-c7a5-43df-b5f3-79e2a9f18fc6|Thomas Lamb   |robinjackson@wright.com    |NULL|Female|France       |2023-03-01 |2025-05-29 22:36:25|true     |1438.4     |{\"newsletter\": true, \"notifications\": \"push\", \"language\": \"en\"} |\n",
      "|3a69ac3e-6726-431c-82a7-5241ef568188|Kimberly Blake|susan51@johnson-garrett.com|20.0|Male  |Guinea-Bissau|2020-12-14 |2025-03-21 23:52:55|true     |2364.98    |{\"newsletter\": true, \"notifications\": \"push\", \"language\": \"fr\"} |\n",
      "|c63cab5f-dc06-4842-926a-118f85a2e7ae|William Taylor|leahwilliams@gmail.com     |NULL|Female|Kenya        |2023-11-16 |2024-09-05 04:59:24|false    |5913.19    |{\"newsletter\": true, \"notifications\": \"email\", \"language\": \"de\"}|\n",
      "|50b165d0-6486-4d5b-bcb8-12147c6f8160|Amanda Wright |brian56@gmail.com          |27.0|Other |Mexico       |2021-09-03 |2025-02-06 07:51:31|true     |972.82     |{\"newsletter\": true, \"notifications\": \"sms\", \"language\": \"es\"}  |\n",
      "+------------------------------------+--------------+---------------------------+----+------+-------------+-----------+-------------------+---------+-----------+----------------------------------------------------------------+\n",
      "only showing top 4 rows\n"
     ]
    }
   ],
   "source": [
    "df_customers.show(4, truncate=False)"
   ]
  },
  {
   "cell_type": "markdown",
   "id": "9096a9b8",
   "metadata": {},
   "source": [
    "\n",
    "### DataFrame Data Types\n",
    "\n",
    "#### Primitive\n",
    "\n",
    "**`pyspark.sql.types.DataType`**\n",
    "\n",
    "- `ByteType`\n",
    "- `ShortType`\n",
    "- `IntegerType`\n",
    "- `LongType`\n",
    "- `FloatType`\n",
    "- `DoubleType`\n",
    "- `BooleanType`\n",
    "- `StringType`\n",
    "- `BinaryType`\n",
    "- `TimestampType`\n",
    "- `DateType`\n",
    "\n",
    "#### complex data types\n",
    "\n",
    "- `ArrayType`\n",
    "- `MapType`\n",
    "- `StructType`"
   ]
  },
  {
   "cell_type": "markdown",
   "id": "4c9688e9",
   "metadata": {},
   "source": [
    "### Common DataFrame API methods\n",
    "\n",
    "#### Transformations\n",
    "\n",
    "##### Narrow Transformations\n",
    "\n",
    "- narrow transformations process data within each partition independetly, without needing to combine data from other partitions.\n",
    "- faster and more efficient because they avoid data shuffling between partitions. \n",
    "\n",
    "1. `select()` : selecting specific rows\n",
    "2. `filter()`: Applying a filter condition to rows. \n",
    "3. `map()`: Applying a function to each row. \n",
    "4. `union()`: Combining two DataFrames with identical schemas. \n",
    "5. `withColumn()`: Adding a new column based on existing ones. \n",
    "6. `drop()`: Removing a column. \n",
    "\n",
    "##### Wide Transformations\n",
    "\n",
    "- Wide transformations require data to be redistributed across partitions, often involving shuffling data based on keys.\n",
    "\n",
    "1. `groupBy()`: Grouping data based on a column, which often requires shuffling to aggregate data from different partitions. \n",
    "2. `join()`: Joining two DataFrames, which requires shuffling data to combine rows based on a join key. \n",
    "3. `distinct()`: Removing duplicate rows, which might require shuffling to compare rows across partitions. \n",
    "\n",
    "#### Actions\n",
    "\n",
    "1. `count()`: returns number of rows in a Dataframe\n",
    "2. `show()`: display DataFrame content\n",
    "3. `take(n)`: return first n rows from a DataFrame\n",
    "4. `first()`: return first row from a DataFrame\n",
    "5. `write()`: save DataFrame to storage"
   ]
  },
  {
   "cell_type": "code",
   "execution_count": 11,
   "id": "4e834e0f",
   "metadata": {},
   "outputs": [
    {
     "name": "stdout",
     "output_type": "stream",
     "text": [
      "root\n",
      " |-- customer_id: string (nullable = true)\n",
      " |-- name: string (nullable = true)\n",
      " |-- email: string (nullable = true)\n",
      " |-- age: double (nullable = true)\n",
      " |-- gender: string (nullable = true)\n",
      " |-- country: string (nullable = true)\n",
      " |-- signup_date: date (nullable = true)\n",
      " |-- last_login: timestamp (nullable = true)\n",
      " |-- is_active: boolean (nullable = true)\n",
      " |-- total_spent: double (nullable = true)\n",
      " |-- preferences: string (nullable = true)\n",
      "\n"
     ]
    }
   ],
   "source": [
    "# DataFrame Schema\n",
    "\n",
    "df_customers.printSchema()"
   ]
  },
  {
   "cell_type": "code",
   "execution_count": 15,
   "id": "7119458f",
   "metadata": {},
   "outputs": [
    {
     "name": "stdout",
     "output_type": "stream",
     "text": [
      "root\n",
      " |-- customer_id: string (nullable = true)\n",
      " |-- name: string (nullable = true)\n",
      " |-- email: string (nullable = true)\n",
      " |-- age: double (nullable = true)\n",
      " |-- gender: string (nullable = true)\n",
      " |-- country: string (nullable = true)\n",
      " |-- signup_date: date (nullable = true)\n",
      " |-- last_login: timestamp (nullable = true)\n",
      " |-- is_active: boolean (nullable = true)\n",
      " |-- total_spent: double (nullable = true)\n",
      " |-- preferences: string (nullable = true)\n",
      "\n"
     ]
    }
   ],
   "source": [
    "# custom schema\n",
    "\n",
    "from pyspark.sql.types import StructField, StructType, StringType, IntegerType, DoubleType, BooleanType, TimestampType, DateType\n",
    "\n",
    "\n",
    "custom_schema = StructType([\n",
    "    StructField(\"customer_id\", StringType(), True),\n",
    "    StructField(\"name\", StringType(), True),\n",
    "    StructField(\"email\", StringType(), True),\n",
    "    StructField(\"age\", DoubleType(), True ),\n",
    "    StructField(\"gender\", StringType(), True),\n",
    "    StructField(\"country\", StringType(), True),\n",
    "    StructField(\"signup_date\", DateType(), True),\n",
    "    StructField(\"last_login\", TimestampType(), True),\n",
    "    StructField(\"is_active\", BooleanType(), True),\n",
    "    StructField(\"total_spent\", DoubleType(), True),\n",
    "    StructField(\"preferences\", StringType(), True)\n",
    "\n",
    "])\n",
    "\n",
    "df_customers = spark.read.csv(\"file:///workspaces/trng-2286/datasets/raw_customer_data.csv\", header= True, schema=custom_schema, escape='\"')\n",
    "\n",
    "df_customers.printSchema()"
   ]
  },
  {
   "cell_type": "code",
   "execution_count": 17,
   "id": "fc5e06e5",
   "metadata": {},
   "outputs": [
    {
     "name": "stdout",
     "output_type": "stream",
     "text": [
      "root\n",
      " |-- customer_id: string (nullable = true)\n",
      " |-- name: string (nullable = true)\n",
      " |-- email: string (nullable = true)\n",
      " |-- age: double (nullable = true)\n",
      " |-- gender: string (nullable = true)\n",
      " |-- country: string (nullable = true)\n",
      " |-- signup_date: date (nullable = true)\n",
      " |-- last_login: timestamp (nullable = true)\n",
      " |-- is_active: boolean (nullable = true)\n",
      " |-- total_spent: double (nullable = true)\n",
      " |-- preferences: string (nullable = true)\n",
      "\n"
     ]
    }
   ],
   "source": [
    "# ddl schema \n",
    "\n",
    "ddl_schema = \"\"\"\n",
    "customer_id STRING,\n",
    "name STRING,\n",
    "email STRING,\n",
    "age DOUBLE,\n",
    "gender STRING,\n",
    "country STRING,\n",
    "signup_date DATE,\n",
    "last_login TIMESTAMP,\n",
    "is_active BOOLEAN,\n",
    "total_spent DOUBLE,\n",
    "preferences STRING\n",
    "\"\"\"\n",
    "\n",
    "df_customers = spark.read.csv(\"file:///workspaces/trng-2286/datasets/raw_customer_data.csv\", header= True, schema=ddl_schema, escape='\"')\n",
    "\n",
    "df_customers.printSchema()"
   ]
  },
  {
   "cell_type": "markdown",
   "id": "54118275",
   "metadata": {},
   "source": [
    "#### Handiling missing values\n",
    "\n",
    "**common functions**\n",
    "\n",
    "- `isNull()`/`isNotNull()` - checks if values are null\n",
    "- `count(col)` - counts non null values in a specific column\n",
    "- `df.fillna()`/`df.na.fill()` - replace nulls with values\n",
    "- `df.dropna()`/`df.na.drop()` - remove rows with nulls\n",
    "\n",
    "#### referencing columns\n",
    "\n",
    "- direct - `df.select(\"col_name\")` - basic column selection\n",
    "\n",
    "- by attribute - `df.select(df.attribute)` - column names that are valid python idenfiers, can be referenced across DataFrames(e.g., join)\n",
    "\n",
    "- column expression - `df.select(df[\"col_name\"])` - any column names, can be referenced across DataFrames\n",
    "\n",
    "- column object - `df.select(col(\"name\"))` - required when building complex expressions or using column specific operations like `cast()`, `alias()`, `asc()`or `desc()`\n",
    "\n",
    "\n",
    "#### common column object methods\n",
    "\n",
    "- `alias()` - rename column\n",
    "- `cast()` - chnage data type\n",
    "- `isNull()` or `isNotNull()` - check for nulls\n",
    "- `contains()` - string matching\n",
    "- `asc()`/`desc()` - sort direction - `df.sort(col(\"c1\").asc())`\n",
    "\n",
    "\n",
    "[pyspark.sql.Column](https://spark.apache.org/docs/latest/api/python/reference/pyspark.sql/api/pyspark.sql.Column.html)\n",
    "\n",
    "#### common built-in functions\n",
    "\n",
    "- `concat(col1, col2)` - concatenate strings\n",
    "- `date_format(col, fmt)` - fromat date strings\n",
    "- `round(col, scale)` - round number to scale\n",
    "- `regexp_replace(col, pattern, replace)` - replace using regex\n",
    "- `coalesce(col1, col2)` - first non null value\n",
    "\n",
    "\n",
    "[pyspark built in functions](https://spark.apache.org/docs/latest/api/python/reference/pyspark.sql/functions.html)\n",
    "\n",
    "#### user defined functions\n",
    "\n",
    "- allows to use python functions on dataframe columns\n",
    "- helpful to create custom reusable functions\n",
    "- can impact performance as they can not be optimized by the Catalyst optimizer and has serialiation overhead.\n",
    "\n",
    "```py\n",
    "@udf(\"data_type\")\n",
    "def function_name(name):\n",
    "    return value\n",
    "\n",
    "df.select(function_name(\"name\"))\n",
    "```\n",
    "\n",
    "<i><b>note:</b> pandas udfs are efficient becuase they operate on batches of rows instead of single rows, they leverage Apache Arrow for more efficient python-JVM serialization </i>\n",
    "\n",
    "### Aggregate functions\n",
    "\n",
    "can be applied in `agg()` method after `groupBy()` operation or directly within `select()`\n",
    "\n",
    "- `sum()`\n",
    "- `avg()`\n",
    "- `min()`\n",
    "- `max()`\n",
    "- `count()`\n",
    "- `first()`\n",
    "- `last()`\n",
    "\n",
    "### Spark SQL\n",
    "\n",
    "- Spark SQL is a module in spark that allows you to run SQL queries on structured and semi-structured data.\n",
    "- It provides a SQL-like interface on top of Spark's powerful DataFrame API, enabling both SQL and programmatic access to data, all with the same optimized execution engine.\n",
    "\n",
    "- `createOrReplaceTempView()` : created a temp in-memory view that you can query with SQL.\n",
    "- `createGlobalTempView()` : Creates a global temporary view accessible across sessions (under global_temp database)."
   ]
  },
  {
   "cell_type": "code",
   "execution_count": 20,
   "id": "812d7936",
   "metadata": {},
   "outputs": [],
   "source": [
    "from pyspark.sql.types import *\n",
    "from pyspark.sql.functions import *"
   ]
  },
  {
   "cell_type": "markdown",
   "id": "df8a2cd3",
   "metadata": {},
   "source": [
    "#### Data Cleaning"
   ]
  },
  {
   "cell_type": "code",
   "execution_count": 18,
   "id": "a4d3efd2",
   "metadata": {},
   "outputs": [
    {
     "name": "stdout",
     "output_type": "stream",
     "text": [
      "+--------------------+----------------+--------------------+----+------+--------------------+-----------+-------------------+---------+-----------+--------------------+\n",
      "|         customer_id|            name|               email| age|gender|             country|signup_date|         last_login|is_active|total_spent|         preferences|\n",
      "+--------------------+----------------+--------------------+----+------+--------------------+-----------+-------------------+---------+-----------+--------------------+\n",
      "|0e99a07c-c7a5-43d...|     Thomas Lamb|robinjackson@wrig...|NULL|Female|              France| 2023-03-01|2025-05-29 22:36:25|     true|     1438.4|{\"newsletter\": tr...|\n",
      "|3a69ac3e-6726-431...|  Kimberly Blake|susan51@johnson-g...|20.0|  Male|       Guinea-Bissau| 2020-12-14|2025-03-21 23:52:55|     true|    2364.98|{\"newsletter\": tr...|\n",
      "|c63cab5f-dc06-484...|  William Taylor|leahwilliams@gmai...|NULL|Female|               Kenya| 2023-11-16|2024-09-05 04:59:24|    false|    5913.19|{\"newsletter\": tr...|\n",
      "|50b165d0-6486-4d5...|   Amanda Wright|   brian56@gmail.com|27.0| Other|              Mexico| 2021-09-03|2025-02-06 07:51:31|     true|     972.82|{\"newsletter\": tr...|\n",
      "|4657a2b1-abae-49a...|    Molly Watson|danieldiaz@hendri...|69.0|  NULL|              Taiwan| 2022-11-05|2025-06-14 04:15:42|     true|     9732.5|{\"newsletter\": fa...|\n",
      "|0ffe272a-f261-450...|      Kelly Boyd|    lisa87@gmail.com|NULL|Female|Bouvet Island (Bo...| 2023-07-14|2025-03-05 14:30:02|     true|     505.95|{\"newsletter\": tr...|\n",
      "|ca9191a8-f736-46c...|     Jeremy Rios|    jperry@gmail.com|NULL| Other|Saint Pierre and ...| 2023-09-02|2024-10-01 20:41:01|    false|    6375.06|{\"newsletter\": fa...|\n",
      "|808301e6-260a-47a...|     Jason Hicks|megansaunders@lee...|NULL|  Male|          Guadeloupe| 2022-01-27|2025-04-01 11:16:10|     true|    5364.69|{\"newsletter\": tr...|\n",
      "|997d2ea4-5957-43d...|   Rickey Snyder|allenrachel@hotma...|58.0| Other|           Sri Lanka| 2024-10-20|2025-02-10 23:58:09|     true|    2329.03|{\"newsletter\": tr...|\n",
      "|f1d943c5-9fba-4c9...|  Stefanie Moore|   james40@gmail.com|NULL|Female|               Congo| 2024-06-18|2025-01-14 12:13:09|    false|    3986.54|{\"newsletter\": fa...|\n",
      "|438f6971-c3b4-4fe...|    David Wilson|coxkristen@torres...|NULL|  NULL|    Papua New Guinea| 2020-07-24|2025-04-12 03:00:13|    false|    3651.86|{\"newsletter\": tr...|\n",
      "|75597c43-a8e0-4c0...|     Terry Terry|                NULL|21.0|Female|             Romania| 2024-10-11|2024-08-01 03:52:47|     true|    7931.19|{\"newsletter\": fa...|\n",
      "|3457b0f6-1777-449...|  Kristin Barker|   mark17@smith.info|NULL| Other|Saint Vincent and...| 2022-03-04|2024-09-28 20:31:11|     true|    6818.82|{\"newsletter\": tr...|\n",
      "|adbc75ff-9d33-446...|    Anthony Hart|vanceamanda@yahoo...|39.0| Other|           Guatemala| 2023-09-16|2025-03-04 14:43:28|    false|    1623.67|{\"newsletter\": tr...|\n",
      "|a97da932-82a3-4ec...|   Carrie Hughes|youngjacob@yahoo.com|66.0|  Male|           Mauritius| 2025-06-24|2024-08-02 21:59:11|    false|    8424.61|{\"newsletter\": tr...|\n",
      "|a5767eda-bd1d-482...|  Shelley Morrow|goodmanlaura@hotm...|52.0| Other|                Guam| 2023-12-26|2024-12-25 13:57:45|    false|     243.79|{\"newsletter\": fa...|\n",
      "|7e9fe7a2-04ae-43b...|    Adam Carlson|                NULL|54.0|  Male|               Macao| 2020-10-16|2025-06-01 12:25:37|    false|    8169.43|{\"newsletter\": tr...|\n",
      "|cc7f129e-fb05-49d...|  Andrew Stanley| tranroy@hotmail.com|NULL|  NULL|             Tokelau| 2021-08-24|2025-01-13 13:17:33|     true|    9292.69|{\"newsletter\": tr...|\n",
      "|9977d5e4-6b2d-418...|  Tyler Crawford|rosalesgeorge@mar...|NULL|  NULL|      United Kingdom| 2022-07-20|2024-08-21 03:30:28|    false|    1253.99|{\"newsletter\": tr...|\n",
      "|5c69744e-d373-4a9...|Danielle Fischer|                NULL|53.0|Female|   Equatorial Guinea| 2023-05-02|2024-11-03 11:42:56|     true|     756.38|{\"newsletter\": tr...|\n",
      "+--------------------+----------------+--------------------+----+------+--------------------+-----------+-------------------+---------+-----------+--------------------+\n",
      "only showing top 20 rows\n"
     ]
    }
   ],
   "source": [
    "df_customers.show()"
   ]
  },
  {
   "cell_type": "code",
   "execution_count": 22,
   "id": "6e5bfb9a",
   "metadata": {},
   "outputs": [
    {
     "name": "stdout",
     "output_type": "stream",
     "text": [
      "+-----------+----+-----+---+------+-------+-----------+----------+---------+-----------+-----------+\n",
      "|customer_id|name|email|age|gender|country|signup_date|last_login|is_active|total_spent|preferences|\n",
      "+-----------+----+-----+---+------+-------+-----------+----------+---------+-----------+-----------+\n",
      "+-----------+----+-----+---+------+-------+-----------+----------+---------+-----------+-----------+\n",
      "\n"
     ]
    }
   ],
   "source": [
    "# drop records with missing email\n",
    "\n",
    "df_clean = df_customers.na.drop(subset=\"email\")\n",
    "\n",
    "df_clean.filter(col(\"email\").isNull()==True).show()"
   ]
  },
  {
   "cell_type": "code",
   "execution_count": 23,
   "id": "6ad04073",
   "metadata": {},
   "outputs": [
    {
     "name": "stdout",
     "output_type": "stream",
     "text": [
      "+--------------------+--------------+--------------------+----+-------+--------------------+-----------+-------------------+---------+-----------+--------------------+\n",
      "|         customer_id|          name|               email| age| gender|             country|signup_date|         last_login|is_active|total_spent|         preferences|\n",
      "+--------------------+--------------+--------------------+----+-------+--------------------+-----------+-------------------+---------+-----------+--------------------+\n",
      "|0e99a07c-c7a5-43d...|   Thomas Lamb|robinjackson@wrig...|NULL| Female|              France| 2023-03-01|2025-05-29 22:36:25|     true|     1438.4|{\"newsletter\": tr...|\n",
      "|3a69ac3e-6726-431...|Kimberly Blake|susan51@johnson-g...|20.0|   Male|       Guinea-Bissau| 2020-12-14|2025-03-21 23:52:55|     true|    2364.98|{\"newsletter\": tr...|\n",
      "|c63cab5f-dc06-484...|William Taylor|leahwilliams@gmai...|NULL| Female|               Kenya| 2023-11-16|2024-09-05 04:59:24|    false|    5913.19|{\"newsletter\": tr...|\n",
      "|50b165d0-6486-4d5...| Amanda Wright|   brian56@gmail.com|27.0|  Other|              Mexico| 2021-09-03|2025-02-06 07:51:31|     true|     972.82|{\"newsletter\": tr...|\n",
      "|4657a2b1-abae-49a...|  Molly Watson|danieldiaz@hendri...|69.0|Unknown|              Taiwan| 2022-11-05|2025-06-14 04:15:42|     true|     9732.5|{\"newsletter\": fa...|\n",
      "|0ffe272a-f261-450...|    Kelly Boyd|    lisa87@gmail.com|NULL| Female|Bouvet Island (Bo...| 2023-07-14|2025-03-05 14:30:02|     true|     505.95|{\"newsletter\": tr...|\n",
      "|ca9191a8-f736-46c...|   Jeremy Rios|    jperry@gmail.com|NULL|  Other|Saint Pierre and ...| 2023-09-02|2024-10-01 20:41:01|    false|    6375.06|{\"newsletter\": fa...|\n",
      "|808301e6-260a-47a...|   Jason Hicks|megansaunders@lee...|NULL|   Male|          Guadeloupe| 2022-01-27|2025-04-01 11:16:10|     true|    5364.69|{\"newsletter\": tr...|\n",
      "|997d2ea4-5957-43d...| Rickey Snyder|allenrachel@hotma...|58.0|  Other|           Sri Lanka| 2024-10-20|2025-02-10 23:58:09|     true|    2329.03|{\"newsletter\": tr...|\n",
      "|f1d943c5-9fba-4c9...|Stefanie Moore|   james40@gmail.com|NULL| Female|               Congo| 2024-06-18|2025-01-14 12:13:09|    false|    3986.54|{\"newsletter\": fa...|\n",
      "|438f6971-c3b4-4fe...|  David Wilson|coxkristen@torres...|NULL|Unknown|    Papua New Guinea| 2020-07-24|2025-04-12 03:00:13|    false|    3651.86|{\"newsletter\": tr...|\n",
      "|3457b0f6-1777-449...|Kristin Barker|   mark17@smith.info|NULL|  Other|Saint Vincent and...| 2022-03-04|2024-09-28 20:31:11|     true|    6818.82|{\"newsletter\": tr...|\n",
      "|adbc75ff-9d33-446...|  Anthony Hart|vanceamanda@yahoo...|39.0|  Other|           Guatemala| 2023-09-16|2025-03-04 14:43:28|    false|    1623.67|{\"newsletter\": tr...|\n",
      "|a97da932-82a3-4ec...| Carrie Hughes|youngjacob@yahoo.com|66.0|   Male|           Mauritius| 2025-06-24|2024-08-02 21:59:11|    false|    8424.61|{\"newsletter\": tr...|\n",
      "|a5767eda-bd1d-482...|Shelley Morrow|goodmanlaura@hotm...|52.0|  Other|                Guam| 2023-12-26|2024-12-25 13:57:45|    false|     243.79|{\"newsletter\": fa...|\n",
      "|cc7f129e-fb05-49d...|Andrew Stanley| tranroy@hotmail.com|NULL|Unknown|             Tokelau| 2021-08-24|2025-01-13 13:17:33|     true|    9292.69|{\"newsletter\": tr...|\n",
      "|9977d5e4-6b2d-418...|Tyler Crawford|rosalesgeorge@mar...|NULL|Unknown|      United Kingdom| 2022-07-20|2024-08-21 03:30:28|    false|    1253.99|{\"newsletter\": tr...|\n",
      "|9b330788-2219-400...|   Ryan Gibson|     sgay@barnes.com|39.0| Female|Saint Vincent and...| 2023-01-15|2024-09-12 18:29:24|    false|    6706.33|{\"newsletter\": tr...|\n",
      "|c0d08fef-2f97-410...|  Jacob Dodson|christine76@gmail...|NULL| Female|          Bangladesh| 2024-09-27|2025-06-25 09:07:54|    false|     8084.6|{\"newsletter\": tr...|\n",
      "|1c462dc3-44aa-413...|   Lisa Pierce|zacharysilva@jord...|NULL|Unknown|    French Polynesia| 2021-02-09|2025-04-26 10:00:34|    false|    8645.18|{\"newsletter\": tr...|\n",
      "+--------------------+--------------+--------------------+----+-------+--------------------+-----------+-------------------+---------+-----------+--------------------+\n",
      "only showing top 20 rows\n"
     ]
    }
   ],
   "source": [
    "# add a placeholder for missing gender\n",
    "\n",
    "df_clean = df_clean.na.fill({\"gender\" : \"Unknown\"})\n",
    "\n",
    "df_clean.show()"
   ]
  },
  {
   "cell_type": "code",
   "execution_count": null,
   "id": "0fd75c38",
   "metadata": {},
   "outputs": [
    {
     "name": "stdout",
     "output_type": "stream",
     "text": [
      "+--------+\n",
      "|avg(age)|\n",
      "+--------+\n",
      "|   46.85|\n",
      "+--------+\n",
      "\n"
     ]
    }
   ],
   "source": [
    "# avg age\n",
    "\n",
    "avg_age = df_clean.select(avg(col(\"age\")))\n",
    "\n",
    "avg_age.show()"
   ]
  },
  {
   "cell_type": "code",
   "execution_count": 32,
   "id": "f6a2c422",
   "metadata": {},
   "outputs": [
    {
     "name": "stdout",
     "output_type": "stream",
     "text": [
      "+--------------------+--------------+--------------------+----+-------+--------------------+-----------+-------------------+---------+-----------+--------------------+\n",
      "|         customer_id|          name|               email| age| gender|             country|signup_date|         last_login|is_active|total_spent|         preferences|\n",
      "+--------------------+--------------+--------------------+----+-------+--------------------+-----------+-------------------+---------+-----------+--------------------+\n",
      "|0e99a07c-c7a5-43d...|   Thomas Lamb|robinjackson@wrig...|50.0| Female|              France| 2023-03-01|2025-05-29 22:36:25|     true|     1438.4|{\"newsletter\": tr...|\n",
      "|3a69ac3e-6726-431...|Kimberly Blake|susan51@johnson-g...|20.0|   Male|       Guinea-Bissau| 2020-12-14|2025-03-21 23:52:55|     true|    2364.98|{\"newsletter\": tr...|\n",
      "|c63cab5f-dc06-484...|William Taylor|leahwilliams@gmai...|50.0| Female|               Kenya| 2023-11-16|2024-09-05 04:59:24|    false|    5913.19|{\"newsletter\": tr...|\n",
      "|50b165d0-6486-4d5...| Amanda Wright|   brian56@gmail.com|27.0|  Other|              Mexico| 2021-09-03|2025-02-06 07:51:31|     true|     972.82|{\"newsletter\": tr...|\n",
      "|4657a2b1-abae-49a...|  Molly Watson|danieldiaz@hendri...|69.0|Unknown|              Taiwan| 2022-11-05|2025-06-14 04:15:42|     true|     9732.5|{\"newsletter\": fa...|\n",
      "|0ffe272a-f261-450...|    Kelly Boyd|    lisa87@gmail.com|50.0| Female|Bouvet Island (Bo...| 2023-07-14|2025-03-05 14:30:02|     true|     505.95|{\"newsletter\": tr...|\n",
      "|ca9191a8-f736-46c...|   Jeremy Rios|    jperry@gmail.com|50.0|  Other|Saint Pierre and ...| 2023-09-02|2024-10-01 20:41:01|    false|    6375.06|{\"newsletter\": fa...|\n",
      "|808301e6-260a-47a...|   Jason Hicks|megansaunders@lee...|50.0|   Male|          Guadeloupe| 2022-01-27|2025-04-01 11:16:10|     true|    5364.69|{\"newsletter\": tr...|\n",
      "|997d2ea4-5957-43d...| Rickey Snyder|allenrachel@hotma...|58.0|  Other|           Sri Lanka| 2024-10-20|2025-02-10 23:58:09|     true|    2329.03|{\"newsletter\": tr...|\n",
      "|f1d943c5-9fba-4c9...|Stefanie Moore|   james40@gmail.com|50.0| Female|               Congo| 2024-06-18|2025-01-14 12:13:09|    false|    3986.54|{\"newsletter\": fa...|\n",
      "|438f6971-c3b4-4fe...|  David Wilson|coxkristen@torres...|50.0|Unknown|    Papua New Guinea| 2020-07-24|2025-04-12 03:00:13|    false|    3651.86|{\"newsletter\": tr...|\n",
      "|3457b0f6-1777-449...|Kristin Barker|   mark17@smith.info|50.0|  Other|Saint Vincent and...| 2022-03-04|2024-09-28 20:31:11|     true|    6818.82|{\"newsletter\": tr...|\n",
      "|adbc75ff-9d33-446...|  Anthony Hart|vanceamanda@yahoo...|39.0|  Other|           Guatemala| 2023-09-16|2025-03-04 14:43:28|    false|    1623.67|{\"newsletter\": tr...|\n",
      "|a97da932-82a3-4ec...| Carrie Hughes|youngjacob@yahoo.com|66.0|   Male|           Mauritius| 2025-06-24|2024-08-02 21:59:11|    false|    8424.61|{\"newsletter\": tr...|\n",
      "|a5767eda-bd1d-482...|Shelley Morrow|goodmanlaura@hotm...|52.0|  Other|                Guam| 2023-12-26|2024-12-25 13:57:45|    false|     243.79|{\"newsletter\": fa...|\n",
      "|cc7f129e-fb05-49d...|Andrew Stanley| tranroy@hotmail.com|50.0|Unknown|             Tokelau| 2021-08-24|2025-01-13 13:17:33|     true|    9292.69|{\"newsletter\": tr...|\n",
      "|9977d5e4-6b2d-418...|Tyler Crawford|rosalesgeorge@mar...|50.0|Unknown|      United Kingdom| 2022-07-20|2024-08-21 03:30:28|    false|    1253.99|{\"newsletter\": tr...|\n",
      "|9b330788-2219-400...|   Ryan Gibson|     sgay@barnes.com|39.0| Female|Saint Vincent and...| 2023-01-15|2024-09-12 18:29:24|    false|    6706.33|{\"newsletter\": tr...|\n",
      "|c0d08fef-2f97-410...|  Jacob Dodson|christine76@gmail...|50.0| Female|          Bangladesh| 2024-09-27|2025-06-25 09:07:54|    false|     8084.6|{\"newsletter\": tr...|\n",
      "|1c462dc3-44aa-413...|   Lisa Pierce|zacharysilva@jord...|50.0|Unknown|    French Polynesia| 2021-02-09|2025-04-26 10:00:34|    false|    8645.18|{\"newsletter\": tr...|\n",
      "+--------------------+--------------+--------------------+----+-------+--------------------+-----------+-------------------+---------+-----------+--------------------+\n",
      "only showing top 20 rows\n"
     ]
    }
   ],
   "source": [
    "# replace missing age with median\n",
    "\n",
    "median_age = df_clean.approxQuantile(\"age\", [0.5], 0.01)[0]\n",
    "\n",
    "df_clean = df_clean.na.fill({\"age\": median_age})\n",
    "\n",
    "df_clean.show()"
   ]
  },
  {
   "cell_type": "code",
   "execution_count": 33,
   "id": "ee504d94",
   "metadata": {},
   "outputs": [
    {
     "name": "stdout",
     "output_type": "stream",
     "text": [
      "+--------------------+--------------+--------------------+----+-------+--------------------+-----------+-------------------+---------+-----------+--------------------+\n",
      "|         customer_id|          name|               email| age| gender|             country|signup_date|         last_login|is_active|total_spent|         preferences|\n",
      "+--------------------+--------------+--------------------+----+-------+--------------------+-----------+-------------------+---------+-----------+--------------------+\n",
      "|0e99a07c-c7a5-43d...|   Thomas Lamb|robinjackson@wrig...|50.0| Female|              France| 2023-03-01|2025-05-29 22:36:25|     true|     1438.4|{\"newsletter\": tr...|\n",
      "|3a69ac3e-6726-431...|Kimberly Blake|susan51@johnson-g...|20.0|   Male|       Guinea-Bissau| 2020-12-14|2025-03-21 23:52:55|     true|    2364.98|{\"newsletter\": tr...|\n",
      "|c63cab5f-dc06-484...|William Taylor|leahwilliams@gmai...|50.0| Female|               Kenya| 2023-11-16|2024-09-05 04:59:24|    false|    5913.19|{\"newsletter\": tr...|\n",
      "|50b165d0-6486-4d5...| Amanda Wright|   brian56@gmail.com|27.0|  Other|              Mexico| 2021-09-03|2025-02-06 07:51:31|     true|     972.82|{\"newsletter\": tr...|\n",
      "|4657a2b1-abae-49a...|  Molly Watson|danieldiaz@hendri...|69.0|Unknown|              Taiwan| 2022-11-05|2025-06-14 04:15:42|     true|     9732.5|{\"newsletter\": fa...|\n",
      "|0ffe272a-f261-450...|    Kelly Boyd|    lisa87@gmail.com|50.0| Female|Bouvet Island (Bo...| 2023-07-14|2025-03-05 14:30:02|     true|     505.95|{\"newsletter\": tr...|\n",
      "|ca9191a8-f736-46c...|   Jeremy Rios|    jperry@gmail.com|50.0|  Other|Saint Pierre and ...| 2023-09-02|2024-10-01 20:41:01|    false|    6375.06|{\"newsletter\": fa...|\n",
      "|808301e6-260a-47a...|   Jason Hicks|megansaunders@lee...|50.0|   Male|          Guadeloupe| 2022-01-27|2025-04-01 11:16:10|     true|    5364.69|{\"newsletter\": tr...|\n",
      "|997d2ea4-5957-43d...| Rickey Snyder|allenrachel@hotma...|58.0|  Other|           Sri Lanka| 2024-10-20|2025-02-10 23:58:09|     true|    2329.03|{\"newsletter\": tr...|\n",
      "|f1d943c5-9fba-4c9...|Stefanie Moore|   james40@gmail.com|50.0| Female|               Congo| 2024-06-18|2025-01-14 12:13:09|    false|    3986.54|{\"newsletter\": fa...|\n",
      "|438f6971-c3b4-4fe...|  David Wilson|coxkristen@torres...|50.0|Unknown|    Papua New Guinea| 2020-07-24|2025-04-12 03:00:13|    false|    3651.86|{\"newsletter\": tr...|\n",
      "|3457b0f6-1777-449...|Kristin Barker|   mark17@smith.info|50.0|  Other|Saint Vincent and...| 2022-03-04|2024-09-28 20:31:11|     true|    6818.82|{\"newsletter\": tr...|\n",
      "|adbc75ff-9d33-446...|  Anthony Hart|vanceamanda@yahoo...|39.0|  Other|           Guatemala| 2023-09-16|2025-03-04 14:43:28|    false|    1623.67|{\"newsletter\": tr...|\n",
      "|a97da932-82a3-4ec...| Carrie Hughes|youngjacob@yahoo.com|66.0|   Male|           Mauritius| 2025-06-24|2024-08-02 21:59:11|    false|    8424.61|{\"newsletter\": tr...|\n",
      "|a5767eda-bd1d-482...|Shelley Morrow|goodmanlaura@hotm...|52.0|  Other|                Guam| 2023-12-26|2024-12-25 13:57:45|    false|     243.79|{\"newsletter\": fa...|\n",
      "|cc7f129e-fb05-49d...|Andrew Stanley| tranroy@hotmail.com|50.0|Unknown|             Tokelau| 2021-08-24|2025-01-13 13:17:33|     true|    9292.69|{\"newsletter\": tr...|\n",
      "|9977d5e4-6b2d-418...|Tyler Crawford|rosalesgeorge@mar...|50.0|Unknown|      United Kingdom| 2022-07-20|2024-08-21 03:30:28|    false|    1253.99|{\"newsletter\": tr...|\n",
      "|9b330788-2219-400...|   Ryan Gibson|     sgay@barnes.com|39.0| Female|Saint Vincent and...| 2023-01-15|2024-09-12 18:29:24|    false|    6706.33|{\"newsletter\": tr...|\n",
      "|c0d08fef-2f97-410...|  Jacob Dodson|christine76@gmail...|50.0| Female|          Bangladesh| 2024-09-27|2025-06-25 09:07:54|    false|     8084.6|{\"newsletter\": tr...|\n",
      "|1c462dc3-44aa-413...|   Lisa Pierce|zacharysilva@jord...|50.0|Unknown|    French Polynesia| 2021-02-09|2025-04-26 10:00:34|    false|    8645.18|{\"newsletter\": tr...|\n",
      "+--------------------+--------------+--------------------+----+-------+--------------------+-----------+-------------------+---------+-----------+--------------------+\n",
      "only showing top 20 rows\n"
     ]
    }
   ],
   "source": [
    "# remove zero total spent\n",
    "\n",
    "df_clean = df_clean.filter((col(\"total_spent\").isNotNull())  & (col(\"total_spent\") > 0))\n",
    "\n",
    "df_clean.show()\n"
   ]
  },
  {
   "cell_type": "markdown",
   "id": "201ec85f",
   "metadata": {},
   "source": [
    "#### Enrichment and handiling JSON data"
   ]
  },
  {
   "cell_type": "code",
   "execution_count": 36,
   "id": "00969516",
   "metadata": {},
   "outputs": [
    {
     "data": {
      "text/plain": [
       "[Row(customer_id='0e99a07c-c7a5-43df-b5f3-79e2a9f18fc6', name='Thomas Lamb', email='robinjackson@wright.com', age=50.0, gender='Female', country='France', signup_date=datetime.date(2023, 3, 1), last_login=datetime.datetime(2025, 5, 29, 22, 36, 25), is_active=True, total_spent=1438.4, preferences='{\"newsletter\": true, \"notifications\": \"push\", \"language\": \"en\"}', age_group='Adult'),\n",
       " Row(customer_id='3a69ac3e-6726-431c-82a7-5241ef568188', name='Kimberly Blake', email='susan51@johnson-garrett.com', age=20.0, gender='Male', country='Guinea-Bissau', signup_date=datetime.date(2020, 12, 14), last_login=datetime.datetime(2025, 3, 21, 23, 52, 55), is_active=True, total_spent=2364.98, preferences='{\"newsletter\": true, \"notifications\": \"push\", \"language\": \"fr\"}', age_group='Young'),\n",
       " Row(customer_id='c63cab5f-dc06-4842-926a-118f85a2e7ae', name='William Taylor', email='leahwilliams@gmail.com', age=50.0, gender='Female', country='Kenya', signup_date=datetime.date(2023, 11, 16), last_login=datetime.datetime(2024, 9, 5, 4, 59, 24), is_active=False, total_spent=5913.19, preferences='{\"newsletter\": true, \"notifications\": \"email\", \"language\": \"de\"}', age_group='Adult'),\n",
       " Row(customer_id='50b165d0-6486-4d5b-bcb8-12147c6f8160', name='Amanda Wright', email='brian56@gmail.com', age=27.0, gender='Other', country='Mexico', signup_date=datetime.date(2021, 9, 3), last_login=datetime.datetime(2025, 2, 6, 7, 51, 31), is_active=True, total_spent=972.82, preferences='{\"newsletter\": true, \"notifications\": \"sms\", \"language\": \"es\"}', age_group='Young')]"
      ]
     },
     "execution_count": 36,
     "metadata": {},
     "output_type": "execute_result"
    }
   ],
   "source": [
    "df_enriched = df_clean.withColumn(\"age_group\", \n",
    "                                  when(col(\"age\")< 30, \"Young\")\n",
    "                                  .when((col(\"age\")>=30) & (col(\"age\")<60), \"Adult\")\n",
    "                                  .otherwise(\"Senior\")\n",
    "                                  )\n",
    "\n",
    "df_enriched.take(4)"
   ]
  },
  {
   "cell_type": "code",
   "execution_count": 41,
   "id": "f9f43433",
   "metadata": {},
   "outputs": [
    {
     "name": "stdout",
     "output_type": "stream",
     "text": [
      "+--------------------+------------------+--------------------+----+-------+-----------------+-----------+-------------------+---------+-----------+--------------------+---------+\n",
      "|         customer_id|              name|               email| age| gender|          country|signup_date|         last_login|is_active|total_spent|         preferences|age_group|\n",
      "+--------------------+------------------+--------------------+----+-------+-----------------+-----------+-------------------+---------+-----------+--------------------+---------+\n",
      "|4657a2b1-abae-49a...|      Molly Watson|danieldiaz@hendri...|69.0|Unknown|           Taiwan| 2022-11-05|2025-06-14 04:15:42|     true|     9732.5|{\"newsletter\": fa...|   Senior|\n",
      "|a97da932-82a3-4ec...|     Carrie Hughes|youngjacob@yahoo.com|66.0|   Male|        Mauritius| 2025-06-24|2024-08-02 21:59:11|    false|    8424.61|{\"newsletter\": tr...|   Senior|\n",
      "|20136bac-081b-47b...|   Gabriel Vincent| wsalazar@torres.biz|66.0| Female|          Albania| 2022-02-15|2024-08-19 18:54:37|    false|    4882.13|{\"newsletter\": tr...|   Senior|\n",
      "|f2ae7e56-3740-49e...|     Deborah Jones|jonesstanley@kirk...|69.0|  Other|       Micronesia| 2022-02-20|2024-09-23 14:48:45|     true|    9392.35|{\"newsletter\": tr...|   Senior|\n",
      "|765168eb-aabf-451...|    Jessica Thomas|ichandler@carter-...|65.0|  Other|         Anguilla| 2024-03-22|2025-06-25 10:37:22|    false|    6068.06|{\"newsletter\": fa...|   Senior|\n",
      "|b8ed9b29-593c-493...|  William Sandoval|  scott26@walker.com|62.0|   Male|Brunei Darussalam| 2023-04-18|2025-05-23 10:47:09|    false|    5845.97|{\"newsletter\": tr...|   Senior|\n",
      "|d5c61057-1c44-4aa...|       Dustin Lara|pamela60@hotmail.com|65.0| Female|         Mongolia| 2020-08-21|2024-07-09 19:49:10|     true|    9763.25|{\"newsletter\": tr...|   Senior|\n",
      "|a081a94d-ad27-467...|   Michelle Hansen|lindsey02@anderso...|60.0|  Other|        Lithuania| 2022-10-22|2024-11-22 14:19:35|    false|    6685.58|{\"newsletter\": fa...|   Senior|\n",
      "|d27fa7df-05b0-48e...|     Charles Mejia|  ryan47@hotmail.com|68.0|   Male|          Bermuda| 2022-07-05|2025-06-26 23:56:51|    false|    5178.75|{\"newsletter\": fa...|   Senior|\n",
      "|d22be728-3f2f-488...|    Robert Webster| jeffrey35@gmail.com|67.0|Unknown|       Azerbaijan| 2020-09-18|2025-04-10 18:13:25|     true|    1800.07|{\"newsletter\": fa...|   Senior|\n",
      "|83970b65-d991-48a...|Dr. Kevin Black MD|rebeccaford@hotma...|65.0|Unknown| Saint Barthelemy| 2022-10-16|2025-06-29 15:57:39|     true|    2765.71|{\"newsletter\": fa...|   Senior|\n",
      "|0f575765-bc36-490...|     Suzanne Lyons|   dgibson@gmail.com|61.0| Female|       Cape Verde| 2024-07-10|2025-03-14 22:39:05|     true|    8120.86|{\"newsletter\": fa...|   Senior|\n",
      "+--------------------+------------------+--------------------+----+-------+-----------------+-----------+-------------------+---------+-----------+--------------------+---------+\n",
      "\n"
     ]
    }
   ],
   "source": [
    "df_enriched.filter(col(\"age_group\") == \"Senior\").show()"
   ]
  },
  {
   "cell_type": "code",
   "execution_count": 42,
   "id": "fb15b63d",
   "metadata": {},
   "outputs": [
    {
     "name": "stdout",
     "output_type": "stream",
     "text": [
      "+-----------------------------------------------------------------+\n",
      "|preferences                                                      |\n",
      "+-----------------------------------------------------------------+\n",
      "|{\"newsletter\": true, \"notifications\": \"push\", \"language\": \"en\"}  |\n",
      "|{\"newsletter\": true, \"notifications\": \"push\", \"language\": \"fr\"}  |\n",
      "|{\"newsletter\": true, \"notifications\": \"email\", \"language\": \"de\"} |\n",
      "|{\"newsletter\": true, \"notifications\": \"sms\", \"language\": \"es\"}   |\n",
      "|{\"newsletter\": false, \"notifications\": \"email\", \"language\": \"es\"}|\n",
      "|{\"newsletter\": true, \"notifications\": \"sms\", \"language\": \"en\"}   |\n",
      "|{\"newsletter\": false, \"notifications\": \"email\", \"language\": \"es\"}|\n",
      "|{\"newsletter\": true, \"notifications\": \"email\", \"language\": \"de\"} |\n",
      "|{\"newsletter\": true, \"notifications\": \"sms\", \"language\": \"de\"}   |\n",
      "|{\"newsletter\": false, \"notifications\": \"email\", \"language\": \"es\"}|\n",
      "|{\"newsletter\": true, \"notifications\": \"push\", \"language\": \"de\"}  |\n",
      "|{\"newsletter\": true, \"notifications\": \"push\", \"language\": \"es\"}  |\n",
      "|{\"newsletter\": true, \"notifications\": \"push\", \"language\": \"es\"}  |\n",
      "|{\"newsletter\": true, \"notifications\": \"email\", \"language\": \"es\"} |\n",
      "|{\"newsletter\": false, \"notifications\": \"sms\", \"language\": \"fr\"}  |\n",
      "|{\"newsletter\": true, \"notifications\": \"push\", \"language\": \"es\"}  |\n",
      "|{\"newsletter\": true, \"notifications\": \"email\", \"language\": \"es\"} |\n",
      "|{\"newsletter\": true, \"notifications\": \"push\", \"language\": \"fr\"}  |\n",
      "|{\"newsletter\": true, \"notifications\": \"email\", \"language\": \"en\"} |\n",
      "|{\"newsletter\": true, \"notifications\": \"push\", \"language\": \"en\"}  |\n",
      "+-----------------------------------------------------------------+\n",
      "only showing top 20 rows\n"
     ]
    }
   ],
   "source": [
    "# handle json data \n",
    "df_enriched.select(\"preferences\").show(truncate=False)\n"
   ]
  },
  {
   "cell_type": "code",
   "execution_count": 44,
   "id": "0df6c462",
   "metadata": {},
   "outputs": [
    {
     "data": {
      "text/plain": [
       "[Row(preferences_struct=Row(newsletter=True, notifications='push', language='en'))]"
      ]
     },
     "execution_count": 44,
     "metadata": {},
     "output_type": "execute_result"
    }
   ],
   "source": [
    "# parse json\n",
    "preferences_schema = StructType([\n",
    "    StructField(\"newsletter\", BooleanType(), True),\n",
    "    StructField(\"notifications\", StringType(), True),\n",
    "    StructField(\"language\", StringType(), True)\n",
    "])\n",
    "\n",
    "df_parsed = df_enriched.withColumn(\"preferences_struct\", from_json(col(\"preferences\"), preferences_schema))\n",
    "\n",
    "df_parsed.select(\"preferences_struct\").take(1)"
   ]
  },
  {
   "cell_type": "code",
   "execution_count": 45,
   "id": "1d786060",
   "metadata": {},
   "outputs": [
    {
     "name": "stdout",
     "output_type": "stream",
     "text": [
      "+--------------------+--------------+---------------+------------------+-------------+\n",
      "|         customer_id|          name|pref_newsletter|pref_notifications|pref_language|\n",
      "+--------------------+--------------+---------------+------------------+-------------+\n",
      "|0e99a07c-c7a5-43d...|   Thomas Lamb|           true|              push|           en|\n",
      "|3a69ac3e-6726-431...|Kimberly Blake|           true|              push|           fr|\n",
      "|c63cab5f-dc06-484...|William Taylor|           true|             email|           de|\n",
      "|50b165d0-6486-4d5...| Amanda Wright|           true|               sms|           es|\n",
      "|4657a2b1-abae-49a...|  Molly Watson|          false|             email|           es|\n",
      "|0ffe272a-f261-450...|    Kelly Boyd|           true|               sms|           en|\n",
      "|ca9191a8-f736-46c...|   Jeremy Rios|          false|             email|           es|\n",
      "|808301e6-260a-47a...|   Jason Hicks|           true|             email|           de|\n",
      "|997d2ea4-5957-43d...| Rickey Snyder|           true|               sms|           de|\n",
      "|f1d943c5-9fba-4c9...|Stefanie Moore|          false|             email|           es|\n",
      "|438f6971-c3b4-4fe...|  David Wilson|           true|              push|           de|\n",
      "|3457b0f6-1777-449...|Kristin Barker|           true|              push|           es|\n",
      "|adbc75ff-9d33-446...|  Anthony Hart|           true|              push|           es|\n",
      "|a97da932-82a3-4ec...| Carrie Hughes|           true|             email|           es|\n",
      "|a5767eda-bd1d-482...|Shelley Morrow|          false|               sms|           fr|\n",
      "|cc7f129e-fb05-49d...|Andrew Stanley|           true|              push|           es|\n",
      "|9977d5e4-6b2d-418...|Tyler Crawford|           true|             email|           es|\n",
      "|9b330788-2219-400...|   Ryan Gibson|           true|              push|           fr|\n",
      "|c0d08fef-2f97-410...|  Jacob Dodson|           true|             email|           en|\n",
      "|1c462dc3-44aa-413...|   Lisa Pierce|           true|              push|           en|\n",
      "+--------------------+--------------+---------------+------------------+-------------+\n",
      "only showing top 20 rows\n"
     ]
    }
   ],
   "source": [
    "df_final = df_parsed.withColumn(\"pref_newsletter\", col(\"preferences_struct.newsletter\")) \\\n",
    "                .withColumn(\"pref_notifications\", col(\"preferences_struct.notifications\")) \\\n",
    "                .withColumn(\"pref_language\", col(\"preferences_struct.language\")) \\\n",
    "                .drop(\"preferences_struct\", \"preferences\")\n",
    "\n",
    "df_final.select(\"customer_id\", \"name\", \"pref_newsletter\",\"pref_notifications\",\"pref_language\").show()"
   ]
  },
  {
   "cell_type": "markdown",
   "id": "96d77632",
   "metadata": {},
   "source": [
    "#### Few Advanced Transformations"
   ]
  },
  {
   "cell_type": "code",
   "execution_count": null,
   "id": "0511b987",
   "metadata": {},
   "outputs": [
    {
     "name": "stderr",
     "output_type": "stream",
     "text": [
      "[Stage 25:>                                                         (0 + 1) / 1]\r"
     ]
    },
    {
     "name": "stdout",
     "output_type": "stream",
     "text": [
      "+--------------+-----------------+\n",
      "|          name|       name_parts|\n",
      "+--------------+-----------------+\n",
      "|   Thomas Lamb|   {Thomas, Lamb}|\n",
      "|Kimberly Blake|{Kimberly, Blake}|\n",
      "|William Taylor|{William, Taylor}|\n",
      "| Amanda Wright| {Amanda, Wright}|\n",
      "|  Molly Watson|  {Molly, Watson}|\n",
      "|    Kelly Boyd|    {Kelly, Boyd}|\n",
      "|   Jeremy Rios|   {Jeremy, Rios}|\n",
      "|   Jason Hicks|   {Jason, Hicks}|\n",
      "| Rickey Snyder| {Rickey, Snyder}|\n",
      "|Stefanie Moore|{Stefanie, Moore}|\n",
      "|  David Wilson|  {David, Wilson}|\n",
      "|Kristin Barker|{Kristin, Barker}|\n",
      "|  Anthony Hart|  {Anthony, Hart}|\n",
      "| Carrie Hughes| {Carrie, Hughes}|\n",
      "|Shelley Morrow|{Shelley, Morrow}|\n",
      "|Andrew Stanley|{Andrew, Stanley}|\n",
      "|Tyler Crawford|{Tyler, Crawford}|\n",
      "|   Ryan Gibson|   {Ryan, Gibson}|\n",
      "|  Jacob Dodson|  {Jacob, Dodson}|\n",
      "|   Lisa Pierce|   {Lisa, Pierce}|\n",
      "+--------------+-----------------+\n",
      "only showing top 20 rows\n"
     ]
    },
    {
     "name": "stderr",
     "output_type": "stream",
     "text": [
      "                                                                                \r"
     ]
    }
   ],
   "source": [
    "# python udfs\n",
    "# split first_name and last_name from name\n",
    "\n",
    "return_type = StructType([\n",
    "    StructField(\"first_name\", StringType(), True),\n",
    "    StructField(\"last_name\", StringType(), True)\n",
    "])\n",
    "\n",
    "@udf(returnType=return_type)\n",
    "def split_full_name(name:str) -> dict:\n",
    "    if name is None:\n",
    "        return None\n",
    "    parts = name.split(\" \")\n",
    "    first_name = parts[0]\n",
    "    if(len(parts)>0):\n",
    "        last_name = parts[1]\n",
    "    else:\n",
    "        last_name= None\n",
    "    return {\"first_name\": first_name, \"last_name\": last_name}\n",
    "\n",
    "df_final_with_slit_name = df_final.withColumn(\"name_parts\", split_full_name(col(\"name\")))\n",
    "\n",
    "df_final_with_slit_name.select(\"name\", \"name_parts\").show()\n",
    "\n"
   ]
  },
  {
   "cell_type": "code",
   "execution_count": 47,
   "id": "192eed6f",
   "metadata": {},
   "outputs": [
    {
     "name": "stdout",
     "output_type": "stream",
     "text": [
      "+--------------------+----------+---------+\n",
      "|         customer_id|first_name|last_name|\n",
      "+--------------------+----------+---------+\n",
      "|0e99a07c-c7a5-43d...|    Thomas|     Lamb|\n",
      "|3a69ac3e-6726-431...|  Kimberly|    Blake|\n",
      "|c63cab5f-dc06-484...|   William|   Taylor|\n",
      "|50b165d0-6486-4d5...|    Amanda|   Wright|\n",
      "|4657a2b1-abae-49a...|     Molly|   Watson|\n",
      "|0ffe272a-f261-450...|     Kelly|     Boyd|\n",
      "|ca9191a8-f736-46c...|    Jeremy|     Rios|\n",
      "|808301e6-260a-47a...|     Jason|    Hicks|\n",
      "|997d2ea4-5957-43d...|    Rickey|   Snyder|\n",
      "|f1d943c5-9fba-4c9...|  Stefanie|    Moore|\n",
      "|438f6971-c3b4-4fe...|     David|   Wilson|\n",
      "|3457b0f6-1777-449...|   Kristin|   Barker|\n",
      "|adbc75ff-9d33-446...|   Anthony|     Hart|\n",
      "|a97da932-82a3-4ec...|    Carrie|   Hughes|\n",
      "|a5767eda-bd1d-482...|   Shelley|   Morrow|\n",
      "|cc7f129e-fb05-49d...|    Andrew|  Stanley|\n",
      "|9977d5e4-6b2d-418...|     Tyler| Crawford|\n",
      "|9b330788-2219-400...|      Ryan|   Gibson|\n",
      "|c0d08fef-2f97-410...|     Jacob|   Dodson|\n",
      "|1c462dc3-44aa-413...|      Lisa|   Pierce|\n",
      "+--------------------+----------+---------+\n",
      "only showing top 20 rows\n"
     ]
    }
   ],
   "source": [
    "df_final = df_final_with_slit_name.withColumn(\"first_name\", col(\"name_parts.first_name\")) \\\n",
    "                                .withColumn(\"last_name\", col(\"name_parts.last_name\")) \\\n",
    "                                .drop(\"name\", \"name_parts\")\n",
    "\n",
    "df_final.select(\"customer_id\", \"first_name\", \"last_name\").show()"
   ]
  },
  {
   "cell_type": "markdown",
   "id": "71ace6ba",
   "metadata": {},
   "source": [
    "#### Aggregate functions - Analysis"
   ]
  },
  {
   "cell_type": "code",
   "execution_count": 52,
   "id": "0fa16e24",
   "metadata": {},
   "outputs": [
    {
     "name": "stdout",
     "output_type": "stream",
     "text": [
      "+--------------------+---------+------------------+-----------+\n",
      "|             country|customers|     total_revenue|avg_revenue|\n",
      "+--------------------+---------+------------------+-----------+\n",
      "|      United Kingdom|        3|          14057.16|    4685.72|\n",
      "|             Jamaica|        2|          14054.52|    7027.26|\n",
      "|Saint Vincent and...|        2|          13525.15|    6762.58|\n",
      "|           Lithuania|        2|           12224.8|     6112.4|\n",
      "|             Tunisia|        3|          11639.62|    3879.87|\n",
      "|              Guinea|        2|          11605.49|    5802.75|\n",
      "|          Bangladesh|        2|           11274.3|    5637.15|\n",
      "| Trinidad and Tobago|        2|          10533.08|    5266.54|\n",
      "|            Anguilla|        2|10513.830000000002|    5256.92|\n",
      "|              Zambia|        1|           9995.75|    9995.75|\n",
      "|            Mongolia|        1|           9763.25|    9763.25|\n",
      "|              Taiwan|        1|            9732.5|     9732.5|\n",
      "|        Sierra Leone|        1|           9473.25|    9473.25|\n",
      "|     Kyrgyz Republic|        1|           9430.28|    9430.28|\n",
      "|          Micronesia|        1|           9392.35|    9392.35|\n",
      "|             Tokelau|        1|           9292.69|    9292.69|\n",
      "|Turks and Caicos ...|        1|           8776.53|    8776.53|\n",
      "|             Hungary|        1|           8702.54|    8702.54|\n",
      "|    French Polynesia|        1|           8645.18|    8645.18|\n",
      "|           Mauritius|        1|           8424.61|    8424.61|\n",
      "+--------------------+---------+------------------+-----------+\n",
      "only showing top 20 rows\n"
     ]
    }
   ],
   "source": [
    "# total and avg revenue by country\n",
    "\n",
    "df_final.groupBy(\"country\").agg(\n",
    "    count(\"*\").alias(\"customers\"),\n",
    "    sum(\"total_spent\").alias(\"total_revenue\"),\n",
    "    round(avg(\"total_spent\"), 2).alias(\"avg_revenue\")\n",
    ").orderBy(col(\"total_revenue\").desc()).show()"
   ]
  },
  {
   "cell_type": "code",
   "execution_count": 53,
   "id": "3dc34982",
   "metadata": {},
   "outputs": [
    {
     "name": "stderr",
     "output_type": "stream",
     "text": [
      "                                                                                \r"
     ]
    }
   ],
   "source": [
    "# DataFrameWriter\n",
    "# save to parquet\n",
    "\n",
    "df_final.write.mode(\"overwrite\").parquet(\"./datasets/final_customer_data.parquet\")\n",
    "\n"
   ]
  },
  {
   "cell_type": "markdown",
   "id": "9e106bb4",
   "metadata": {},
   "source": [
    "#### Spark SQL and DataFrame API Comparision"
   ]
  },
  {
   "cell_type": "code",
   "execution_count": 54,
   "id": "52881e87",
   "metadata": {},
   "outputs": [],
   "source": [
    "df_final.createOrReplaceTempView(\"customers\")"
   ]
  },
  {
   "cell_type": "code",
   "execution_count": 56,
   "id": "ff65aa6c",
   "metadata": {},
   "outputs": [
    {
     "name": "stdout",
     "output_type": "stream",
     "text": [
      "+--------------------+-----+---------+\n",
      "|             country|total|avg_spent|\n",
      "+--------------------+-----+---------+\n",
      "|            Anguilla|    2|  5256.92|\n",
      "|               Macao|    1|  7789.03|\n",
      "|Heard Island and ...|    1|  7823.27|\n",
      "|             Senegal|    1|  1352.24|\n",
      "|             Tokelau|    1|  9292.69|\n",
      "|            Kiribati|    1|  6889.48|\n",
      "|             Eritrea|    1|  6174.37|\n",
      "|               Tonga|    1|  8230.05|\n",
      "|           Singapore|    1|  5761.94|\n",
      "|            Cambodia|    1|  2997.65|\n",
      "|              France|    2|  2732.48|\n",
      "|Turks and Caicos ...|    1|  8776.53|\n",
      "|           Sri Lanka|    1|  2329.03|\n",
      "|              Taiwan|    1|   9732.5|\n",
      "|           Argentina|    1|  2475.12|\n",
      "|             Albania|    1|  4882.13|\n",
      "|          Madagascar|    1|  1855.82|\n",
      "|             Finland|    1|   2560.1|\n",
      "|   Brunei Darussalam|    2|  4098.51|\n",
      "|        Sierra Leone|    1|  9473.25|\n",
      "+--------------------+-----+---------+\n",
      "only showing top 20 rows\n"
     ]
    }
   ],
   "source": [
    "spark.sql(\"\"\"SELECT country, COUNT(*) as total, ROUND(AVG(total_spent), 2) as avg_spent\n",
    "          FROM customers\n",
    "          GROUP BY country\n",
    "\"\"\").show()\n"
   ]
  },
  {
   "cell_type": "code",
   "execution_count": 57,
   "id": "6d4f9af8",
   "metadata": {},
   "outputs": [
    {
     "name": "stdout",
     "output_type": "stream",
     "text": [
      "== Parsed Logical Plan ==\n",
      "'Aggregate ['country], ['country, 'COUNT(1) AS total#742, 'ROUND('AVG('total_spent), 2) AS avg_spent#743]\n",
      "+- 'UnresolvedRelation [customers], [], false\n",
      "\n",
      "== Analyzed Logical Plan ==\n",
      "country: string, total: bigint, avg_spent: double\n",
      "Aggregate [country#135], [country#135, count(1) AS total#742L, round(avg(total_spent#139), 2) AS avg_spent#743]\n",
      "+- SubqueryAlias customers\n",
      "   +- View (`customers`, [customer_id#130, email#132, age#385, gender#277, country#135, signup_date#136, last_login#137, is_active#138, total_spent#139, age_group#476, pref_newsletter#555, pref_notifications#557, pref_language#559, first_name#595, last_name#597])\n",
      "      +- Project [customer_id#130, email#132, age#385, gender#277, country#135, signup_date#136, last_login#137, is_active#138, total_spent#139, age_group#476, pref_newsletter#555, pref_notifications#557, pref_language#559, first_name#595, last_name#597]\n",
      "         +- Project [customer_id#130, name#131, email#132, age#385, gender#277, country#135, signup_date#136, last_login#137, is_active#138, total_spent#139, age_group#476, pref_newsletter#555, pref_notifications#557, pref_language#559, name_parts#583, first_name#595, name_parts#583.last_name AS last_name#597]\n",
      "            +- Project [customer_id#130, name#131, email#132, age#385, gender#277, country#135, signup_date#136, last_login#137, is_active#138, total_spent#139, age_group#476, pref_newsletter#555, pref_notifications#557, pref_language#559, name_parts#583, name_parts#583.first_name AS first_name#595]\n",
      "               +- Project [customer_id#130, name#131, email#132, age#385, gender#277, country#135, signup_date#136, last_login#137, is_active#138, total_spent#139, age_group#476, pref_newsletter#555, pref_notifications#557, pref_language#559, split_full_name(name#131)#582 AS name_parts#583]\n",
      "                  +- Project [customer_id#130, name#131, email#132, age#385, gender#277, country#135, signup_date#136, last_login#137, is_active#138, total_spent#139, age_group#476, pref_newsletter#555, pref_notifications#557, pref_language#559]\n",
      "                     +- Project [customer_id#130, name#131, email#132, age#385, gender#277, country#135, signup_date#136, last_login#137, is_active#138, total_spent#139, preferences#140, age_group#476, preferences_struct#551, pref_newsletter#555, pref_notifications#557, preferences_struct#551.language AS pref_language#559]\n",
      "                        +- Project [customer_id#130, name#131, email#132, age#385, gender#277, country#135, signup_date#136, last_login#137, is_active#138, total_spent#139, preferences#140, age_group#476, preferences_struct#551, pref_newsletter#555, preferences_struct#551.notifications AS pref_notifications#557]\n",
      "                           +- Project [customer_id#130, name#131, email#132, age#385, gender#277, country#135, signup_date#136, last_login#137, is_active#138, total_spent#139, preferences#140, age_group#476, preferences_struct#551, preferences_struct#551.newsletter AS pref_newsletter#555]\n",
      "                              +- Project [customer_id#130, name#131, email#132, age#385, gender#277, country#135, signup_date#136, last_login#137, is_active#138, total_spent#139, preferences#140, age_group#476, from_json(StructField(newsletter,BooleanType,true), StructField(notifications,StringType,true), StructField(language,StringType,true), preferences#140, Some(Etc/UTC), false) AS preferences_struct#551]\n",
      "                                 +- Project [customer_id#130, name#131, email#132, age#385, gender#277, country#135, signup_date#136, last_login#137, is_active#138, total_spent#139, preferences#140, CASE WHEN (age#385 < cast(30 as double)) THEN Young WHEN ((age#385 >= cast(30 as double)) AND (age#385 < cast(60 as double))) THEN Adult ELSE Senior END AS age_group#476]\n",
      "                                    +- Filter (isnotnull(total_spent#139) AND (total_spent#139 > cast(0 as double)))\n",
      "                                       +- Project [customer_id#130, name#131, email#132, coalesce(nanvl(age#133, cast(null as double)), cast(50.0 as double)) AS age#385, gender#277, country#135, signup_date#136, last_login#137, is_active#138, total_spent#139, preferences#140]\n",
      "                                          +- Project [customer_id#130, name#131, email#132, age#133, coalesce(gender#134, cast(Unknown as string)) AS gender#277, country#135, signup_date#136, last_login#137, is_active#138, total_spent#139, preferences#140]\n",
      "                                             +- Filter atleastnnonnulls(1, email#132)\n",
      "                                                +- Relation [customer_id#130,name#131,email#132,age#133,gender#134,country#135,signup_date#136,last_login#137,is_active#138,total_spent#139,preferences#140] csv\n",
      "\n",
      "== Optimized Logical Plan ==\n",
      "Aggregate [country#135], [country#135, count(1) AS total#742L, round(avg(total_spent#139), 2) AS avg_spent#743]\n",
      "+- Project [country#135, total_spent#139]\n",
      "   +- Filter (atleastnnonnulls(1, email#132) AND (isnotnull(total_spent#139) AND (total_spent#139 > 0.0)))\n",
      "      +- Relation [customer_id#130,name#131,email#132,age#133,gender#134,country#135,signup_date#136,last_login#137,is_active#138,total_spent#139,preferences#140] csv\n",
      "\n",
      "== Physical Plan ==\n",
      "AdaptiveSparkPlan isFinalPlan=false\n",
      "+- HashAggregate(keys=[country#135], functions=[count(1), avg(total_spent#139)], output=[country#135, total#742L, avg_spent#743])\n",
      "   +- Exchange hashpartitioning(country#135, 200), ENSURE_REQUIREMENTS, [plan_id=654]\n",
      "      +- HashAggregate(keys=[country#135], functions=[partial_count(1), partial_avg(total_spent#139)], output=[country#135, count#749L, sum#750, count#751L])\n",
      "         +- Project [country#135, total_spent#139]\n",
      "            +- Filter ((atleastnnonnulls(1, email#132) AND isnotnull(total_spent#139)) AND (total_spent#139 > 0.0))\n",
      "               +- FileScan csv [email#132,country#135,total_spent#139] Batched: false, DataFilters: [atleastnnonnulls(1, email#132), isnotnull(total_spent#139), (total_spent#139 > 0.0)], Format: CSV, Location: InMemoryFileIndex(1 paths)[file:/workspaces/trng-2286/datasets/raw_customer_data.csv], PartitionFilters: [], PushedFilters: [IsNotNull(total_spent), GreaterThan(total_spent,0.0)], ReadSchema: struct<email:string,country:string,total_spent:double>\n",
      "\n"
     ]
    }
   ],
   "source": [
    "sql_plan = spark.sql(\"\"\"SELECT country, COUNT(*) as total, ROUND(AVG(total_spent), 2) as avg_spent\n",
    "          FROM customers\n",
    "          GROUP BY country\n",
    "\"\"\").explain(True)\n",
    "\n",
    "sql_plan"
   ]
  },
  {
   "cell_type": "code",
   "execution_count": 58,
   "id": "896e1d33",
   "metadata": {},
   "outputs": [
    {
     "name": "stdout",
     "output_type": "stream",
     "text": [
      "== Parsed Logical Plan ==\n",
      "'Aggregate ['country], ['country, 'count(*) AS total#752, 'round('avg('total_spent), 2) AS avg_spent#753]\n",
      "+- Project [customer_id#130, email#132, age#385, gender#277, country#135, signup_date#136, last_login#137, is_active#138, total_spent#139, age_group#476, pref_newsletter#555, pref_notifications#557, pref_language#559, first_name#595, last_name#597]\n",
      "   +- Project [customer_id#130, name#131, email#132, age#385, gender#277, country#135, signup_date#136, last_login#137, is_active#138, total_spent#139, age_group#476, pref_newsletter#555, pref_notifications#557, pref_language#559, name_parts#583, first_name#595, name_parts#583.last_name AS last_name#597]\n",
      "      +- Project [customer_id#130, name#131, email#132, age#385, gender#277, country#135, signup_date#136, last_login#137, is_active#138, total_spent#139, age_group#476, pref_newsletter#555, pref_notifications#557, pref_language#559, name_parts#583, name_parts#583.first_name AS first_name#595]\n",
      "         +- Project [customer_id#130, name#131, email#132, age#385, gender#277, country#135, signup_date#136, last_login#137, is_active#138, total_spent#139, age_group#476, pref_newsletter#555, pref_notifications#557, pref_language#559, split_full_name(name#131)#582 AS name_parts#583]\n",
      "            +- Project [customer_id#130, name#131, email#132, age#385, gender#277, country#135, signup_date#136, last_login#137, is_active#138, total_spent#139, age_group#476, pref_newsletter#555, pref_notifications#557, pref_language#559]\n",
      "               +- Project [customer_id#130, name#131, email#132, age#385, gender#277, country#135, signup_date#136, last_login#137, is_active#138, total_spent#139, preferences#140, age_group#476, preferences_struct#551, pref_newsletter#555, pref_notifications#557, preferences_struct#551.language AS pref_language#559]\n",
      "                  +- Project [customer_id#130, name#131, email#132, age#385, gender#277, country#135, signup_date#136, last_login#137, is_active#138, total_spent#139, preferences#140, age_group#476, preferences_struct#551, pref_newsletter#555, preferences_struct#551.notifications AS pref_notifications#557]\n",
      "                     +- Project [customer_id#130, name#131, email#132, age#385, gender#277, country#135, signup_date#136, last_login#137, is_active#138, total_spent#139, preferences#140, age_group#476, preferences_struct#551, preferences_struct#551.newsletter AS pref_newsletter#555]\n",
      "                        +- Project [customer_id#130, name#131, email#132, age#385, gender#277, country#135, signup_date#136, last_login#137, is_active#138, total_spent#139, preferences#140, age_group#476, from_json(StructField(newsletter,BooleanType,true), StructField(notifications,StringType,true), StructField(language,StringType,true), preferences#140, Some(Etc/UTC), false) AS preferences_struct#551]\n",
      "                           +- Project [customer_id#130, name#131, email#132, age#385, gender#277, country#135, signup_date#136, last_login#137, is_active#138, total_spent#139, preferences#140, CASE WHEN (age#385 < cast(30 as double)) THEN Young WHEN ((age#385 >= cast(30 as double)) AND (age#385 < cast(60 as double))) THEN Adult ELSE Senior END AS age_group#476]\n",
      "                              +- Filter (isnotnull(total_spent#139) AND (total_spent#139 > cast(0 as double)))\n",
      "                                 +- Project [customer_id#130, name#131, email#132, coalesce(nanvl(age#133, cast(null as double)), cast(50.0 as double)) AS age#385, gender#277, country#135, signup_date#136, last_login#137, is_active#138, total_spent#139, preferences#140]\n",
      "                                    +- Project [customer_id#130, name#131, email#132, age#133, coalesce(gender#134, cast(Unknown as string)) AS gender#277, country#135, signup_date#136, last_login#137, is_active#138, total_spent#139, preferences#140]\n",
      "                                       +- Filter atleastnnonnulls(1, email#132)\n",
      "                                          +- Relation [customer_id#130,name#131,email#132,age#133,gender#134,country#135,signup_date#136,last_login#137,is_active#138,total_spent#139,preferences#140] csv\n",
      "\n",
      "== Analyzed Logical Plan ==\n",
      "country: string, total: bigint, avg_spent: double\n",
      "Aggregate [country#135], [country#135, count(1) AS total#752L, round(avg(total_spent#139), 2) AS avg_spent#753]\n",
      "+- Project [customer_id#130, email#132, age#385, gender#277, country#135, signup_date#136, last_login#137, is_active#138, total_spent#139, age_group#476, pref_newsletter#555, pref_notifications#557, pref_language#559, first_name#595, last_name#597]\n",
      "   +- Project [customer_id#130, name#131, email#132, age#385, gender#277, country#135, signup_date#136, last_login#137, is_active#138, total_spent#139, age_group#476, pref_newsletter#555, pref_notifications#557, pref_language#559, name_parts#583, first_name#595, name_parts#583.last_name AS last_name#597]\n",
      "      +- Project [customer_id#130, name#131, email#132, age#385, gender#277, country#135, signup_date#136, last_login#137, is_active#138, total_spent#139, age_group#476, pref_newsletter#555, pref_notifications#557, pref_language#559, name_parts#583, name_parts#583.first_name AS first_name#595]\n",
      "         +- Project [customer_id#130, name#131, email#132, age#385, gender#277, country#135, signup_date#136, last_login#137, is_active#138, total_spent#139, age_group#476, pref_newsletter#555, pref_notifications#557, pref_language#559, split_full_name(name#131)#582 AS name_parts#583]\n",
      "            +- Project [customer_id#130, name#131, email#132, age#385, gender#277, country#135, signup_date#136, last_login#137, is_active#138, total_spent#139, age_group#476, pref_newsletter#555, pref_notifications#557, pref_language#559]\n",
      "               +- Project [customer_id#130, name#131, email#132, age#385, gender#277, country#135, signup_date#136, last_login#137, is_active#138, total_spent#139, preferences#140, age_group#476, preferences_struct#551, pref_newsletter#555, pref_notifications#557, preferences_struct#551.language AS pref_language#559]\n",
      "                  +- Project [customer_id#130, name#131, email#132, age#385, gender#277, country#135, signup_date#136, last_login#137, is_active#138, total_spent#139, preferences#140, age_group#476, preferences_struct#551, pref_newsletter#555, preferences_struct#551.notifications AS pref_notifications#557]\n",
      "                     +- Project [customer_id#130, name#131, email#132, age#385, gender#277, country#135, signup_date#136, last_login#137, is_active#138, total_spent#139, preferences#140, age_group#476, preferences_struct#551, preferences_struct#551.newsletter AS pref_newsletter#555]\n",
      "                        +- Project [customer_id#130, name#131, email#132, age#385, gender#277, country#135, signup_date#136, last_login#137, is_active#138, total_spent#139, preferences#140, age_group#476, from_json(StructField(newsletter,BooleanType,true), StructField(notifications,StringType,true), StructField(language,StringType,true), preferences#140, Some(Etc/UTC), false) AS preferences_struct#551]\n",
      "                           +- Project [customer_id#130, name#131, email#132, age#385, gender#277, country#135, signup_date#136, last_login#137, is_active#138, total_spent#139, preferences#140, CASE WHEN (age#385 < cast(30 as double)) THEN Young WHEN ((age#385 >= cast(30 as double)) AND (age#385 < cast(60 as double))) THEN Adult ELSE Senior END AS age_group#476]\n",
      "                              +- Filter (isnotnull(total_spent#139) AND (total_spent#139 > cast(0 as double)))\n",
      "                                 +- Project [customer_id#130, name#131, email#132, coalesce(nanvl(age#133, cast(null as double)), cast(50.0 as double)) AS age#385, gender#277, country#135, signup_date#136, last_login#137, is_active#138, total_spent#139, preferences#140]\n",
      "                                    +- Project [customer_id#130, name#131, email#132, age#133, coalesce(gender#134, cast(Unknown as string)) AS gender#277, country#135, signup_date#136, last_login#137, is_active#138, total_spent#139, preferences#140]\n",
      "                                       +- Filter atleastnnonnulls(1, email#132)\n",
      "                                          +- Relation [customer_id#130,name#131,email#132,age#133,gender#134,country#135,signup_date#136,last_login#137,is_active#138,total_spent#139,preferences#140] csv\n",
      "\n",
      "== Optimized Logical Plan ==\n",
      "Aggregate [country#135], [country#135, count(1) AS total#752L, round(avg(total_spent#139), 2) AS avg_spent#753]\n",
      "+- Project [country#135, total_spent#139]\n",
      "   +- Filter (atleastnnonnulls(1, email#132) AND (isnotnull(total_spent#139) AND (total_spent#139 > 0.0)))\n",
      "      +- Relation [customer_id#130,name#131,email#132,age#133,gender#134,country#135,signup_date#136,last_login#137,is_active#138,total_spent#139,preferences#140] csv\n",
      "\n",
      "== Physical Plan ==\n",
      "AdaptiveSparkPlan isFinalPlan=false\n",
      "+- HashAggregate(keys=[country#135], functions=[count(1), avg(total_spent#139)], output=[country#135, total#752L, avg_spent#753])\n",
      "   +- Exchange hashpartitioning(country#135, 200), ENSURE_REQUIREMENTS, [plan_id=671]\n",
      "      +- HashAggregate(keys=[country#135], functions=[partial_count(1), partial_avg(total_spent#139)], output=[country#135, count#774L, sum#775, count#776L])\n",
      "         +- Project [country#135, total_spent#139]\n",
      "            +- Filter ((atleastnnonnulls(1, email#132) AND isnotnull(total_spent#139)) AND (total_spent#139 > 0.0))\n",
      "               +- FileScan csv [email#132,country#135,total_spent#139] Batched: false, DataFilters: [atleastnnonnulls(1, email#132), isnotnull(total_spent#139), (total_spent#139 > 0.0)], Format: CSV, Location: InMemoryFileIndex(1 paths)[file:/workspaces/trng-2286/datasets/raw_customer_data.csv], PartitionFilters: [], PushedFilters: [IsNotNull(total_spent), GreaterThan(total_spent,0.0)], ReadSchema: struct<email:string,country:string,total_spent:double>\n",
      "\n"
     ]
    }
   ],
   "source": [
    "df_plan = df_final.groupBy(\"country\").agg(\n",
    "    count(\"*\").alias(\"total\"),\n",
    "    round(avg(\"total_spent\"), 2).alias(\"avg_spent\")\n",
    ").explain(True)\n",
    "\n",
    "df_plan"
   ]
  },
  {
   "cell_type": "code",
   "execution_count": 59,
   "id": "635a2021",
   "metadata": {},
   "outputs": [
    {
     "data": {
      "text/plain": [
       "True"
      ]
     },
     "execution_count": 59,
     "metadata": {},
     "output_type": "execute_result"
    }
   ],
   "source": [
    "sql_plan==df_plan"
   ]
  },
  {
   "cell_type": "markdown",
   "id": "58b75899",
   "metadata": {},
   "source": [
    "#### handiling json, arrays and maps"
   ]
  },
  {
   "cell_type": "code",
   "execution_count": 51,
   "id": "a30a4155",
   "metadata": {},
   "outputs": [
    {
     "name": "stdout",
     "output_type": "stream",
     "text": [
      "root\n",
      " |-- activities: array (nullable = true)\n",
      " |    |-- element: struct (containsNull = true)\n",
      " |    |    |-- date: string (nullable = true)\n",
      " |    |    |-- metrics: struct (nullable = true)\n",
      " |    |    |    |-- clicks: long (nullable = true)\n",
      " |    |    |    |-- time_spent: long (nullable = true)\n",
      " |    |    |-- pages: array (nullable = true)\n",
      " |    |    |    |-- element: string (containsNull = true)\n",
      " |-- name: string (nullable = true)\n",
      " |-- user_id: string (nullable = true)\n",
      "\n"
     ]
    }
   ],
   "source": [
    "users_df = spark.read.json(\"file:///workspaces/trng-2286/datasets/users.json\", multiLine=True)\n",
    "\n",
    "users_df.printSchema()"
   ]
  },
  {
   "cell_type": "code",
   "execution_count": 62,
   "id": "820dbb48",
   "metadata": {},
   "outputs": [
    {
     "name": "stdout",
     "output_type": "stream",
     "text": [
      "+--------------------------------------------------------------------------------------------+-----+-------+\n",
      "|activities                                                                                  |name |user_id|\n",
      "+--------------------------------------------------------------------------------------------+-----+-------+\n",
      "|[{2025-08-01, {5, 120}, [home, profile, settings]}, {2025-08-02, {3, 60}, [home, products]}]|Alice|u1     |\n",
      "|[{2025-08-01, {2, 30}, [home]}]                                                             |Bob  |u2     |\n",
      "+--------------------------------------------------------------------------------------------+-----+-------+\n",
      "\n"
     ]
    }
   ],
   "source": [
    "users_df.show(truncate=False)"
   ]
  },
  {
   "cell_type": "code",
   "execution_count": null,
   "id": "5304a074",
   "metadata": {},
   "outputs": [
    {
     "name": "stdout",
     "output_type": "stream",
     "text": [
      "+-----+-------+-------------------------------------------------+\n",
      "|name |user_id|activity                                         |\n",
      "+-----+-------+-------------------------------------------------+\n",
      "|Alice|u1     |{2025-08-01, {5, 120}, [home, profile, settings]}|\n",
      "|Alice|u1     |{2025-08-02, {3, 60}, [home, products]}          |\n",
      "|Bob  |u2     |{2025-08-01, {2, 30}, [home]}                    |\n",
      "+-----+-------+-------------------------------------------------+\n",
      "\n"
     ]
    }
   ],
   "source": [
    "# explode is used to flatten the arrays\n",
    "\n",
    "df_activities = users_df.withColumn(\"activity\", explode(\"activities\")).drop(\"activities\")\n",
    "\n",
    "df_activities.show(truncate=False)"
   ]
  },
  {
   "cell_type": "code",
   "execution_count": 65,
   "id": "c64260e0",
   "metadata": {},
   "outputs": [
    {
     "name": "stdout",
     "output_type": "stream",
     "text": [
      "+-----+-------+-------------------------------------------------+--------+\n",
      "|name |user_id|activity                                         |page    |\n",
      "+-----+-------+-------------------------------------------------+--------+\n",
      "|Alice|u1     |{2025-08-01, {5, 120}, [home, profile, settings]}|home    |\n",
      "|Alice|u1     |{2025-08-01, {5, 120}, [home, profile, settings]}|profile |\n",
      "|Alice|u1     |{2025-08-01, {5, 120}, [home, profile, settings]}|settings|\n",
      "|Alice|u1     |{2025-08-02, {3, 60}, [home, products]}          |home    |\n",
      "|Alice|u1     |{2025-08-02, {3, 60}, [home, products]}          |products|\n",
      "|Bob  |u2     |{2025-08-01, {2, 30}, [home]}                    |home    |\n",
      "+-----+-------+-------------------------------------------------+--------+\n",
      "\n"
     ]
    }
   ],
   "source": [
    "df_pages = df_activities.withColumn(\"page\", explode(\"activity.pages\"))\n",
    "\n",
    "df_pages.show(truncate=False)"
   ]
  },
  {
   "cell_type": "code",
   "execution_count": 68,
   "id": "684f7579",
   "metadata": {},
   "outputs": [
    {
     "name": "stdout",
     "output_type": "stream",
     "text": [
      "+-----+-------+--------------------+--------+----------+------+----------+\n",
      "| name|user_id|            activity|    page|      date|clicks|time_spent|\n",
      "+-----+-------+--------------------+--------+----------+------+----------+\n",
      "|Alice|     u1|{2025-08-01, {5, ...|    home|2025-08-01|     5|       120|\n",
      "|Alice|     u1|{2025-08-01, {5, ...| profile|2025-08-01|     5|       120|\n",
      "|Alice|     u1|{2025-08-01, {5, ...|settings|2025-08-01|     5|       120|\n",
      "|Alice|     u1|{2025-08-02, {3, ...|    home|2025-08-02|     3|        60|\n",
      "|Alice|     u1|{2025-08-02, {3, ...|products|2025-08-02|     3|        60|\n",
      "|  Bob|     u2|{2025-08-01, {2, ...|    home|2025-08-01|     2|        30|\n",
      "+-----+-------+--------------------+--------+----------+------+----------+\n",
      "\n"
     ]
    }
   ],
   "source": [
    "df_date_metrics = df_pages.withColumn(\"date\", col(\"activity.date\")) \\\n",
    "                            .withColumn(\"clicks\",col(\"activity.metrics.clicks\") ) \\\n",
    "                            .withColumn(\"time_spent\",col(\"activity.metrics.time_spent\") \\\n",
    "                                        )\n",
    "df_date_metrics.show()"
   ]
  },
  {
   "cell_type": "code",
   "execution_count": 69,
   "id": "c9f6eabc",
   "metadata": {},
   "outputs": [
    {
     "name": "stdout",
     "output_type": "stream",
     "text": [
      "+-----+-------+--------+----------+------+----------+\n",
      "| name|user_id|    page|      date|clicks|time_spent|\n",
      "+-----+-------+--------+----------+------+----------+\n",
      "|Alice|     u1|    home|2025-08-01|     5|       120|\n",
      "|Alice|     u1| profile|2025-08-01|     5|       120|\n",
      "|Alice|     u1|settings|2025-08-01|     5|       120|\n",
      "|Alice|     u1|    home|2025-08-02|     3|        60|\n",
      "|Alice|     u1|products|2025-08-02|     3|        60|\n",
      "|  Bob|     u2|    home|2025-08-01|     2|        30|\n",
      "+-----+-------+--------+----------+------+----------+\n",
      "\n"
     ]
    }
   ],
   "source": [
    "df_users_final = df_date_metrics.drop(\"activity\")\n",
    "\n",
    "df_users_final.show()"
   ]
  },
  {
   "cell_type": "code",
   "execution_count": null,
   "id": "54bccb82",
   "metadata": {},
   "outputs": [],
   "source": []
  }
 ],
 "metadata": {
  "kernelspec": {
   "display_name": "Python 3",
   "language": "python",
   "name": "python3"
  },
  "language_info": {
   "codemirror_mode": {
    "name": "ipython",
    "version": 3
   },
   "file_extension": ".py",
   "mimetype": "text/x-python",
   "name": "python",
   "nbconvert_exporter": "python",
   "pygments_lexer": "ipython3",
   "version": "3.12.1"
  }
 },
 "nbformat": 4,
 "nbformat_minor": 5
}
